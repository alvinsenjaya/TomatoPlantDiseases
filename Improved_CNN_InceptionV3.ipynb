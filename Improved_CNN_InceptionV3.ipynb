{
  "nbformat": 4,
  "nbformat_minor": 0,
  "metadata": {
    "colab": {
      "name": "Improved_CNN_InceptionV3.ipynb",
      "provenance": [],
      "toc_visible": true,
      "authorship_tag": "ABX9TyPyjrRKG/N/NX2+pZlxMBRA",
      "include_colab_link": true
    },
    "kernelspec": {
      "name": "python3",
      "display_name": "Python 3"
    },
    "accelerator": "GPU"
  },
  "cells": [
    {
      "cell_type": "markdown",
      "metadata": {
        "id": "view-in-github",
        "colab_type": "text"
      },
      "source": [
        "<a href=\"https://colab.research.google.com/github/alvinsenjaya/TomatoPlantDiseases/blob/master/Improved_CNN_InceptionV3.ipynb\" target=\"_parent\"><img src=\"https://colab.research.google.com/assets/colab-badge.svg\" alt=\"Open In Colab\"/></a>"
      ]
    },
    {
      "cell_type": "markdown",
      "metadata": {
        "id": "0CB3ymUq_xbl",
        "colab_type": "text"
      },
      "source": [
        "# **Import Required Libraries**"
      ]
    },
    {
      "cell_type": "code",
      "metadata": {
        "id": "YA4DqHkTHU8Q",
        "colab_type": "code",
        "colab": {}
      },
      "source": [
        "import os\n",
        "import tensorflow as tf\n",
        "import keras_preprocessing\n",
        "from keras_preprocessing import image\n",
        "from keras_preprocessing.image import ImageDataGenerator\n",
        "import matplotlib.pyplot as plt"
      ],
      "execution_count": 0,
      "outputs": []
    },
    {
      "cell_type": "markdown",
      "metadata": {
        "id": "TEfmO-5N_2lE",
        "colab_type": "text"
      },
      "source": [
        "# **Download Dataset**"
      ]
    },
    {
      "cell_type": "code",
      "metadata": {
        "id": "CZiv2ZYOFuJm",
        "colab_type": "code",
        "colab": {}
      },
      "source": [
        "os.environ['KAGGLE_USERNAME']=\"xxxxx\"\n",
        "os.environ['KAGGLE_KEY']=\"xxxxxxxxxxxxxxxxxxxxxx\""
      ],
      "execution_count": 0,
      "outputs": []
    },
    {
      "cell_type": "code",
      "metadata": {
        "id": "79ov0m65F1Oi",
        "colab_type": "code",
        "outputId": "0cd34428-b7cd-4ef6-9d6e-802378a8a994",
        "colab": {
          "base_uri": "https://localhost:8080/",
          "height": 68
        }
      },
      "source": [
        "!kaggle datasets download noulam/tomato"
      ],
      "execution_count": 0,
      "outputs": [
        {
          "output_type": "stream",
          "text": [
            "Downloading tomato.zip to /content\n",
            " 99% 737M/743M [00:06<00:00, 108MB/s]\n",
            "100% 743M/743M [00:06<00:00, 114MB/s]\n"
          ],
          "name": "stdout"
        }
      ]
    },
    {
      "cell_type": "code",
      "metadata": {
        "id": "r6BeaWYFGL4M",
        "colab_type": "code",
        "colab": {}
      },
      "source": [
        "!unzip tomato.zip"
      ],
      "execution_count": 0,
      "outputs": []
    },
    {
      "cell_type": "markdown",
      "metadata": {
        "id": "wU_wV1eF_79t",
        "colab_type": "text"
      },
      "source": [
        "# **Image Preprocessing**"
      ]
    },
    {
      "cell_type": "code",
      "metadata": {
        "id": "WBHtjQ0EGxqL",
        "colab_type": "code",
        "outputId": "4ad842d8-dee9-41a6-b9c2-5bccef4df9ec",
        "colab": {
          "base_uri": "https://localhost:8080/",
          "height": 51
        }
      },
      "source": [
        "TRAINING_DIR = '/content/New Plant Diseases Dataset(Augmented)/train/'\n",
        "training_datagen = ImageDataGenerator(\n",
        "    rescale = 1./255,\n",
        "    rotation_range=90,\n",
        "    width_shift_range=0.2,\n",
        "    height_shift_range=0.2,\n",
        "    shear_range=0.2,\n",
        "    zoom_range=0.2,\n",
        "    horizontal_flip=True,\n",
        "    fill_mode='nearest')\n",
        "\n",
        "VALIDATION_DIR = '/content/New Plant Diseases Dataset(Augmented)/valid/'\n",
        "validation_datagen = ImageDataGenerator(rescale = 1./255)\n",
        "\n",
        "train_generator = training_datagen.flow_from_directory(\n",
        "    TRAINING_DIR,\n",
        "    target_size=(256,256),\n",
        "    class_mode='categorical',\n",
        "    batch_size=128\n",
        ")\n",
        "\n",
        "validation_generator = validation_datagen.flow_from_directory(\n",
        "    VALIDATION_DIR,\n",
        "    target_size=(256,256),\n",
        "    class_mode='categorical',\n",
        "    batch_size=128\n",
        ")"
      ],
      "execution_count": 0,
      "outputs": [
        {
          "output_type": "stream",
          "text": [
            "Found 18345 images belonging to 10 classes.\n",
            "Found 4585 images belonging to 10 classes.\n"
          ],
          "name": "stdout"
        }
      ]
    },
    {
      "cell_type": "markdown",
      "metadata": {
        "id": "9RfLmCxrABDw",
        "colab_type": "text"
      },
      "source": [
        "# **Define Machine Learning Model**"
      ]
    },
    {
      "cell_type": "code",
      "metadata": {
        "id": "5V1gubbhi-Gj",
        "colab_type": "code",
        "outputId": "ccf00179-b0ae-47d1-ece2-4ecc8aa20d53",
        "colab": {
          "base_uri": "https://localhost:8080/",
          "height": 34
        }
      },
      "source": [
        "base_model = tf.keras.applications.InceptionV3(weights='imagenet', include_top=False, input_shape=(256,256,3))\n",
        "\n",
        "print(\"Number of layers in the base model: \", len(base_model.layers))"
      ],
      "execution_count": 0,
      "outputs": [
        {
          "output_type": "stream",
          "text": [
            "Number of layers in the base model:  311\n"
          ],
          "name": "stdout"
        }
      ]
    },
    {
      "cell_type": "code",
      "metadata": {
        "id": "xYaK8-Lli_Uh",
        "colab_type": "code",
        "outputId": "0af4fbd5-589f-4621-e528-9ce3775c6e49",
        "colab": {
          "base_uri": "https://localhost:8080/",
          "height": 1000
        }
      },
      "source": [
        "for i, layer in enumerate(base_model.layers):\n",
        "  print(i, layer.name)"
      ],
      "execution_count": 0,
      "outputs": [
        {
          "output_type": "stream",
          "text": [
            "0 input_1\n",
            "1 conv2d\n",
            "2 batch_normalization\n",
            "3 activation\n",
            "4 conv2d_1\n",
            "5 batch_normalization_1\n",
            "6 activation_1\n",
            "7 conv2d_2\n",
            "8 batch_normalization_2\n",
            "9 activation_2\n",
            "10 max_pooling2d\n",
            "11 conv2d_3\n",
            "12 batch_normalization_3\n",
            "13 activation_3\n",
            "14 conv2d_4\n",
            "15 batch_normalization_4\n",
            "16 activation_4\n",
            "17 max_pooling2d_1\n",
            "18 conv2d_8\n",
            "19 batch_normalization_8\n",
            "20 activation_8\n",
            "21 conv2d_6\n",
            "22 conv2d_9\n",
            "23 batch_normalization_6\n",
            "24 batch_normalization_9\n",
            "25 activation_6\n",
            "26 activation_9\n",
            "27 average_pooling2d\n",
            "28 conv2d_5\n",
            "29 conv2d_7\n",
            "30 conv2d_10\n",
            "31 conv2d_11\n",
            "32 batch_normalization_5\n",
            "33 batch_normalization_7\n",
            "34 batch_normalization_10\n",
            "35 batch_normalization_11\n",
            "36 activation_5\n",
            "37 activation_7\n",
            "38 activation_10\n",
            "39 activation_11\n",
            "40 mixed0\n",
            "41 conv2d_15\n",
            "42 batch_normalization_15\n",
            "43 activation_15\n",
            "44 conv2d_13\n",
            "45 conv2d_16\n",
            "46 batch_normalization_13\n",
            "47 batch_normalization_16\n",
            "48 activation_13\n",
            "49 activation_16\n",
            "50 average_pooling2d_1\n",
            "51 conv2d_12\n",
            "52 conv2d_14\n",
            "53 conv2d_17\n",
            "54 conv2d_18\n",
            "55 batch_normalization_12\n",
            "56 batch_normalization_14\n",
            "57 batch_normalization_17\n",
            "58 batch_normalization_18\n",
            "59 activation_12\n",
            "60 activation_14\n",
            "61 activation_17\n",
            "62 activation_18\n",
            "63 mixed1\n",
            "64 conv2d_22\n",
            "65 batch_normalization_22\n",
            "66 activation_22\n",
            "67 conv2d_20\n",
            "68 conv2d_23\n",
            "69 batch_normalization_20\n",
            "70 batch_normalization_23\n",
            "71 activation_20\n",
            "72 activation_23\n",
            "73 average_pooling2d_2\n",
            "74 conv2d_19\n",
            "75 conv2d_21\n",
            "76 conv2d_24\n",
            "77 conv2d_25\n",
            "78 batch_normalization_19\n",
            "79 batch_normalization_21\n",
            "80 batch_normalization_24\n",
            "81 batch_normalization_25\n",
            "82 activation_19\n",
            "83 activation_21\n",
            "84 activation_24\n",
            "85 activation_25\n",
            "86 mixed2\n",
            "87 conv2d_27\n",
            "88 batch_normalization_27\n",
            "89 activation_27\n",
            "90 conv2d_28\n",
            "91 batch_normalization_28\n",
            "92 activation_28\n",
            "93 conv2d_26\n",
            "94 conv2d_29\n",
            "95 batch_normalization_26\n",
            "96 batch_normalization_29\n",
            "97 activation_26\n",
            "98 activation_29\n",
            "99 max_pooling2d_2\n",
            "100 mixed3\n",
            "101 conv2d_34\n",
            "102 batch_normalization_34\n",
            "103 activation_34\n",
            "104 conv2d_35\n",
            "105 batch_normalization_35\n",
            "106 activation_35\n",
            "107 conv2d_31\n",
            "108 conv2d_36\n",
            "109 batch_normalization_31\n",
            "110 batch_normalization_36\n",
            "111 activation_31\n",
            "112 activation_36\n",
            "113 conv2d_32\n",
            "114 conv2d_37\n",
            "115 batch_normalization_32\n",
            "116 batch_normalization_37\n",
            "117 activation_32\n",
            "118 activation_37\n",
            "119 average_pooling2d_3\n",
            "120 conv2d_30\n",
            "121 conv2d_33\n",
            "122 conv2d_38\n",
            "123 conv2d_39\n",
            "124 batch_normalization_30\n",
            "125 batch_normalization_33\n",
            "126 batch_normalization_38\n",
            "127 batch_normalization_39\n",
            "128 activation_30\n",
            "129 activation_33\n",
            "130 activation_38\n",
            "131 activation_39\n",
            "132 mixed4\n",
            "133 conv2d_44\n",
            "134 batch_normalization_44\n",
            "135 activation_44\n",
            "136 conv2d_45\n",
            "137 batch_normalization_45\n",
            "138 activation_45\n",
            "139 conv2d_41\n",
            "140 conv2d_46\n",
            "141 batch_normalization_41\n",
            "142 batch_normalization_46\n",
            "143 activation_41\n",
            "144 activation_46\n",
            "145 conv2d_42\n",
            "146 conv2d_47\n",
            "147 batch_normalization_42\n",
            "148 batch_normalization_47\n",
            "149 activation_42\n",
            "150 activation_47\n",
            "151 average_pooling2d_4\n",
            "152 conv2d_40\n",
            "153 conv2d_43\n",
            "154 conv2d_48\n",
            "155 conv2d_49\n",
            "156 batch_normalization_40\n",
            "157 batch_normalization_43\n",
            "158 batch_normalization_48\n",
            "159 batch_normalization_49\n",
            "160 activation_40\n",
            "161 activation_43\n",
            "162 activation_48\n",
            "163 activation_49\n",
            "164 mixed5\n",
            "165 conv2d_54\n",
            "166 batch_normalization_54\n",
            "167 activation_54\n",
            "168 conv2d_55\n",
            "169 batch_normalization_55\n",
            "170 activation_55\n",
            "171 conv2d_51\n",
            "172 conv2d_56\n",
            "173 batch_normalization_51\n",
            "174 batch_normalization_56\n",
            "175 activation_51\n",
            "176 activation_56\n",
            "177 conv2d_52\n",
            "178 conv2d_57\n",
            "179 batch_normalization_52\n",
            "180 batch_normalization_57\n",
            "181 activation_52\n",
            "182 activation_57\n",
            "183 average_pooling2d_5\n",
            "184 conv2d_50\n",
            "185 conv2d_53\n",
            "186 conv2d_58\n",
            "187 conv2d_59\n",
            "188 batch_normalization_50\n",
            "189 batch_normalization_53\n",
            "190 batch_normalization_58\n",
            "191 batch_normalization_59\n",
            "192 activation_50\n",
            "193 activation_53\n",
            "194 activation_58\n",
            "195 activation_59\n",
            "196 mixed6\n",
            "197 conv2d_64\n",
            "198 batch_normalization_64\n",
            "199 activation_64\n",
            "200 conv2d_65\n",
            "201 batch_normalization_65\n",
            "202 activation_65\n",
            "203 conv2d_61\n",
            "204 conv2d_66\n",
            "205 batch_normalization_61\n",
            "206 batch_normalization_66\n",
            "207 activation_61\n",
            "208 activation_66\n",
            "209 conv2d_62\n",
            "210 conv2d_67\n",
            "211 batch_normalization_62\n",
            "212 batch_normalization_67\n",
            "213 activation_62\n",
            "214 activation_67\n",
            "215 average_pooling2d_6\n",
            "216 conv2d_60\n",
            "217 conv2d_63\n",
            "218 conv2d_68\n",
            "219 conv2d_69\n",
            "220 batch_normalization_60\n",
            "221 batch_normalization_63\n",
            "222 batch_normalization_68\n",
            "223 batch_normalization_69\n",
            "224 activation_60\n",
            "225 activation_63\n",
            "226 activation_68\n",
            "227 activation_69\n",
            "228 mixed7\n",
            "229 conv2d_72\n",
            "230 batch_normalization_72\n",
            "231 activation_72\n",
            "232 conv2d_73\n",
            "233 batch_normalization_73\n",
            "234 activation_73\n",
            "235 conv2d_70\n",
            "236 conv2d_74\n",
            "237 batch_normalization_70\n",
            "238 batch_normalization_74\n",
            "239 activation_70\n",
            "240 activation_74\n",
            "241 conv2d_71\n",
            "242 conv2d_75\n",
            "243 batch_normalization_71\n",
            "244 batch_normalization_75\n",
            "245 activation_71\n",
            "246 activation_75\n",
            "247 max_pooling2d_3\n",
            "248 mixed8\n",
            "249 conv2d_80\n",
            "250 batch_normalization_80\n",
            "251 activation_80\n",
            "252 conv2d_77\n",
            "253 conv2d_81\n",
            "254 batch_normalization_77\n",
            "255 batch_normalization_81\n",
            "256 activation_77\n",
            "257 activation_81\n",
            "258 conv2d_78\n",
            "259 conv2d_79\n",
            "260 conv2d_82\n",
            "261 conv2d_83\n",
            "262 average_pooling2d_7\n",
            "263 conv2d_76\n",
            "264 batch_normalization_78\n",
            "265 batch_normalization_79\n",
            "266 batch_normalization_82\n",
            "267 batch_normalization_83\n",
            "268 conv2d_84\n",
            "269 batch_normalization_76\n",
            "270 activation_78\n",
            "271 activation_79\n",
            "272 activation_82\n",
            "273 activation_83\n",
            "274 batch_normalization_84\n",
            "275 activation_76\n",
            "276 mixed9_0\n",
            "277 concatenate\n",
            "278 activation_84\n",
            "279 mixed9\n",
            "280 conv2d_89\n",
            "281 batch_normalization_89\n",
            "282 activation_89\n",
            "283 conv2d_86\n",
            "284 conv2d_90\n",
            "285 batch_normalization_86\n",
            "286 batch_normalization_90\n",
            "287 activation_86\n",
            "288 activation_90\n",
            "289 conv2d_87\n",
            "290 conv2d_88\n",
            "291 conv2d_91\n",
            "292 conv2d_92\n",
            "293 average_pooling2d_8\n",
            "294 conv2d_85\n",
            "295 batch_normalization_87\n",
            "296 batch_normalization_88\n",
            "297 batch_normalization_91\n",
            "298 batch_normalization_92\n",
            "299 conv2d_93\n",
            "300 batch_normalization_85\n",
            "301 activation_87\n",
            "302 activation_88\n",
            "303 activation_91\n",
            "304 activation_92\n",
            "305 batch_normalization_93\n",
            "306 activation_85\n",
            "307 mixed9_1\n",
            "308 concatenate_1\n",
            "309 activation_93\n",
            "310 mixed10\n"
          ],
          "name": "stdout"
        }
      ]
    },
    {
      "cell_type": "code",
      "metadata": {
        "id": "oP6DKewSjAas",
        "colab_type": "code",
        "colab": {}
      },
      "source": [
        "base_model.trainable = True\n",
        "\n",
        "fine_tune_at = 280\n",
        "for layer in base_model.layers[:fine_tune_at]:\n",
        "  layer.trainable =  False"
      ],
      "execution_count": 0,
      "outputs": []
    },
    {
      "cell_type": "code",
      "metadata": {
        "id": "LHxoXp8oJZG9",
        "colab_type": "code",
        "outputId": "247fc0a6-ec1c-4114-b0b6-bb9dade4d30b",
        "colab": {
          "base_uri": "https://localhost:8080/",
          "height": 323
        }
      },
      "source": [
        "model = tf.keras.models.Sequential([\n",
        "  base_model,\n",
        "  tf.keras.layers.Dropout(0.5),\n",
        "  tf.keras.layers.Flatten(),\n",
        "  tf.keras.layers.Dense(512, activation='relu'),\n",
        "  tf.keras.layers.Dense(10, activation='softmax')\n",
        "])\n",
        "\n",
        "model.summary()"
      ],
      "execution_count": 0,
      "outputs": [
        {
          "output_type": "stream",
          "text": [
            "Model: \"sequential\"\n",
            "_________________________________________________________________\n",
            "Layer (type)                 Output Shape              Param #   \n",
            "=================================================================\n",
            "inception_v3 (Model)         (None, 6, 6, 2048)        21802784  \n",
            "_________________________________________________________________\n",
            "dropout (Dropout)            (None, 6, 6, 2048)        0         \n",
            "_________________________________________________________________\n",
            "flatten (Flatten)            (None, 73728)             0         \n",
            "_________________________________________________________________\n",
            "dense (Dense)                (None, 512)               37749248  \n",
            "_________________________________________________________________\n",
            "dense_1 (Dense)              (None, 10)                5130      \n",
            "=================================================================\n",
            "Total params: 59,557,162\n",
            "Trainable params: 43,827,914\n",
            "Non-trainable params: 15,729,248\n",
            "_________________________________________________________________\n"
          ],
          "name": "stdout"
        }
      ]
    },
    {
      "cell_type": "markdown",
      "metadata": {
        "id": "Uyxc32X_AGxr",
        "colab_type": "text"
      },
      "source": [
        "# **Define Learning Parameter**"
      ]
    },
    {
      "cell_type": "code",
      "metadata": {
        "id": "m4md_AcCJmLP",
        "colab_type": "code",
        "colab": {}
      },
      "source": [
        "model.compile(loss = 'categorical_crossentropy', optimizer='adam', metrics=['accuracy'])"
      ],
      "execution_count": 0,
      "outputs": []
    },
    {
      "cell_type": "code",
      "metadata": {
        "id": "TLKECUaGVtVC",
        "colab_type": "code",
        "colab": {}
      },
      "source": [
        "class myCallback(tf.keras.callbacks.Callback):\n",
        "  def on_epoch_end(self, epoch, logs={}):\n",
        "    if(logs.get('accuracy')>0.999):\n",
        "      print(\"\\nReached 99.9% accuracy so cancelling training!\")\n",
        "      self.model.stop_training = True\n",
        "\n",
        "callbacks = myCallback()"
      ],
      "execution_count": 0,
      "outputs": []
    },
    {
      "cell_type": "markdown",
      "metadata": {
        "id": "KUBWHWfFAKT1",
        "colab_type": "text"
      },
      "source": [
        "# **Begin Training**"
      ]
    },
    {
      "cell_type": "code",
      "metadata": {
        "id": "OroSPil1Jtze",
        "colab_type": "code",
        "outputId": "d7d656ab-b53c-4cb9-e9dd-4fda2e96137e",
        "colab": {
          "base_uri": "https://localhost:8080/",
          "height": 1000
        }
      },
      "source": [
        "history = model.fit(train_generator, epochs=100, validation_data=validation_generator, callbacks=[callbacks])"
      ],
      "execution_count": 0,
      "outputs": [
        {
          "output_type": "stream",
          "text": [
            "Epoch 1/100\n",
            "144/144 [==============================] - 263s 2s/step - loss: 2.9503 - accuracy: 0.6923 - val_loss: 0.4912 - val_accuracy: 0.8351\n",
            "Epoch 2/100\n",
            "144/144 [==============================] - 259s 2s/step - loss: 0.3987 - accuracy: 0.8650 - val_loss: 0.3600 - val_accuracy: 0.8779\n",
            "Epoch 3/100\n",
            "144/144 [==============================] - 263s 2s/step - loss: 0.3150 - accuracy: 0.8928 - val_loss: 0.3365 - val_accuracy: 0.8857\n",
            "Epoch 4/100\n",
            "144/144 [==============================] - 259s 2s/step - loss: 0.2567 - accuracy: 0.9135 - val_loss: 0.2919 - val_accuracy: 0.9045\n",
            "Epoch 5/100\n",
            "144/144 [==============================] - 259s 2s/step - loss: 0.2281 - accuracy: 0.9227 - val_loss: 0.2562 - val_accuracy: 0.9125\n",
            "Epoch 6/100\n",
            "144/144 [==============================] - 259s 2s/step - loss: 0.2284 - accuracy: 0.9232 - val_loss: 0.2846 - val_accuracy: 0.9062\n",
            "Epoch 7/100\n",
            "144/144 [==============================] - 259s 2s/step - loss: 0.2041 - accuracy: 0.9283 - val_loss: 0.2147 - val_accuracy: 0.9272\n",
            "Epoch 8/100\n",
            "144/144 [==============================] - 258s 2s/step - loss: 0.1954 - accuracy: 0.9326 - val_loss: 0.2220 - val_accuracy: 0.9276\n",
            "Epoch 9/100\n",
            "144/144 [==============================] - 258s 2s/step - loss: 0.1759 - accuracy: 0.9403 - val_loss: 0.2161 - val_accuracy: 0.9289\n",
            "Epoch 10/100\n",
            "144/144 [==============================] - 258s 2s/step - loss: 0.1709 - accuracy: 0.9393 - val_loss: 0.2306 - val_accuracy: 0.9276\n",
            "Epoch 11/100\n",
            "144/144 [==============================] - 258s 2s/step - loss: 0.1736 - accuracy: 0.9399 - val_loss: 0.2064 - val_accuracy: 0.9359\n",
            "Epoch 12/100\n",
            "144/144 [==============================] - 258s 2s/step - loss: 0.1595 - accuracy: 0.9477 - val_loss: 0.1702 - val_accuracy: 0.9437\n",
            "Epoch 13/100\n",
            "144/144 [==============================] - 258s 2s/step - loss: 0.1570 - accuracy: 0.9460 - val_loss: 0.2094 - val_accuracy: 0.9322\n",
            "Epoch 14/100\n",
            "144/144 [==============================] - 258s 2s/step - loss: 0.1389 - accuracy: 0.9509 - val_loss: 0.1994 - val_accuracy: 0.9326\n",
            "Epoch 15/100\n",
            "144/144 [==============================] - 258s 2s/step - loss: 0.1311 - accuracy: 0.9562 - val_loss: 0.1855 - val_accuracy: 0.9350\n",
            "Epoch 16/100\n",
            "144/144 [==============================] - 259s 2s/step - loss: 0.1380 - accuracy: 0.9535 - val_loss: 0.1533 - val_accuracy: 0.9470\n",
            "Epoch 17/100\n",
            "144/144 [==============================] - 258s 2s/step - loss: 0.1279 - accuracy: 0.9552 - val_loss: 0.1353 - val_accuracy: 0.9542\n",
            "Epoch 18/100\n",
            "144/144 [==============================] - 258s 2s/step - loss: 0.1296 - accuracy: 0.9544 - val_loss: 0.1860 - val_accuracy: 0.9424\n",
            "Epoch 19/100\n",
            "144/144 [==============================] - 258s 2s/step - loss: 0.1187 - accuracy: 0.9587 - val_loss: 0.1381 - val_accuracy: 0.9531\n",
            "Epoch 20/100\n",
            "144/144 [==============================] - 258s 2s/step - loss: 0.1196 - accuracy: 0.9591 - val_loss: 0.1610 - val_accuracy: 0.9472\n",
            "Epoch 21/100\n",
            "144/144 [==============================] - 258s 2s/step - loss: 0.1186 - accuracy: 0.9580 - val_loss: 0.1646 - val_accuracy: 0.9455\n",
            "Epoch 22/100\n",
            "144/144 [==============================] - 258s 2s/step - loss: 0.1046 - accuracy: 0.9632 - val_loss: 0.1395 - val_accuracy: 0.9542\n",
            "Epoch 23/100\n",
            "144/144 [==============================] - 259s 2s/step - loss: 0.1125 - accuracy: 0.9621 - val_loss: 0.1237 - val_accuracy: 0.9579\n",
            "Epoch 24/100\n",
            "144/144 [==============================] - 260s 2s/step - loss: 0.1073 - accuracy: 0.9638 - val_loss: 0.1446 - val_accuracy: 0.9544\n",
            "Epoch 25/100\n",
            "144/144 [==============================] - 258s 2s/step - loss: 0.1137 - accuracy: 0.9612 - val_loss: 0.1860 - val_accuracy: 0.9402\n",
            "Epoch 26/100\n",
            "144/144 [==============================] - 257s 2s/step - loss: 0.1098 - accuracy: 0.9627 - val_loss: 0.1438 - val_accuracy: 0.9533\n",
            "Epoch 27/100\n",
            "144/144 [==============================] - 257s 2s/step - loss: 0.0972 - accuracy: 0.9669 - val_loss: 0.1859 - val_accuracy: 0.9450\n",
            "Epoch 28/100\n",
            "144/144 [==============================] - 258s 2s/step - loss: 0.1017 - accuracy: 0.9654 - val_loss: 0.1484 - val_accuracy: 0.9527\n",
            "Epoch 29/100\n",
            "144/144 [==============================] - 258s 2s/step - loss: 0.0935 - accuracy: 0.9689 - val_loss: 0.1406 - val_accuracy: 0.9527\n",
            "Epoch 30/100\n",
            "144/144 [==============================] - 258s 2s/step - loss: 0.0916 - accuracy: 0.9676 - val_loss: 0.1534 - val_accuracy: 0.9503\n",
            "Epoch 31/100\n",
            "144/144 [==============================] - 258s 2s/step - loss: 0.0971 - accuracy: 0.9676 - val_loss: 0.1436 - val_accuracy: 0.9527\n",
            "Epoch 32/100\n",
            "144/144 [==============================] - 258s 2s/step - loss: 0.0945 - accuracy: 0.9678 - val_loss: 0.1273 - val_accuracy: 0.9623\n",
            "Epoch 33/100\n",
            "144/144 [==============================] - 257s 2s/step - loss: 0.1006 - accuracy: 0.9663 - val_loss: 0.1637 - val_accuracy: 0.9505\n",
            "Epoch 34/100\n",
            "144/144 [==============================] - 259s 2s/step - loss: 0.1024 - accuracy: 0.9647 - val_loss: 0.1195 - val_accuracy: 0.9590\n",
            "Epoch 35/100\n",
            " 17/144 [==>...........................] - ETA: 3:28 - loss: 0.1008 - accuracy: 0.9646"
          ],
          "name": "stdout"
        },
        {
          "output_type": "error",
          "ename": "KeyboardInterrupt",
          "evalue": "ignored",
          "traceback": [
            "\u001b[0;31m---------------------------------------------------------------------------\u001b[0m",
            "\u001b[0;31mKeyboardInterrupt\u001b[0m                         Traceback (most recent call last)",
            "\u001b[0;32m<ipython-input-10-76e2943357fb>\u001b[0m in \u001b[0;36m<module>\u001b[0;34m()\u001b[0m\n\u001b[0;32m----> 1\u001b[0;31m \u001b[0mhistory\u001b[0m \u001b[0;34m=\u001b[0m \u001b[0mmodel\u001b[0m\u001b[0;34m.\u001b[0m\u001b[0mfit\u001b[0m\u001b[0;34m(\u001b[0m\u001b[0mtrain_generator\u001b[0m\u001b[0;34m,\u001b[0m \u001b[0mepochs\u001b[0m\u001b[0;34m=\u001b[0m\u001b[0;36m100\u001b[0m\u001b[0;34m,\u001b[0m \u001b[0mvalidation_data\u001b[0m\u001b[0;34m=\u001b[0m\u001b[0mvalidation_generator\u001b[0m\u001b[0;34m,\u001b[0m \u001b[0mcallbacks\u001b[0m\u001b[0;34m=\u001b[0m\u001b[0;34m[\u001b[0m\u001b[0mcallbacks\u001b[0m\u001b[0;34m]\u001b[0m\u001b[0;34m)\u001b[0m\u001b[0;34m\u001b[0m\u001b[0;34m\u001b[0m\u001b[0m\n\u001b[0m",
            "\u001b[0;32m/usr/local/lib/python3.6/dist-packages/tensorflow/python/keras/engine/training.py\u001b[0m in \u001b[0;36m_method_wrapper\u001b[0;34m(self, *args, **kwargs)\u001b[0m\n\u001b[1;32m     64\u001b[0m   \u001b[0;32mdef\u001b[0m \u001b[0m_method_wrapper\u001b[0m\u001b[0;34m(\u001b[0m\u001b[0mself\u001b[0m\u001b[0;34m,\u001b[0m \u001b[0;34m*\u001b[0m\u001b[0margs\u001b[0m\u001b[0;34m,\u001b[0m \u001b[0;34m**\u001b[0m\u001b[0mkwargs\u001b[0m\u001b[0;34m)\u001b[0m\u001b[0;34m:\u001b[0m\u001b[0;34m\u001b[0m\u001b[0;34m\u001b[0m\u001b[0m\n\u001b[1;32m     65\u001b[0m     \u001b[0;32mif\u001b[0m \u001b[0;32mnot\u001b[0m \u001b[0mself\u001b[0m\u001b[0;34m.\u001b[0m\u001b[0m_in_multi_worker_mode\u001b[0m\u001b[0;34m(\u001b[0m\u001b[0;34m)\u001b[0m\u001b[0;34m:\u001b[0m  \u001b[0;31m# pylint: disable=protected-access\u001b[0m\u001b[0;34m\u001b[0m\u001b[0;34m\u001b[0m\u001b[0m\n\u001b[0;32m---> 66\u001b[0;31m       \u001b[0;32mreturn\u001b[0m \u001b[0mmethod\u001b[0m\u001b[0;34m(\u001b[0m\u001b[0mself\u001b[0m\u001b[0;34m,\u001b[0m \u001b[0;34m*\u001b[0m\u001b[0margs\u001b[0m\u001b[0;34m,\u001b[0m \u001b[0;34m**\u001b[0m\u001b[0mkwargs\u001b[0m\u001b[0;34m)\u001b[0m\u001b[0;34m\u001b[0m\u001b[0;34m\u001b[0m\u001b[0m\n\u001b[0m\u001b[1;32m     67\u001b[0m \u001b[0;34m\u001b[0m\u001b[0m\n\u001b[1;32m     68\u001b[0m     \u001b[0;31m# Running inside `run_distribute_coordinator` already.\u001b[0m\u001b[0;34m\u001b[0m\u001b[0;34m\u001b[0m\u001b[0;34m\u001b[0m\u001b[0m\n",
            "\u001b[0;32m/usr/local/lib/python3.6/dist-packages/tensorflow/python/keras/engine/training.py\u001b[0m in \u001b[0;36mfit\u001b[0;34m(self, x, y, batch_size, epochs, verbose, callbacks, validation_split, validation_data, shuffle, class_weight, sample_weight, initial_epoch, steps_per_epoch, validation_steps, validation_batch_size, validation_freq, max_queue_size, workers, use_multiprocessing)\u001b[0m\n\u001b[1;32m    846\u001b[0m                 batch_size=batch_size):\n\u001b[1;32m    847\u001b[0m               \u001b[0mcallbacks\u001b[0m\u001b[0;34m.\u001b[0m\u001b[0mon_train_batch_begin\u001b[0m\u001b[0;34m(\u001b[0m\u001b[0mstep\u001b[0m\u001b[0;34m)\u001b[0m\u001b[0;34m\u001b[0m\u001b[0;34m\u001b[0m\u001b[0m\n\u001b[0;32m--> 848\u001b[0;31m               \u001b[0mtmp_logs\u001b[0m \u001b[0;34m=\u001b[0m \u001b[0mtrain_function\u001b[0m\u001b[0;34m(\u001b[0m\u001b[0miterator\u001b[0m\u001b[0;34m)\u001b[0m\u001b[0;34m\u001b[0m\u001b[0;34m\u001b[0m\u001b[0m\n\u001b[0m\u001b[1;32m    849\u001b[0m               \u001b[0;31m# Catch OutOfRangeError for Datasets of unknown size.\u001b[0m\u001b[0;34m\u001b[0m\u001b[0;34m\u001b[0m\u001b[0;34m\u001b[0m\u001b[0m\n\u001b[1;32m    850\u001b[0m               \u001b[0;31m# This blocks until the batch has finished executing.\u001b[0m\u001b[0;34m\u001b[0m\u001b[0;34m\u001b[0m\u001b[0;34m\u001b[0m\u001b[0m\n",
            "\u001b[0;32m/usr/local/lib/python3.6/dist-packages/tensorflow/python/eager/def_function.py\u001b[0m in \u001b[0;36m__call__\u001b[0;34m(self, *args, **kwds)\u001b[0m\n\u001b[1;32m    578\u001b[0m         \u001b[0mxla_context\u001b[0m\u001b[0;34m.\u001b[0m\u001b[0mExit\u001b[0m\u001b[0;34m(\u001b[0m\u001b[0;34m)\u001b[0m\u001b[0;34m\u001b[0m\u001b[0;34m\u001b[0m\u001b[0m\n\u001b[1;32m    579\u001b[0m     \u001b[0;32melse\u001b[0m\u001b[0;34m:\u001b[0m\u001b[0;34m\u001b[0m\u001b[0;34m\u001b[0m\u001b[0m\n\u001b[0;32m--> 580\u001b[0;31m       \u001b[0mresult\u001b[0m \u001b[0;34m=\u001b[0m \u001b[0mself\u001b[0m\u001b[0;34m.\u001b[0m\u001b[0m_call\u001b[0m\u001b[0;34m(\u001b[0m\u001b[0;34m*\u001b[0m\u001b[0margs\u001b[0m\u001b[0;34m,\u001b[0m \u001b[0;34m**\u001b[0m\u001b[0mkwds\u001b[0m\u001b[0;34m)\u001b[0m\u001b[0;34m\u001b[0m\u001b[0;34m\u001b[0m\u001b[0m\n\u001b[0m\u001b[1;32m    581\u001b[0m \u001b[0;34m\u001b[0m\u001b[0m\n\u001b[1;32m    582\u001b[0m     \u001b[0;32mif\u001b[0m \u001b[0mtracing_count\u001b[0m \u001b[0;34m==\u001b[0m \u001b[0mself\u001b[0m\u001b[0;34m.\u001b[0m\u001b[0m_get_tracing_count\u001b[0m\u001b[0;34m(\u001b[0m\u001b[0;34m)\u001b[0m\u001b[0;34m:\u001b[0m\u001b[0;34m\u001b[0m\u001b[0;34m\u001b[0m\u001b[0m\n",
            "\u001b[0;32m/usr/local/lib/python3.6/dist-packages/tensorflow/python/eager/def_function.py\u001b[0m in \u001b[0;36m_call\u001b[0;34m(self, *args, **kwds)\u001b[0m\n\u001b[1;32m    609\u001b[0m       \u001b[0;31m# In this case we have created variables on the first call, so we run the\u001b[0m\u001b[0;34m\u001b[0m\u001b[0;34m\u001b[0m\u001b[0;34m\u001b[0m\u001b[0m\n\u001b[1;32m    610\u001b[0m       \u001b[0;31m# defunned version which is guaranteed to never create variables.\u001b[0m\u001b[0;34m\u001b[0m\u001b[0;34m\u001b[0m\u001b[0;34m\u001b[0m\u001b[0m\n\u001b[0;32m--> 611\u001b[0;31m       \u001b[0;32mreturn\u001b[0m \u001b[0mself\u001b[0m\u001b[0;34m.\u001b[0m\u001b[0m_stateless_fn\u001b[0m\u001b[0;34m(\u001b[0m\u001b[0;34m*\u001b[0m\u001b[0margs\u001b[0m\u001b[0;34m,\u001b[0m \u001b[0;34m**\u001b[0m\u001b[0mkwds\u001b[0m\u001b[0;34m)\u001b[0m  \u001b[0;31m# pylint: disable=not-callable\u001b[0m\u001b[0;34m\u001b[0m\u001b[0;34m\u001b[0m\u001b[0m\n\u001b[0m\u001b[1;32m    612\u001b[0m     \u001b[0;32melif\u001b[0m \u001b[0mself\u001b[0m\u001b[0;34m.\u001b[0m\u001b[0m_stateful_fn\u001b[0m \u001b[0;32mis\u001b[0m \u001b[0;32mnot\u001b[0m \u001b[0;32mNone\u001b[0m\u001b[0;34m:\u001b[0m\u001b[0;34m\u001b[0m\u001b[0;34m\u001b[0m\u001b[0m\n\u001b[1;32m    613\u001b[0m       \u001b[0;31m# Release the lock early so that multiple threads can perform the call\u001b[0m\u001b[0;34m\u001b[0m\u001b[0;34m\u001b[0m\u001b[0;34m\u001b[0m\u001b[0m\n",
            "\u001b[0;32m/usr/local/lib/python3.6/dist-packages/tensorflow/python/eager/function.py\u001b[0m in \u001b[0;36m__call__\u001b[0;34m(self, *args, **kwargs)\u001b[0m\n\u001b[1;32m   2418\u001b[0m     \u001b[0;32mwith\u001b[0m \u001b[0mself\u001b[0m\u001b[0;34m.\u001b[0m\u001b[0m_lock\u001b[0m\u001b[0;34m:\u001b[0m\u001b[0;34m\u001b[0m\u001b[0;34m\u001b[0m\u001b[0m\n\u001b[1;32m   2419\u001b[0m       \u001b[0mgraph_function\u001b[0m\u001b[0;34m,\u001b[0m \u001b[0margs\u001b[0m\u001b[0;34m,\u001b[0m \u001b[0mkwargs\u001b[0m \u001b[0;34m=\u001b[0m \u001b[0mself\u001b[0m\u001b[0;34m.\u001b[0m\u001b[0m_maybe_define_function\u001b[0m\u001b[0;34m(\u001b[0m\u001b[0margs\u001b[0m\u001b[0;34m,\u001b[0m \u001b[0mkwargs\u001b[0m\u001b[0;34m)\u001b[0m\u001b[0;34m\u001b[0m\u001b[0;34m\u001b[0m\u001b[0m\n\u001b[0;32m-> 2420\u001b[0;31m     \u001b[0;32mreturn\u001b[0m \u001b[0mgraph_function\u001b[0m\u001b[0;34m.\u001b[0m\u001b[0m_filtered_call\u001b[0m\u001b[0;34m(\u001b[0m\u001b[0margs\u001b[0m\u001b[0;34m,\u001b[0m \u001b[0mkwargs\u001b[0m\u001b[0;34m)\u001b[0m  \u001b[0;31m# pylint: disable=protected-access\u001b[0m\u001b[0;34m\u001b[0m\u001b[0;34m\u001b[0m\u001b[0m\n\u001b[0m\u001b[1;32m   2421\u001b[0m \u001b[0;34m\u001b[0m\u001b[0m\n\u001b[1;32m   2422\u001b[0m   \u001b[0;34m@\u001b[0m\u001b[0mproperty\u001b[0m\u001b[0;34m\u001b[0m\u001b[0;34m\u001b[0m\u001b[0m\n",
            "\u001b[0;32m/usr/local/lib/python3.6/dist-packages/tensorflow/python/eager/function.py\u001b[0m in \u001b[0;36m_filtered_call\u001b[0;34m(self, args, kwargs)\u001b[0m\n\u001b[1;32m   1663\u001b[0m          if isinstance(t, (ops.Tensor,\n\u001b[1;32m   1664\u001b[0m                            resource_variable_ops.BaseResourceVariable))),\n\u001b[0;32m-> 1665\u001b[0;31m         self.captured_inputs)\n\u001b[0m\u001b[1;32m   1666\u001b[0m \u001b[0;34m\u001b[0m\u001b[0m\n\u001b[1;32m   1667\u001b[0m   \u001b[0;32mdef\u001b[0m \u001b[0m_call_flat\u001b[0m\u001b[0;34m(\u001b[0m\u001b[0mself\u001b[0m\u001b[0;34m,\u001b[0m \u001b[0margs\u001b[0m\u001b[0;34m,\u001b[0m \u001b[0mcaptured_inputs\u001b[0m\u001b[0;34m,\u001b[0m \u001b[0mcancellation_manager\u001b[0m\u001b[0;34m=\u001b[0m\u001b[0;32mNone\u001b[0m\u001b[0;34m)\u001b[0m\u001b[0;34m:\u001b[0m\u001b[0;34m\u001b[0m\u001b[0;34m\u001b[0m\u001b[0m\n",
            "\u001b[0;32m/usr/local/lib/python3.6/dist-packages/tensorflow/python/eager/function.py\u001b[0m in \u001b[0;36m_call_flat\u001b[0;34m(self, args, captured_inputs, cancellation_manager)\u001b[0m\n\u001b[1;32m   1744\u001b[0m       \u001b[0;31m# No tape is watching; skip to running the function.\u001b[0m\u001b[0;34m\u001b[0m\u001b[0;34m\u001b[0m\u001b[0;34m\u001b[0m\u001b[0m\n\u001b[1;32m   1745\u001b[0m       return self._build_call_outputs(self._inference_function.call(\n\u001b[0;32m-> 1746\u001b[0;31m           ctx, args, cancellation_manager=cancellation_manager))\n\u001b[0m\u001b[1;32m   1747\u001b[0m     forward_backward = self._select_forward_and_backward_functions(\n\u001b[1;32m   1748\u001b[0m         \u001b[0margs\u001b[0m\u001b[0;34m,\u001b[0m\u001b[0;34m\u001b[0m\u001b[0;34m\u001b[0m\u001b[0m\n",
            "\u001b[0;32m/usr/local/lib/python3.6/dist-packages/tensorflow/python/eager/function.py\u001b[0m in \u001b[0;36mcall\u001b[0;34m(self, ctx, args, cancellation_manager)\u001b[0m\n\u001b[1;32m    596\u001b[0m               \u001b[0minputs\u001b[0m\u001b[0;34m=\u001b[0m\u001b[0margs\u001b[0m\u001b[0;34m,\u001b[0m\u001b[0;34m\u001b[0m\u001b[0;34m\u001b[0m\u001b[0m\n\u001b[1;32m    597\u001b[0m               \u001b[0mattrs\u001b[0m\u001b[0;34m=\u001b[0m\u001b[0mattrs\u001b[0m\u001b[0;34m,\u001b[0m\u001b[0;34m\u001b[0m\u001b[0;34m\u001b[0m\u001b[0m\n\u001b[0;32m--> 598\u001b[0;31m               ctx=ctx)\n\u001b[0m\u001b[1;32m    599\u001b[0m         \u001b[0;32melse\u001b[0m\u001b[0;34m:\u001b[0m\u001b[0;34m\u001b[0m\u001b[0;34m\u001b[0m\u001b[0m\n\u001b[1;32m    600\u001b[0m           outputs = execute.execute_with_cancellation(\n",
            "\u001b[0;32m/usr/local/lib/python3.6/dist-packages/tensorflow/python/eager/execute.py\u001b[0m in \u001b[0;36mquick_execute\u001b[0;34m(op_name, num_outputs, inputs, attrs, ctx, name)\u001b[0m\n\u001b[1;32m     58\u001b[0m     \u001b[0mctx\u001b[0m\u001b[0;34m.\u001b[0m\u001b[0mensure_initialized\u001b[0m\u001b[0;34m(\u001b[0m\u001b[0;34m)\u001b[0m\u001b[0;34m\u001b[0m\u001b[0;34m\u001b[0m\u001b[0m\n\u001b[1;32m     59\u001b[0m     tensors = pywrap_tfe.TFE_Py_Execute(ctx._handle, device_name, op_name,\n\u001b[0;32m---> 60\u001b[0;31m                                         inputs, attrs, num_outputs)\n\u001b[0m\u001b[1;32m     61\u001b[0m   \u001b[0;32mexcept\u001b[0m \u001b[0mcore\u001b[0m\u001b[0;34m.\u001b[0m\u001b[0m_NotOkStatusException\u001b[0m \u001b[0;32mas\u001b[0m \u001b[0me\u001b[0m\u001b[0;34m:\u001b[0m\u001b[0;34m\u001b[0m\u001b[0;34m\u001b[0m\u001b[0m\n\u001b[1;32m     62\u001b[0m     \u001b[0;32mif\u001b[0m \u001b[0mname\u001b[0m \u001b[0;32mis\u001b[0m \u001b[0;32mnot\u001b[0m \u001b[0;32mNone\u001b[0m\u001b[0;34m:\u001b[0m\u001b[0;34m\u001b[0m\u001b[0;34m\u001b[0m\u001b[0m\n",
            "\u001b[0;31mKeyboardInterrupt\u001b[0m: "
          ]
        }
      ]
    },
    {
      "cell_type": "markdown",
      "metadata": {
        "id": "exhbGtNqAOMR",
        "colab_type": "text"
      },
      "source": [
        "# **Plot Training Results**"
      ]
    },
    {
      "cell_type": "code",
      "metadata": {
        "id": "fgRddGypJ-PM",
        "colab_type": "code",
        "colab": {}
      },
      "source": [
        "acc = history.history['accuracy']\n",
        "val_acc = history.history['val_accuracy']\n",
        "loss = history.history['loss']\n",
        "val_loss = history.history['val_loss']\n",
        "\n",
        "epochs = range(len(acc))\n",
        "\n",
        "plt.ylim(0.8, 1)\n",
        "plt.xlim(0, 35)\n",
        "plt.plot(epochs, acc, 'r', label='Training accuracy')\n",
        "plt.plot(epochs, val_acc, 'b', label='Validation accuracy')\n",
        "plt.title('Training and Validation Accuracy')\n",
        "plt.legend(loc=0)\n",
        "plt.figure()\n",
        "plt.show()\n",
        "\n",
        "plt.ylim(0, 0.5)\n",
        "plt.xlim(0, 35)\n",
        "plt.plot(epochs, loss, 'r', label='Training loss')\n",
        "plt.plot(epochs, val_loss, 'b', label='Validation loss')\n",
        "plt.title('Training and Validation Loss')\n",
        "plt.legend(loc=0)\n",
        "plt.figure()\n",
        "plt.show()"
      ],
      "execution_count": 0,
      "outputs": []
    },
    {
      "cell_type": "markdown",
      "metadata": {
        "id": "YU_WnrdZARqm",
        "colab_type": "text"
      },
      "source": [
        "# **Save Model**"
      ]
    },
    {
      "cell_type": "code",
      "metadata": {
        "id": "GsNf983i56fg",
        "colab_type": "code",
        "colab": {}
      },
      "source": [
        "export_path = \"/content/saved_model\"\n",
        "\n",
        "try: \n",
        "  os.mkdir(export_path) \n",
        "except OSError as error: \n",
        "  print(error) \n",
        "\n",
        "tf.keras.models.save_model(\n",
        "    model,\n",
        "    export_path,\n",
        "    overwrite=True,\n",
        "    include_optimizer=True,\n",
        "    save_format=None,\n",
        "    signatures=None,\n",
        "    options=None\n",
        ")\n",
        "\n",
        "print('\\nSaved model:')\n",
        "!ls -l {export_path}"
      ],
      "execution_count": 0,
      "outputs": []
    },
    {
      "cell_type": "markdown",
      "metadata": {
        "id": "q7B1xWYEAhRO",
        "colab_type": "text"
      },
      "source": [
        "# **Download Saved Model**"
      ]
    },
    {
      "cell_type": "code",
      "metadata": {
        "id": "CQqzQDapAkZJ",
        "colab_type": "code",
        "colab": {}
      },
      "source": [
        "!zip -r /content/saved_model.zip /content/saved_model"
      ],
      "execution_count": 0,
      "outputs": []
    },
    {
      "cell_type": "code",
      "metadata": {
        "id": "6qoVflybAleo",
        "colab_type": "code",
        "colab": {}
      },
      "source": [
        "files.download(\"/content/saved_model.zip\")"
      ],
      "execution_count": 0,
      "outputs": []
    },
    {
      "cell_type": "markdown",
      "metadata": {
        "id": "TMpvoyht8mfS",
        "colab_type": "text"
      },
      "source": [
        "# **Save to Google Drive**"
      ]
    },
    {
      "cell_type": "code",
      "metadata": {
        "id": "x7rMsKS-8ltG",
        "colab_type": "code",
        "colab": {}
      },
      "source": [
        "from google.colab import drive\n",
        "drive.mount('/content/gdrive/')"
      ],
      "execution_count": 0,
      "outputs": []
    },
    {
      "cell_type": "code",
      "metadata": {
        "id": "LWMC-SsT9pfq",
        "colab_type": "code",
        "colab": {}
      },
      "source": [
        "!cp saved_model.zip '/content/gdrive/My Drive/Saved Model/'"
      ],
      "execution_count": 0,
      "outputs": []
    },
    {
      "cell_type": "markdown",
      "metadata": {
        "id": "R2hue0PIAs_d",
        "colab_type": "text"
      },
      "source": [
        "# **Upload Saved Model**"
      ]
    },
    {
      "cell_type": "code",
      "metadata": {
        "id": "cku5_pQKCBhc",
        "colab_type": "code",
        "colab": {}
      },
      "source": [
        "uploaded = files.upload()\n",
        "!unzip /content/saved_model.zip\n",
        "model = tf.keras.models.load_model('/content/saved_model/')\n",
        "model.summary()"
      ],
      "execution_count": 0,
      "outputs": []
    },
    {
      "cell_type": "markdown",
      "metadata": {
        "id": "b002bdfHL8oO",
        "colab_type": "text"
      },
      "source": [
        "# **Upload Saved Model From Google Drive**"
      ]
    },
    {
      "cell_type": "code",
      "metadata": {
        "id": "FdZRa9NaMCMo",
        "colab_type": "code",
        "colab": {}
      },
      "source": [
        "from google.colab import drive\n",
        "drive.mount('/content/gdrive/')"
      ],
      "execution_count": 0,
      "outputs": []
    },
    {
      "cell_type": "code",
      "metadata": {
        "id": "lR6dq8kvMRHy",
        "colab_type": "code",
        "colab": {}
      },
      "source": [
        "!cp '/content/gdrive/My Drive/Saved Model/saved_model.zip' /content/\n",
        "!unzip /content/saved_model.zip\n",
        "model = tf.keras.models.load_model('/content/saved_model/')\n",
        "model.summary()"
      ],
      "execution_count": 0,
      "outputs": []
    },
    {
      "cell_type": "markdown",
      "metadata": {
        "id": "kAkWoG6AA4kN",
        "colab_type": "text"
      },
      "source": [
        "# **Try Classification**"
      ]
    },
    {
      "cell_type": "code",
      "metadata": {
        "id": "gqM8HjQjXSNo",
        "colab_type": "code",
        "colab": {}
      },
      "source": [
        "from google.colab import files\n",
        "\n",
        "file = files.upload()\n",
        "\n",
        "img = image.load_img(list(file.keys())[0], target_size=(256, 256))\n",
        "img = image.img_to_array(img)\n",
        "img = img.reshape(1, 256, 256, 3)\n",
        "img = img.astype('float32')\n",
        "img = img / 255.0\n",
        "result = model.predict(img)\n",
        "result = list(result[0]).index(max(result[0]))\n",
        "\n",
        "print(\"\\n\\nResult :\")\n",
        "\n",
        "if result == 0:\n",
        "  print(\"Bacterial Spot\")\n",
        "elif result == 1:\n",
        "  print(\"Early Blight\")\n",
        "elif result == 2:\n",
        "  print(\"Late Blight\")\n",
        "elif result == 3:\n",
        "  print(\"Leaf Mold\")\n",
        "elif result == 4:\n",
        "  print(\"Septoria Leaf Spot\")\n",
        "elif result == 5:\n",
        "  print(\"Spider Mites\")\n",
        "elif result == 6:\n",
        "  print(\"Target Spot\")\n",
        "elif result == 7:\n",
        "  print(\"Yellow Leaf Curl Virus\")\n",
        "elif result == 8:\n",
        "  print(\"Mosaic Virus\")\n",
        "else:\n",
        "  print(\"Healthy\")"
      ],
      "execution_count": 0,
      "outputs": []
    }
  ]
}