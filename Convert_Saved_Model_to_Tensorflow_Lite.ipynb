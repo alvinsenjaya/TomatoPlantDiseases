{
  "nbformat": 4,
  "nbformat_minor": 0,
  "metadata": {
    "colab": {
      "name": "Optimize Saved Model.ipynb",
      "provenance": [],
      "collapsed_sections": [],
      "toc_visible": true,
      "authorship_tag": "ABX9TyN43rEOMeAgDQ8PeScjZpgz",
      "include_colab_link": true
    },
    "kernelspec": {
      "name": "python3",
      "display_name": "Python 3"
    },
    "accelerator": "GPU"
  },
  "cells": [
    {
      "cell_type": "markdown",
      "metadata": {
        "id": "view-in-github",
        "colab_type": "text"
      },
      "source": [
        "<a href=\"https://colab.research.google.com/github/alvinsenjaya/TomatoPlantDiseases/blob/master/Optimize_Saved_Model.ipynb\" target=\"_parent\"><img src=\"https://colab.research.google.com/assets/colab-badge.svg\" alt=\"Open In Colab\"/></a>"
      ]
    },
    {
      "cell_type": "markdown",
      "metadata": {
        "id": "0CB3ymUq_xbl",
        "colab_type": "text"
      },
      "source": [
        "# **Import Required Libraries**"
      ]
    },
    {
      "cell_type": "code",
      "metadata": {
        "id": "zNVaZas4mBMm",
        "colab_type": "code",
        "colab": {}
      },
      "source": [
        "import os\n",
        "import tensorflow as tf\n",
        "import keras_preprocessing\n",
        "from keras_preprocessing import image\n",
        "from keras_preprocessing.image import ImageDataGenerator\n",
        "import matplotlib.pyplot as plt\n",
        "from google.colab import files"
      ],
      "execution_count": 0,
      "outputs": []
    },
    {
      "cell_type": "markdown",
      "metadata": {
        "id": "q6jnsiltoKB8",
        "colab_type": "text"
      },
      "source": [
        "# **Upload Saved Model**"
      ]
    },
    {
      "cell_type": "code",
      "metadata": {
        "id": "jvcCd44koMQ-",
        "colab_type": "code",
        "colab": {}
      },
      "source": [
        "uploaded = files.upload()\n",
        "!unzip /content/improved_cnn_inceptionv3.zip"
      ],
      "execution_count": 0,
      "outputs": []
    },
    {
      "cell_type": "markdown",
      "metadata": {
        "id": "b002bdfHL8oO",
        "colab_type": "text"
      },
      "source": [
        "# **Upload Saved Model From Google Drive**"
      ]
    },
    {
      "cell_type": "code",
      "metadata": {
        "id": "CiwBrLiTlTf-",
        "colab_type": "code",
        "colab": {}
      },
      "source": [
        "from google.colab import drive\n",
        "drive.mount('/content/gdrive/')"
      ],
      "execution_count": 0,
      "outputs": []
    },
    {
      "cell_type": "code",
      "metadata": {
        "id": "UqCgWElulVR_",
        "colab_type": "code",
        "colab": {
          "base_uri": "https://localhost:8080/",
          "height": 153
        },
        "outputId": "47c3900c-f6c4-4a0e-c804-bfbe49654782"
      },
      "source": [
        "!cp '/content/gdrive/My Drive/Saved Model/improved_cnn_inceptionv3.zip' /content/\n",
        "!unzip /content/improved_cnn_inceptionv3.zip"
      ],
      "execution_count": 4,
      "outputs": [
        {
          "output_type": "stream",
          "text": [
            "Archive:  /content/improved_cnn_inceptionv3.zip\n",
            "   creating: content/improved_cnn_inceptionv3/\n",
            "  inflating: content/improved_cnn_inceptionv3/saved_model.pb  \n",
            "   creating: content/improved_cnn_inceptionv3/assets/\n",
            "   creating: content/improved_cnn_inceptionv3/variables/\n",
            "  inflating: content/improved_cnn_inceptionv3/variables/variables.index  \n",
            "  inflating: content/improved_cnn_inceptionv3/variables/variables.data-00000-of-00002  \n",
            "  inflating: content/improved_cnn_inceptionv3/variables/variables.data-00001-of-00002  \n"
          ],
          "name": "stdout"
        }
      ]
    },
    {
      "cell_type": "code",
      "metadata": {
        "id": "s6XcYH8cmKbd",
        "colab_type": "code",
        "colab": {
          "base_uri": "https://localhost:8080/",
          "height": 357
        },
        "outputId": "fa322dbe-a62f-431d-f3a6-e0616b9d5146"
      },
      "source": [
        "model = tf.keras.models.load_model('/content/content/improved_cnn_inceptionv3/')\n",
        "model.summary()"
      ],
      "execution_count": 5,
      "outputs": [
        {
          "output_type": "stream",
          "text": [
            "Model: \"sequential_3\"\n",
            "_________________________________________________________________\n",
            "Layer (type)                 Output Shape              Param #   \n",
            "=================================================================\n",
            "inception_v3 (Model)         (None, 6, 6, 2048)        21802784  \n",
            "_________________________________________________________________\n",
            "dropout_6 (Dropout)          (None, 6, 6, 2048)        0         \n",
            "_________________________________________________________________\n",
            "flatten_3 (Flatten)          (None, 73728)             0         \n",
            "_________________________________________________________________\n",
            "dense_6 (Dense)              (None, 1024)              75498496  \n",
            "_________________________________________________________________\n",
            "dropout_7 (Dropout)          (None, 1024)              0         \n",
            "_________________________________________________________________\n",
            "dense_7 (Dense)              (None, 10)                10250     \n",
            "=================================================================\n",
            "Total params: 97,311,530\n",
            "Trainable params: 97,277,098\n",
            "Non-trainable params: 34,432\n",
            "_________________________________________________________________\n"
          ],
          "name": "stdout"
        }
      ]
    },
    {
      "cell_type": "markdown",
      "metadata": {
        "id": "any4jg6qtBVl",
        "colab_type": "text"
      },
      "source": [
        "# **Convert to Tensorflow Lite**"
      ]
    },
    {
      "cell_type": "code",
      "metadata": {
        "id": "3j26VbgStNk_",
        "colab_type": "code",
        "colab": {
          "base_uri": "https://localhost:8080/",
          "height": 34
        },
        "outputId": "4637da37-603c-483d-fa54-c9de17ba0e10"
      },
      "source": [
        "converter = tf.lite.TFLiteConverter.from_saved_model('/content/content/improved_cnn_inceptionv3/')\n",
        "tflite_model = converter.convert()\n",
        "open(\"improved_cnn_inceptionv3.tflite\", \"wb\").write(tflite_model)"
      ],
      "execution_count": 6,
      "outputs": [
        {
          "output_type": "execute_result",
          "data": {
            "text/plain": [
              "389142456"
            ]
          },
          "metadata": {
            "tags": []
          },
          "execution_count": 6
        }
      ]
    },
    {
      "cell_type": "markdown",
      "metadata": {
        "id": "yyg-P-wOmQP1",
        "colab_type": "text"
      },
      "source": [
        "# **Optimize Model using Tensorflow Lite**"
      ]
    },
    {
      "cell_type": "code",
      "metadata": {
        "id": "-nA5dmXgmUxU",
        "colab_type": "code",
        "colab": {
          "base_uri": "https://localhost:8080/",
          "height": 34
        },
        "outputId": "573a8f2f-4117-4d76-c369-de791557a8ae"
      },
      "source": [
        "converter = tf.lite.TFLiteConverter.from_saved_model('/content/content/improved_cnn_inceptionv3/')\n",
        "converter.optimizations = [tf.lite.Optimize.DEFAULT]\n",
        "tflite_quant_model = converter.convert()\n",
        "open(\"improved_cnn_inceptionv3_quantized.tflite\", \"wb\").write(tflite_quant_model)"
      ],
      "execution_count": 7,
      "outputs": [
        {
          "output_type": "execute_result",
          "data": {
            "text/plain": [
              "97372032"
            ]
          },
          "metadata": {
            "tags": []
          },
          "execution_count": 7
        }
      ]
    },
    {
      "cell_type": "markdown",
      "metadata": {
        "id": "Q2UmACAMxMUp",
        "colab_type": "text"
      },
      "source": [
        "# **Evaluate Model**"
      ]
    },
    {
      "cell_type": "code",
      "metadata": {
        "id": "NPBGkK7GxQXI",
        "colab_type": "code",
        "colab": {}
      },
      "source": [
        "os.environ['KAGGLE_USERNAME']=\"xxxxx\"\n",
        "os.environ['KAGGLE_KEY']=\"xxxxxxxxxxxxxxxx\""
      ],
      "execution_count": 0,
      "outputs": []
    },
    {
      "cell_type": "code",
      "metadata": {
        "id": "N0CZ0m9jxRsY",
        "colab_type": "code",
        "colab": {
          "base_uri": "https://localhost:8080/",
          "height": 68
        },
        "outputId": "951dc4cf-0feb-4e24-d49a-edf687e6c07a"
      },
      "source": [
        "!kaggle datasets download noulam/tomato"
      ],
      "execution_count": 12,
      "outputs": [
        {
          "output_type": "stream",
          "text": [
            "Downloading tomato.zip to /content\n",
            " 98% 729M/743M [00:12<00:00, 70.4MB/s]\n",
            "100% 743M/743M [00:12<00:00, 61.2MB/s]\n"
          ],
          "name": "stdout"
        }
      ]
    },
    {
      "cell_type": "code",
      "metadata": {
        "id": "zep37kyexSwp",
        "colab_type": "code",
        "colab": {}
      },
      "source": [
        "!unzip tomato.zip"
      ],
      "execution_count": 0,
      "outputs": []
    },
    {
      "cell_type": "code",
      "metadata": {
        "id": "e_Rh0UB9xUep",
        "colab_type": "code",
        "colab": {
          "base_uri": "https://localhost:8080/",
          "height": 34
        },
        "outputId": "1762fe5b-ca5c-4804-b051-4efc5a447a1c"
      },
      "source": [
        "VALIDATION_DIR = '/content/New Plant Diseases Dataset(Augmented)/valid/'\n",
        "validation_datagen = ImageDataGenerator(rescale = 1./255)\n",
        "\n",
        "\n",
        "validation_generator = validation_datagen.flow_from_directory(\n",
        "    VALIDATION_DIR,\n",
        "    target_size=(256,256),\n",
        "    class_mode='categorical',\n",
        "    batch_size=128\n",
        ")"
      ],
      "execution_count": 15,
      "outputs": [
        {
          "output_type": "stream",
          "text": [
            "Found 4585 images belonging to 10 classes.\n"
          ],
          "name": "stdout"
        }
      ]
    },
    {
      "cell_type": "code",
      "metadata": {
        "id": "mC6nm4WSxdfe",
        "colab_type": "code",
        "colab": {
          "base_uri": "https://localhost:8080/",
          "height": 51
        },
        "outputId": "ecc15863-9a43-4e48-e2f8-54ba591be809"
      },
      "source": [
        "model.evaluate(validation_generator)"
      ],
      "execution_count": 18,
      "outputs": [
        {
          "output_type": "stream",
          "text": [
            "36/36 [==============================] - 13s 352ms/step - loss: 0.1318 - accuracy: 0.9616\n"
          ],
          "name": "stdout"
        },
        {
          "output_type": "execute_result",
          "data": {
            "text/plain": [
              "[0.13177409768104553, 0.9616139531135559]"
            ]
          },
          "metadata": {
            "tags": []
          },
          "execution_count": 18
        }
      ]
    },
    {
      "cell_type": "code",
      "metadata": {
        "id": "fBfx1m4qx0GA",
        "colab_type": "code",
        "colab": {
          "base_uri": "https://localhost:8080/",
          "height": 136
        },
        "outputId": "fb88f304-8dd7-4459-f869-c2c944faba1f"
      },
      "source": [
        "tflite_interpreter = tf.lite.Interpreter(model_path='/content/improved_cnn_inceptionv3_quantized.tflite')\n",
        "\n",
        "input_details = tflite_interpreter.get_input_details()\n",
        "output_details = tflite_interpreter.get_output_details()\n",
        "\n",
        "print(\"== Input details ==\")\n",
        "print(\"shape:\", input_details[0]['shape'])\n",
        "print(\"type:\", input_details[0]['dtype'])\n",
        "print(\"\\n== Output details ==\")\n",
        "print(\"shape:\", output_details[0]['shape'])\n",
        "print(\"type:\", output_details[0]['dtype'])"
      ],
      "execution_count": 19,
      "outputs": [
        {
          "output_type": "stream",
          "text": [
            "== Input details ==\n",
            "shape: [  1 256 256   3]\n",
            "type: <class 'numpy.float32'>\n",
            "\n",
            "== Output details ==\n",
            "shape: [ 1 10]\n",
            "type: <class 'numpy.float32'>\n"
          ],
          "name": "stdout"
        }
      ]
    },
    {
      "cell_type": "code",
      "metadata": {
        "id": "54NVPlR3x4TC",
        "colab_type": "code",
        "colab": {
          "base_uri": "https://localhost:8080/",
          "height": 136
        },
        "outputId": "cf4b4f7c-d170-476c-cc8d-5c9fa6e75c2f"
      },
      "source": [
        "tflite_interpreter = tf.lite.Interpreter(model_path='/content/improved_cnn_inceptionv3.tflite')\n",
        "\n",
        "input_details = tflite_interpreter.get_input_details()\n",
        "output_details = tflite_interpreter.get_output_details()\n",
        "\n",
        "print(\"== Input details ==\")\n",
        "print(\"shape:\", input_details[0]['shape'])\n",
        "print(\"type:\", input_details[0]['dtype'])\n",
        "print(\"\\n== Output details ==\")\n",
        "print(\"shape:\", output_details[0]['shape'])\n",
        "print(\"type:\", output_details[0]['dtype'])"
      ],
      "execution_count": 21,
      "outputs": [
        {
          "output_type": "stream",
          "text": [
            "== Input details ==\n",
            "shape: [  1 256 256   3]\n",
            "type: <class 'numpy.float32'>\n",
            "\n",
            "== Output details ==\n",
            "shape: [ 1 10]\n",
            "type: <class 'numpy.float32'>\n"
          ],
          "name": "stdout"
        }
      ]
    },
    {
      "cell_type": "markdown",
      "metadata": {
        "id": "DG6LFxXapCKf",
        "colab_type": "text"
      },
      "source": [
        "# **Download Saved Model**"
      ]
    },
    {
      "cell_type": "code",
      "metadata": {
        "id": "s5hmbKqkpG9E",
        "colab_type": "code",
        "colab": {}
      },
      "source": [
        "files.download(\"/content/improved_cnn_inceptionv3.tflite\")"
      ],
      "execution_count": 0,
      "outputs": []
    },
    {
      "cell_type": "code",
      "metadata": {
        "id": "2S2_dQO9t9pR",
        "colab_type": "code",
        "colab": {}
      },
      "source": [
        "files.download(\"/content/improved_cnn_inceptionv3_quantized.tflite\")"
      ],
      "execution_count": 0,
      "outputs": []
    },
    {
      "cell_type": "markdown",
      "metadata": {
        "id": "TMpvoyht8mfS",
        "colab_type": "text"
      },
      "source": [
        "# **Save to Google Drive**"
      ]
    },
    {
      "cell_type": "code",
      "metadata": {
        "id": "FMX8uzvjo-Sf",
        "colab_type": "code",
        "colab": {}
      },
      "source": [
        "from google.colab import drive\n",
        "drive.mount('/content/gdrive/')"
      ],
      "execution_count": 0,
      "outputs": []
    },
    {
      "cell_type": "code",
      "metadata": {
        "id": "U2hD8h-QpAHP",
        "colab_type": "code",
        "colab": {}
      },
      "source": [
        "!cp '/content/improved_cnn_inceptionv3.tflite' '/content/gdrive/My Drive/Saved Model'"
      ],
      "execution_count": 0,
      "outputs": []
    },
    {
      "cell_type": "code",
      "metadata": {
        "id": "3aC12vFEuxcs",
        "colab_type": "code",
        "colab": {}
      },
      "source": [
        "!cp '/content/improved_cnn_inceptionv3_quantized.tflite' '/content/gdrive/My Drive/Saved Model'"
      ],
      "execution_count": 0,
      "outputs": []
    }
  ]
}
