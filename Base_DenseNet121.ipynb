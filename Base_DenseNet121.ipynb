{
  "nbformat": 4,
  "nbformat_minor": 0,
  "metadata": {
    "colab": {
      "name": "Base_DenseNet121.ipynb",
      "provenance": [],
      "toc_visible": true,
      "authorship_tag": "ABX9TyMCu3+puge2tkJj174C6//c",
      "include_colab_link": true
    },
    "kernelspec": {
      "name": "python3",
      "display_name": "Python 3"
    },
    "accelerator": "GPU"
  },
  "cells": [
    {
      "cell_type": "markdown",
      "metadata": {
        "id": "view-in-github",
        "colab_type": "text"
      },
      "source": [
        "<a href=\"https://colab.research.google.com/github/alvinsenjaya/TomatoPlantDiseases/blob/master/Base_DenseNet121.ipynb\" target=\"_parent\"><img src=\"https://colab.research.google.com/assets/colab-badge.svg\" alt=\"Open In Colab\"/></a>"
      ]
    },
    {
      "cell_type": "markdown",
      "metadata": {
        "id": "0CB3ymUq_xbl",
        "colab_type": "text"
      },
      "source": [
        "# **Import Required Libraries**"
      ]
    },
    {
      "cell_type": "code",
      "metadata": {
        "id": "YA4DqHkTHU8Q",
        "colab_type": "code",
        "colab": {}
      },
      "source": [
        "import os\n",
        "import tensorflow as tf\n",
        "import keras_preprocessing\n",
        "from keras_preprocessing import image\n",
        "from keras_preprocessing.image import ImageDataGenerator\n",
        "import matplotlib.pyplot as plt"
      ],
      "execution_count": null,
      "outputs": []
    },
    {
      "cell_type": "markdown",
      "metadata": {
        "id": "TEfmO-5N_2lE",
        "colab_type": "text"
      },
      "source": [
        "# **Download Dataset**"
      ]
    },
    {
      "cell_type": "code",
      "metadata": {
        "id": "CZiv2ZYOFuJm",
        "colab_type": "code",
        "colab": {}
      },
      "source": [
        "os.environ['KAGGLE_USERNAME']=\"xxxxx\"\n",
        "os.environ['KAGGLE_KEY']=\"xxxxxxxxxxxxxxxxxxxx\""
      ],
      "execution_count": null,
      "outputs": []
    },
    {
      "cell_type": "code",
      "metadata": {
        "id": "79ov0m65F1Oi",
        "colab_type": "code",
        "colab": {
          "base_uri": "https://localhost:8080/",
          "height": 68
        },
        "outputId": "d74a0586-0b6a-4826-e470-d062f4a3f1cf"
      },
      "source": [
        "!kaggle datasets download noulam/tomato"
      ],
      "execution_count": null,
      "outputs": [
        {
          "output_type": "stream",
          "text": [
            "Downloading tomato.zip to /content\n",
            " 98% 727M/743M [00:09<00:00, 102MB/s] \n",
            "100% 743M/743M [00:09<00:00, 83.2MB/s]\n"
          ],
          "name": "stdout"
        }
      ]
    },
    {
      "cell_type": "code",
      "metadata": {
        "id": "r6BeaWYFGL4M",
        "colab_type": "code",
        "colab": {}
      },
      "source": [
        "!unzip tomato.zip"
      ],
      "execution_count": null,
      "outputs": []
    },
    {
      "cell_type": "markdown",
      "metadata": {
        "id": "wU_wV1eF_79t",
        "colab_type": "text"
      },
      "source": [
        "# **Image Preprocessing**"
      ]
    },
    {
      "cell_type": "code",
      "metadata": {
        "id": "WBHtjQ0EGxqL",
        "colab_type": "code",
        "colab": {
          "base_uri": "https://localhost:8080/"
        },
        "outputId": "d0b98cdf-8188-426e-9d94-6f50427d72e2"
      },
      "source": [
        "TRAINING_DIR = '/content/New Plant Diseases Dataset(Augmented)/train/'\n",
        "training_datagen = ImageDataGenerator(\n",
        "    rescale = 1./255,\n",
        "    rotation_range=90,\n",
        "    width_shift_range=0.2,\n",
        "    height_shift_range=0.2,\n",
        "    shear_range=0.2,\n",
        "    zoom_range=0.2,\n",
        "    horizontal_flip=True,\n",
        "    fill_mode='nearest')\n",
        "\n",
        "VALIDATION_DIR = '/content/New Plant Diseases Dataset(Augmented)/valid/'\n",
        "validation_datagen = ImageDataGenerator(rescale = 1./255)\n",
        "\n",
        "train_generator = training_datagen.flow_from_directory(\n",
        "    TRAINING_DIR,\n",
        "    target_size=(256,256),\n",
        "    class_mode='categorical',\n",
        "    batch_size=128\n",
        ")\n",
        "\n",
        "validation_generator = validation_datagen.flow_from_directory(\n",
        "    VALIDATION_DIR,\n",
        "    target_size=(256,256),\n",
        "    class_mode='categorical',\n",
        "    batch_size=128\n",
        ")"
      ],
      "execution_count": null,
      "outputs": [
        {
          "output_type": "stream",
          "text": [
            "Found 18345 images belonging to 10 classes.\n",
            "Found 4585 images belonging to 10 classes.\n"
          ],
          "name": "stdout"
        }
      ]
    },
    {
      "cell_type": "markdown",
      "metadata": {
        "id": "9RfLmCxrABDw",
        "colab_type": "text"
      },
      "source": [
        "# **Define Machine Learning Model**"
      ]
    },
    {
      "cell_type": "code",
      "metadata": {
        "id": "5V1gubbhi-Gj",
        "colab_type": "code",
        "colab": {
          "base_uri": "https://localhost:8080/",
          "height": 88
        },
        "outputId": "57653f99-ca33-4c71-b7ef-ff00e9d0cf55"
      },
      "source": [
        "base_model = tf.keras.applications.DenseNet121(weights='imagenet', include_top=False, input_shape=(256,256,3))\n",
        "\n",
        "print(\"Number of layers in the base model: \", len(base_model.layers))"
      ],
      "execution_count": null,
      "outputs": [
        {
          "output_type": "stream",
          "text": [
            "Downloading data from https://storage.googleapis.com/tensorflow/keras-applications/densenet/densenet121_weights_tf_dim_ordering_tf_kernels_notop.h5\n",
            "29089792/29084464 [==============================] - 0s 0us/step\n",
            "Number of layers in the base model:  427\n"
          ],
          "name": "stdout"
        }
      ]
    },
    {
      "cell_type": "code",
      "metadata": {
        "id": "xYaK8-Lli_Uh",
        "colab_type": "code",
        "colab": {
          "base_uri": "https://localhost:8080/",
          "height": 1000
        },
        "outputId": "325baa04-1cf0-4a95-ea98-3de7eba36416"
      },
      "source": [
        "for i, layer in enumerate(base_model.layers):\n",
        "  print(i, layer.name)"
      ],
      "execution_count": null,
      "outputs": [
        {
          "output_type": "stream",
          "text": [
            "0 input_1\n",
            "1 zero_padding2d\n",
            "2 conv1/conv\n",
            "3 conv1/bn\n",
            "4 conv1/relu\n",
            "5 zero_padding2d_1\n",
            "6 pool1\n",
            "7 conv2_block1_0_bn\n",
            "8 conv2_block1_0_relu\n",
            "9 conv2_block1_1_conv\n",
            "10 conv2_block1_1_bn\n",
            "11 conv2_block1_1_relu\n",
            "12 conv2_block1_2_conv\n",
            "13 conv2_block1_concat\n",
            "14 conv2_block2_0_bn\n",
            "15 conv2_block2_0_relu\n",
            "16 conv2_block2_1_conv\n",
            "17 conv2_block2_1_bn\n",
            "18 conv2_block2_1_relu\n",
            "19 conv2_block2_2_conv\n",
            "20 conv2_block2_concat\n",
            "21 conv2_block3_0_bn\n",
            "22 conv2_block3_0_relu\n",
            "23 conv2_block3_1_conv\n",
            "24 conv2_block3_1_bn\n",
            "25 conv2_block3_1_relu\n",
            "26 conv2_block3_2_conv\n",
            "27 conv2_block3_concat\n",
            "28 conv2_block4_0_bn\n",
            "29 conv2_block4_0_relu\n",
            "30 conv2_block4_1_conv\n",
            "31 conv2_block4_1_bn\n",
            "32 conv2_block4_1_relu\n",
            "33 conv2_block4_2_conv\n",
            "34 conv2_block4_concat\n",
            "35 conv2_block5_0_bn\n",
            "36 conv2_block5_0_relu\n",
            "37 conv2_block5_1_conv\n",
            "38 conv2_block5_1_bn\n",
            "39 conv2_block5_1_relu\n",
            "40 conv2_block5_2_conv\n",
            "41 conv2_block5_concat\n",
            "42 conv2_block6_0_bn\n",
            "43 conv2_block6_0_relu\n",
            "44 conv2_block6_1_conv\n",
            "45 conv2_block6_1_bn\n",
            "46 conv2_block6_1_relu\n",
            "47 conv2_block6_2_conv\n",
            "48 conv2_block6_concat\n",
            "49 pool2_bn\n",
            "50 pool2_relu\n",
            "51 pool2_conv\n",
            "52 pool2_pool\n",
            "53 conv3_block1_0_bn\n",
            "54 conv3_block1_0_relu\n",
            "55 conv3_block1_1_conv\n",
            "56 conv3_block1_1_bn\n",
            "57 conv3_block1_1_relu\n",
            "58 conv3_block1_2_conv\n",
            "59 conv3_block1_concat\n",
            "60 conv3_block2_0_bn\n",
            "61 conv3_block2_0_relu\n",
            "62 conv3_block2_1_conv\n",
            "63 conv3_block2_1_bn\n",
            "64 conv3_block2_1_relu\n",
            "65 conv3_block2_2_conv\n",
            "66 conv3_block2_concat\n",
            "67 conv3_block3_0_bn\n",
            "68 conv3_block3_0_relu\n",
            "69 conv3_block3_1_conv\n",
            "70 conv3_block3_1_bn\n",
            "71 conv3_block3_1_relu\n",
            "72 conv3_block3_2_conv\n",
            "73 conv3_block3_concat\n",
            "74 conv3_block4_0_bn\n",
            "75 conv3_block4_0_relu\n",
            "76 conv3_block4_1_conv\n",
            "77 conv3_block4_1_bn\n",
            "78 conv3_block4_1_relu\n",
            "79 conv3_block4_2_conv\n",
            "80 conv3_block4_concat\n",
            "81 conv3_block5_0_bn\n",
            "82 conv3_block5_0_relu\n",
            "83 conv3_block5_1_conv\n",
            "84 conv3_block5_1_bn\n",
            "85 conv3_block5_1_relu\n",
            "86 conv3_block5_2_conv\n",
            "87 conv3_block5_concat\n",
            "88 conv3_block6_0_bn\n",
            "89 conv3_block6_0_relu\n",
            "90 conv3_block6_1_conv\n",
            "91 conv3_block6_1_bn\n",
            "92 conv3_block6_1_relu\n",
            "93 conv3_block6_2_conv\n",
            "94 conv3_block6_concat\n",
            "95 conv3_block7_0_bn\n",
            "96 conv3_block7_0_relu\n",
            "97 conv3_block7_1_conv\n",
            "98 conv3_block7_1_bn\n",
            "99 conv3_block7_1_relu\n",
            "100 conv3_block7_2_conv\n",
            "101 conv3_block7_concat\n",
            "102 conv3_block8_0_bn\n",
            "103 conv3_block8_0_relu\n",
            "104 conv3_block8_1_conv\n",
            "105 conv3_block8_1_bn\n",
            "106 conv3_block8_1_relu\n",
            "107 conv3_block8_2_conv\n",
            "108 conv3_block8_concat\n",
            "109 conv3_block9_0_bn\n",
            "110 conv3_block9_0_relu\n",
            "111 conv3_block9_1_conv\n",
            "112 conv3_block9_1_bn\n",
            "113 conv3_block9_1_relu\n",
            "114 conv3_block9_2_conv\n",
            "115 conv3_block9_concat\n",
            "116 conv3_block10_0_bn\n",
            "117 conv3_block10_0_relu\n",
            "118 conv3_block10_1_conv\n",
            "119 conv3_block10_1_bn\n",
            "120 conv3_block10_1_relu\n",
            "121 conv3_block10_2_conv\n",
            "122 conv3_block10_concat\n",
            "123 conv3_block11_0_bn\n",
            "124 conv3_block11_0_relu\n",
            "125 conv3_block11_1_conv\n",
            "126 conv3_block11_1_bn\n",
            "127 conv3_block11_1_relu\n",
            "128 conv3_block11_2_conv\n",
            "129 conv3_block11_concat\n",
            "130 conv3_block12_0_bn\n",
            "131 conv3_block12_0_relu\n",
            "132 conv3_block12_1_conv\n",
            "133 conv3_block12_1_bn\n",
            "134 conv3_block12_1_relu\n",
            "135 conv3_block12_2_conv\n",
            "136 conv3_block12_concat\n",
            "137 pool3_bn\n",
            "138 pool3_relu\n",
            "139 pool3_conv\n",
            "140 pool3_pool\n",
            "141 conv4_block1_0_bn\n",
            "142 conv4_block1_0_relu\n",
            "143 conv4_block1_1_conv\n",
            "144 conv4_block1_1_bn\n",
            "145 conv4_block1_1_relu\n",
            "146 conv4_block1_2_conv\n",
            "147 conv4_block1_concat\n",
            "148 conv4_block2_0_bn\n",
            "149 conv4_block2_0_relu\n",
            "150 conv4_block2_1_conv\n",
            "151 conv4_block2_1_bn\n",
            "152 conv4_block2_1_relu\n",
            "153 conv4_block2_2_conv\n",
            "154 conv4_block2_concat\n",
            "155 conv4_block3_0_bn\n",
            "156 conv4_block3_0_relu\n",
            "157 conv4_block3_1_conv\n",
            "158 conv4_block3_1_bn\n",
            "159 conv4_block3_1_relu\n",
            "160 conv4_block3_2_conv\n",
            "161 conv4_block3_concat\n",
            "162 conv4_block4_0_bn\n",
            "163 conv4_block4_0_relu\n",
            "164 conv4_block4_1_conv\n",
            "165 conv4_block4_1_bn\n",
            "166 conv4_block4_1_relu\n",
            "167 conv4_block4_2_conv\n",
            "168 conv4_block4_concat\n",
            "169 conv4_block5_0_bn\n",
            "170 conv4_block5_0_relu\n",
            "171 conv4_block5_1_conv\n",
            "172 conv4_block5_1_bn\n",
            "173 conv4_block5_1_relu\n",
            "174 conv4_block5_2_conv\n",
            "175 conv4_block5_concat\n",
            "176 conv4_block6_0_bn\n",
            "177 conv4_block6_0_relu\n",
            "178 conv4_block6_1_conv\n",
            "179 conv4_block6_1_bn\n",
            "180 conv4_block6_1_relu\n",
            "181 conv4_block6_2_conv\n",
            "182 conv4_block6_concat\n",
            "183 conv4_block7_0_bn\n",
            "184 conv4_block7_0_relu\n",
            "185 conv4_block7_1_conv\n",
            "186 conv4_block7_1_bn\n",
            "187 conv4_block7_1_relu\n",
            "188 conv4_block7_2_conv\n",
            "189 conv4_block7_concat\n",
            "190 conv4_block8_0_bn\n",
            "191 conv4_block8_0_relu\n",
            "192 conv4_block8_1_conv\n",
            "193 conv4_block8_1_bn\n",
            "194 conv4_block8_1_relu\n",
            "195 conv4_block8_2_conv\n",
            "196 conv4_block8_concat\n",
            "197 conv4_block9_0_bn\n",
            "198 conv4_block9_0_relu\n",
            "199 conv4_block9_1_conv\n",
            "200 conv4_block9_1_bn\n",
            "201 conv4_block9_1_relu\n",
            "202 conv4_block9_2_conv\n",
            "203 conv4_block9_concat\n",
            "204 conv4_block10_0_bn\n",
            "205 conv4_block10_0_relu\n",
            "206 conv4_block10_1_conv\n",
            "207 conv4_block10_1_bn\n",
            "208 conv4_block10_1_relu\n",
            "209 conv4_block10_2_conv\n",
            "210 conv4_block10_concat\n",
            "211 conv4_block11_0_bn\n",
            "212 conv4_block11_0_relu\n",
            "213 conv4_block11_1_conv\n",
            "214 conv4_block11_1_bn\n",
            "215 conv4_block11_1_relu\n",
            "216 conv4_block11_2_conv\n",
            "217 conv4_block11_concat\n",
            "218 conv4_block12_0_bn\n",
            "219 conv4_block12_0_relu\n",
            "220 conv4_block12_1_conv\n",
            "221 conv4_block12_1_bn\n",
            "222 conv4_block12_1_relu\n",
            "223 conv4_block12_2_conv\n",
            "224 conv4_block12_concat\n",
            "225 conv4_block13_0_bn\n",
            "226 conv4_block13_0_relu\n",
            "227 conv4_block13_1_conv\n",
            "228 conv4_block13_1_bn\n",
            "229 conv4_block13_1_relu\n",
            "230 conv4_block13_2_conv\n",
            "231 conv4_block13_concat\n",
            "232 conv4_block14_0_bn\n",
            "233 conv4_block14_0_relu\n",
            "234 conv4_block14_1_conv\n",
            "235 conv4_block14_1_bn\n",
            "236 conv4_block14_1_relu\n",
            "237 conv4_block14_2_conv\n",
            "238 conv4_block14_concat\n",
            "239 conv4_block15_0_bn\n",
            "240 conv4_block15_0_relu\n",
            "241 conv4_block15_1_conv\n",
            "242 conv4_block15_1_bn\n",
            "243 conv4_block15_1_relu\n",
            "244 conv4_block15_2_conv\n",
            "245 conv4_block15_concat\n",
            "246 conv4_block16_0_bn\n",
            "247 conv4_block16_0_relu\n",
            "248 conv4_block16_1_conv\n",
            "249 conv4_block16_1_bn\n",
            "250 conv4_block16_1_relu\n",
            "251 conv4_block16_2_conv\n",
            "252 conv4_block16_concat\n",
            "253 conv4_block17_0_bn\n",
            "254 conv4_block17_0_relu\n",
            "255 conv4_block17_1_conv\n",
            "256 conv4_block17_1_bn\n",
            "257 conv4_block17_1_relu\n",
            "258 conv4_block17_2_conv\n",
            "259 conv4_block17_concat\n",
            "260 conv4_block18_0_bn\n",
            "261 conv4_block18_0_relu\n",
            "262 conv4_block18_1_conv\n",
            "263 conv4_block18_1_bn\n",
            "264 conv4_block18_1_relu\n",
            "265 conv4_block18_2_conv\n",
            "266 conv4_block18_concat\n",
            "267 conv4_block19_0_bn\n",
            "268 conv4_block19_0_relu\n",
            "269 conv4_block19_1_conv\n",
            "270 conv4_block19_1_bn\n",
            "271 conv4_block19_1_relu\n",
            "272 conv4_block19_2_conv\n",
            "273 conv4_block19_concat\n",
            "274 conv4_block20_0_bn\n",
            "275 conv4_block20_0_relu\n",
            "276 conv4_block20_1_conv\n",
            "277 conv4_block20_1_bn\n",
            "278 conv4_block20_1_relu\n",
            "279 conv4_block20_2_conv\n",
            "280 conv4_block20_concat\n",
            "281 conv4_block21_0_bn\n",
            "282 conv4_block21_0_relu\n",
            "283 conv4_block21_1_conv\n",
            "284 conv4_block21_1_bn\n",
            "285 conv4_block21_1_relu\n",
            "286 conv4_block21_2_conv\n",
            "287 conv4_block21_concat\n",
            "288 conv4_block22_0_bn\n",
            "289 conv4_block22_0_relu\n",
            "290 conv4_block22_1_conv\n",
            "291 conv4_block22_1_bn\n",
            "292 conv4_block22_1_relu\n",
            "293 conv4_block22_2_conv\n",
            "294 conv4_block22_concat\n",
            "295 conv4_block23_0_bn\n",
            "296 conv4_block23_0_relu\n",
            "297 conv4_block23_1_conv\n",
            "298 conv4_block23_1_bn\n",
            "299 conv4_block23_1_relu\n",
            "300 conv4_block23_2_conv\n",
            "301 conv4_block23_concat\n",
            "302 conv4_block24_0_bn\n",
            "303 conv4_block24_0_relu\n",
            "304 conv4_block24_1_conv\n",
            "305 conv4_block24_1_bn\n",
            "306 conv4_block24_1_relu\n",
            "307 conv4_block24_2_conv\n",
            "308 conv4_block24_concat\n",
            "309 pool4_bn\n",
            "310 pool4_relu\n",
            "311 pool4_conv\n",
            "312 pool4_pool\n",
            "313 conv5_block1_0_bn\n",
            "314 conv5_block1_0_relu\n",
            "315 conv5_block1_1_conv\n",
            "316 conv5_block1_1_bn\n",
            "317 conv5_block1_1_relu\n",
            "318 conv5_block1_2_conv\n",
            "319 conv5_block1_concat\n",
            "320 conv5_block2_0_bn\n",
            "321 conv5_block2_0_relu\n",
            "322 conv5_block2_1_conv\n",
            "323 conv5_block2_1_bn\n",
            "324 conv5_block2_1_relu\n",
            "325 conv5_block2_2_conv\n",
            "326 conv5_block2_concat\n",
            "327 conv5_block3_0_bn\n",
            "328 conv5_block3_0_relu\n",
            "329 conv5_block3_1_conv\n",
            "330 conv5_block3_1_bn\n",
            "331 conv5_block3_1_relu\n",
            "332 conv5_block3_2_conv\n",
            "333 conv5_block3_concat\n",
            "334 conv5_block4_0_bn\n",
            "335 conv5_block4_0_relu\n",
            "336 conv5_block4_1_conv\n",
            "337 conv5_block4_1_bn\n",
            "338 conv5_block4_1_relu\n",
            "339 conv5_block4_2_conv\n",
            "340 conv5_block4_concat\n",
            "341 conv5_block5_0_bn\n",
            "342 conv5_block5_0_relu\n",
            "343 conv5_block5_1_conv\n",
            "344 conv5_block5_1_bn\n",
            "345 conv5_block5_1_relu\n",
            "346 conv5_block5_2_conv\n",
            "347 conv5_block5_concat\n",
            "348 conv5_block6_0_bn\n",
            "349 conv5_block6_0_relu\n",
            "350 conv5_block6_1_conv\n",
            "351 conv5_block6_1_bn\n",
            "352 conv5_block6_1_relu\n",
            "353 conv5_block6_2_conv\n",
            "354 conv5_block6_concat\n",
            "355 conv5_block7_0_bn\n",
            "356 conv5_block7_0_relu\n",
            "357 conv5_block7_1_conv\n",
            "358 conv5_block7_1_bn\n",
            "359 conv5_block7_1_relu\n",
            "360 conv5_block7_2_conv\n",
            "361 conv5_block7_concat\n",
            "362 conv5_block8_0_bn\n",
            "363 conv5_block8_0_relu\n",
            "364 conv5_block8_1_conv\n",
            "365 conv5_block8_1_bn\n",
            "366 conv5_block8_1_relu\n",
            "367 conv5_block8_2_conv\n",
            "368 conv5_block8_concat\n",
            "369 conv5_block9_0_bn\n",
            "370 conv5_block9_0_relu\n",
            "371 conv5_block9_1_conv\n",
            "372 conv5_block9_1_bn\n",
            "373 conv5_block9_1_relu\n",
            "374 conv5_block9_2_conv\n",
            "375 conv5_block9_concat\n",
            "376 conv5_block10_0_bn\n",
            "377 conv5_block10_0_relu\n",
            "378 conv5_block10_1_conv\n",
            "379 conv5_block10_1_bn\n",
            "380 conv5_block10_1_relu\n",
            "381 conv5_block10_2_conv\n",
            "382 conv5_block10_concat\n",
            "383 conv5_block11_0_bn\n",
            "384 conv5_block11_0_relu\n",
            "385 conv5_block11_1_conv\n",
            "386 conv5_block11_1_bn\n",
            "387 conv5_block11_1_relu\n",
            "388 conv5_block11_2_conv\n",
            "389 conv5_block11_concat\n",
            "390 conv5_block12_0_bn\n",
            "391 conv5_block12_0_relu\n",
            "392 conv5_block12_1_conv\n",
            "393 conv5_block12_1_bn\n",
            "394 conv5_block12_1_relu\n",
            "395 conv5_block12_2_conv\n",
            "396 conv5_block12_concat\n",
            "397 conv5_block13_0_bn\n",
            "398 conv5_block13_0_relu\n",
            "399 conv5_block13_1_conv\n",
            "400 conv5_block13_1_bn\n",
            "401 conv5_block13_1_relu\n",
            "402 conv5_block13_2_conv\n",
            "403 conv5_block13_concat\n",
            "404 conv5_block14_0_bn\n",
            "405 conv5_block14_0_relu\n",
            "406 conv5_block14_1_conv\n",
            "407 conv5_block14_1_bn\n",
            "408 conv5_block14_1_relu\n",
            "409 conv5_block14_2_conv\n",
            "410 conv5_block14_concat\n",
            "411 conv5_block15_0_bn\n",
            "412 conv5_block15_0_relu\n",
            "413 conv5_block15_1_conv\n",
            "414 conv5_block15_1_bn\n",
            "415 conv5_block15_1_relu\n",
            "416 conv5_block15_2_conv\n",
            "417 conv5_block15_concat\n",
            "418 conv5_block16_0_bn\n",
            "419 conv5_block16_0_relu\n",
            "420 conv5_block16_1_conv\n",
            "421 conv5_block16_1_bn\n",
            "422 conv5_block16_1_relu\n",
            "423 conv5_block16_2_conv\n",
            "424 conv5_block16_concat\n",
            "425 bn\n",
            "426 relu\n"
          ],
          "name": "stdout"
        }
      ]
    },
    {
      "cell_type": "code",
      "metadata": {
        "id": "oP6DKewSjAas",
        "colab_type": "code",
        "colab": {}
      },
      "source": [
        "base_model.trainable = True\n",
        "\n",
        "fine_tune_at = 313\n",
        "for layer in base_model.layers[:fine_tune_at]:\n",
        "  layer.trainable =  False"
      ],
      "execution_count": null,
      "outputs": []
    },
    {
      "cell_type": "code",
      "metadata": {
        "id": "LHxoXp8oJZG9",
        "colab_type": "code",
        "colab": {
          "base_uri": "https://localhost:8080/",
          "height": 323
        },
        "outputId": "59954ccd-4601-4079-e3e4-c5ba37389cb1"
      },
      "source": [
        "model = tf.keras.models.Sequential([\n",
        "  base_model,\n",
        "  tf.keras.layers.Dropout(0.5),\n",
        "  tf.keras.layers.Flatten(),\n",
        "  tf.keras.layers.Dense(512, activation='relu'),\n",
        "  tf.keras.layers.Dense(10, activation='softmax')\n",
        "])\n",
        "\n",
        "model.summary()"
      ],
      "execution_count": null,
      "outputs": [
        {
          "output_type": "stream",
          "text": [
            "Model: \"sequential\"\n",
            "_________________________________________________________________\n",
            "Layer (type)                 Output Shape              Param #   \n",
            "=================================================================\n",
            "densenet121 (Model)          (None, 8, 8, 1024)        7037504   \n",
            "_________________________________________________________________\n",
            "dropout (Dropout)            (None, 8, 8, 1024)        0         \n",
            "_________________________________________________________________\n",
            "flatten (Flatten)            (None, 65536)             0         \n",
            "_________________________________________________________________\n",
            "dense (Dense)                (None, 512)               33554944  \n",
            "_________________________________________________________________\n",
            "dense_1 (Dense)              (None, 10)                5130      \n",
            "=================================================================\n",
            "Total params: 40,597,578\n",
            "Trainable params: 35,720,202\n",
            "Non-trainable params: 4,877,376\n",
            "_________________________________________________________________\n"
          ],
          "name": "stdout"
        }
      ]
    },
    {
      "cell_type": "markdown",
      "metadata": {
        "id": "Uyxc32X_AGxr",
        "colab_type": "text"
      },
      "source": [
        "# **Define Learning Parameter**"
      ]
    },
    {
      "cell_type": "code",
      "metadata": {
        "id": "m4md_AcCJmLP",
        "colab_type": "code",
        "colab": {}
      },
      "source": [
        "model.compile(loss = 'categorical_crossentropy', optimizer='adam', metrics=['accuracy'])"
      ],
      "execution_count": null,
      "outputs": []
    },
    {
      "cell_type": "code",
      "metadata": {
        "id": "G2H5qshHs0bM",
        "colab_type": "code",
        "colab": {}
      },
      "source": [
        "class myCallback(tf.keras.callbacks.Callback):\n",
        "  def on_epoch_end(self, epoch, logs={}):\n",
        "    if(logs.get('accuracy')>0.999 or logs.get('val_accuracy')>0.999):\n",
        "      print(\"\\nReached 99.9% accuracy so cancelling training!\")\n",
        "      self.model.stop_training = True\n",
        "\n",
        "callbacks = myCallback()"
      ],
      "execution_count": null,
      "outputs": []
    },
    {
      "cell_type": "markdown",
      "metadata": {
        "id": "KUBWHWfFAKT1",
        "colab_type": "text"
      },
      "source": [
        "# **Begin Training**"
      ]
    },
    {
      "cell_type": "code",
      "metadata": {
        "id": "OroSPil1Jtze",
        "colab_type": "code",
        "colab": {
          "base_uri": "https://localhost:8080/",
          "height": 1000
        },
        "outputId": "520d20a5-80bb-4d23-9238-0ab3a321936c"
      },
      "source": [
        "history = model.fit(train_generator, epochs=100, validation_data=validation_generator, callbacks=[callbacks])"
      ],
      "execution_count": null,
      "outputs": [
        {
          "output_type": "stream",
          "text": [
            "Epoch 1/100\n",
            "144/144 [==============================] - 273s 2s/step - loss: 4.6423 - accuracy: 0.6682 - val_loss: 0.3615 - val_accuracy: 0.8720\n",
            "Epoch 2/100\n",
            "144/144 [==============================] - 273s 2s/step - loss: 0.2511 - accuracy: 0.9170 - val_loss: 0.4125 - val_accuracy: 0.8894\n",
            "Epoch 3/100\n",
            "144/144 [==============================] - 275s 2s/step - loss: 0.1786 - accuracy: 0.9412 - val_loss: 0.1868 - val_accuracy: 0.9468\n",
            "Epoch 4/100\n",
            "144/144 [==============================] - 270s 2s/step - loss: 0.1240 - accuracy: 0.9605 - val_loss: 0.1982 - val_accuracy: 0.9418\n",
            "Epoch 5/100\n",
            "144/144 [==============================] - 271s 2s/step - loss: 0.0980 - accuracy: 0.9673 - val_loss: 0.2172 - val_accuracy: 0.9352\n",
            "Epoch 6/100\n",
            "144/144 [==============================] - 270s 2s/step - loss: 0.0886 - accuracy: 0.9719 - val_loss: 0.2245 - val_accuracy: 0.9400\n",
            "Epoch 7/100\n",
            "144/144 [==============================] - 272s 2s/step - loss: 0.0810 - accuracy: 0.9746 - val_loss: 0.0925 - val_accuracy: 0.9697\n",
            "Epoch 8/100\n",
            "144/144 [==============================] - 278s 2s/step - loss: 0.0743 - accuracy: 0.9749 - val_loss: 0.1855 - val_accuracy: 0.9525\n",
            "Epoch 9/100\n",
            "144/144 [==============================] - 270s 2s/step - loss: 0.0633 - accuracy: 0.9792 - val_loss: 0.1472 - val_accuracy: 0.9599\n",
            "Epoch 10/100\n",
            "144/144 [==============================] - 274s 2s/step - loss: 0.0608 - accuracy: 0.9808 - val_loss: 0.0897 - val_accuracy: 0.9727\n",
            "Epoch 11/100\n",
            "144/144 [==============================] - 279s 2s/step - loss: 0.0610 - accuracy: 0.9801 - val_loss: 0.2064 - val_accuracy: 0.9418\n",
            "Epoch 12/100\n",
            "144/144 [==============================] - 275s 2s/step - loss: 0.0527 - accuracy: 0.9827 - val_loss: 0.0866 - val_accuracy: 0.9754\n",
            "Epoch 13/100\n",
            "144/144 [==============================] - 276s 2s/step - loss: 0.0518 - accuracy: 0.9819 - val_loss: 0.1175 - val_accuracy: 0.9664\n",
            "Epoch 14/100\n",
            "144/144 [==============================] - 272s 2s/step - loss: 0.0445 - accuracy: 0.9856 - val_loss: 0.6537 - val_accuracy: 0.8600\n",
            "Epoch 15/100\n",
            "144/144 [==============================] - 272s 2s/step - loss: 0.0460 - accuracy: 0.9859 - val_loss: 0.2384 - val_accuracy: 0.9420\n",
            "Epoch 16/100\n",
            "144/144 [==============================] - 271s 2s/step - loss: 0.0424 - accuracy: 0.9851 - val_loss: 0.0955 - val_accuracy: 0.9719\n",
            "Epoch 17/100\n",
            "144/144 [==============================] - 271s 2s/step - loss: 0.0526 - accuracy: 0.9825 - val_loss: 0.1653 - val_accuracy: 0.9610\n",
            "Epoch 18/100\n",
            "144/144 [==============================] - 274s 2s/step - loss: 0.0529 - accuracy: 0.9826 - val_loss: 0.1315 - val_accuracy: 0.9682\n",
            "Epoch 19/100\n",
            "144/144 [==============================] - 275s 2s/step - loss: 0.0479 - accuracy: 0.9858 - val_loss: 0.0908 - val_accuracy: 0.9736\n",
            "Epoch 20/100\n",
            "144/144 [==============================] - 276s 2s/step - loss: 0.0450 - accuracy: 0.9855 - val_loss: 0.1129 - val_accuracy: 0.9712\n",
            "Epoch 21/100\n",
            "144/144 [==============================] - 280s 2s/step - loss: 0.0454 - accuracy: 0.9854 - val_loss: 0.1493 - val_accuracy: 0.9668\n",
            "Epoch 22/100\n",
            "144/144 [==============================] - 281s 2s/step - loss: 0.0545 - accuracy: 0.9833 - val_loss: 0.0922 - val_accuracy: 0.9782\n",
            "Epoch 23/100\n",
            "144/144 [==============================] - 276s 2s/step - loss: 0.0903 - accuracy: 0.9747 - val_loss: 0.1567 - val_accuracy: 0.9734\n",
            "Epoch 24/100\n",
            "144/144 [==============================] - 274s 2s/step - loss: 0.0534 - accuracy: 0.9834 - val_loss: 0.1367 - val_accuracy: 0.9668\n",
            "Epoch 25/100\n",
            "144/144 [==============================] - 276s 2s/step - loss: 0.0521 - accuracy: 0.9829 - val_loss: 0.0898 - val_accuracy: 0.9775\n",
            "Epoch 26/100\n",
            "144/144 [==============================] - 275s 2s/step - loss: 0.0372 - accuracy: 0.9875 - val_loss: 0.0520 - val_accuracy: 0.9854\n",
            "Epoch 27/100\n",
            "144/144 [==============================] - 275s 2s/step - loss: 0.0419 - accuracy: 0.9874 - val_loss: 0.2736 - val_accuracy: 0.9426\n",
            "Epoch 28/100\n",
            "144/144 [==============================] - 277s 2s/step - loss: 0.0351 - accuracy: 0.9894 - val_loss: 0.1770 - val_accuracy: 0.9562\n",
            "Epoch 29/100\n",
            "144/144 [==============================] - 277s 2s/step - loss: 0.0332 - accuracy: 0.9893 - val_loss: 0.1475 - val_accuracy: 0.9601\n",
            "Epoch 30/100\n",
            "144/144 [==============================] - 271s 2s/step - loss: 0.0375 - accuracy: 0.9883 - val_loss: 0.2069 - val_accuracy: 0.9494\n",
            "Epoch 31/100\n",
            "144/144 [==============================] - 272s 2s/step - loss: 0.0362 - accuracy: 0.9887 - val_loss: 0.0601 - val_accuracy: 0.9830\n",
            "Epoch 32/100\n",
            "144/144 [==============================] - 276s 2s/step - loss: 0.0331 - accuracy: 0.9895 - val_loss: 0.1354 - val_accuracy: 0.9647\n",
            "Epoch 33/100\n",
            "144/144 [==============================] - 275s 2s/step - loss: 0.0288 - accuracy: 0.9908 - val_loss: 0.0656 - val_accuracy: 0.9845\n",
            "Epoch 34/100\n",
            "144/144 [==============================] - 278s 2s/step - loss: 0.0294 - accuracy: 0.9902 - val_loss: 0.0504 - val_accuracy: 0.9860\n",
            "Epoch 35/100\n",
            "144/144 [==============================] - 277s 2s/step - loss: 0.0386 - accuracy: 0.9887 - val_loss: 0.8571 - val_accuracy: 0.8955\n",
            "Epoch 36/100\n",
            "144/144 [==============================] - 276s 2s/step - loss: 0.0382 - accuracy: 0.9879 - val_loss: 0.1701 - val_accuracy: 0.9644\n",
            "Epoch 37/100\n",
            "144/144 [==============================] - 275s 2s/step - loss: 0.0292 - accuracy: 0.9900 - val_loss: 0.1772 - val_accuracy: 0.9647\n",
            "Epoch 38/100\n",
            "144/144 [==============================] - 272s 2s/step - loss: 0.0279 - accuracy: 0.9908 - val_loss: 0.1165 - val_accuracy: 0.9754\n",
            "Epoch 39/100\n",
            "144/144 [==============================] - 274s 2s/step - loss: 0.0288 - accuracy: 0.9910 - val_loss: 0.1659 - val_accuracy: 0.9684\n",
            "Epoch 40/100\n",
            "144/144 [==============================] - 274s 2s/step - loss: 0.0431 - accuracy: 0.9867 - val_loss: 0.1654 - val_accuracy: 0.9594\n",
            "Epoch 41/100\n",
            "144/144 [==============================] - 272s 2s/step - loss: 0.0321 - accuracy: 0.9902 - val_loss: 0.0933 - val_accuracy: 0.9767\n",
            "Epoch 42/100\n",
            "144/144 [==============================] - 274s 2s/step - loss: 0.0317 - accuracy: 0.9898 - val_loss: 0.0939 - val_accuracy: 0.9775\n",
            "Epoch 43/100\n",
            "144/144 [==============================] - 273s 2s/step - loss: 0.0286 - accuracy: 0.9916 - val_loss: 0.1988 - val_accuracy: 0.9586\n",
            "Epoch 44/100\n",
            "144/144 [==============================] - 275s 2s/step - loss: 0.0286 - accuracy: 0.9910 - val_loss: 0.0738 - val_accuracy: 0.9826\n",
            "Epoch 45/100\n",
            "144/144 [==============================] - 277s 2s/step - loss: 0.0340 - accuracy: 0.9897 - val_loss: 0.1179 - val_accuracy: 0.9703\n",
            "Epoch 46/100\n",
            "144/144 [==============================] - 277s 2s/step - loss: 0.0288 - accuracy: 0.9907 - val_loss: 0.0742 - val_accuracy: 0.9841\n",
            "Epoch 47/100\n",
            "144/144 [==============================] - 278s 2s/step - loss: 0.0290 - accuracy: 0.9910 - val_loss: 0.2007 - val_accuracy: 0.9566\n",
            "Epoch 48/100\n",
            "144/144 [==============================] - 275s 2s/step - loss: 0.0268 - accuracy: 0.9910 - val_loss: 0.2630 - val_accuracy: 0.9479\n",
            "Epoch 49/100\n",
            "144/144 [==============================] - 271s 2s/step - loss: 0.0280 - accuracy: 0.9914 - val_loss: 0.2732 - val_accuracy: 0.9479\n",
            "Epoch 50/100\n",
            "144/144 [==============================] - 273s 2s/step - loss: 0.0291 - accuracy: 0.9908 - val_loss: 0.1665 - val_accuracy: 0.9658\n",
            "Epoch 51/100\n",
            "144/144 [==============================] - 276s 2s/step - loss: 0.0237 - accuracy: 0.9925 - val_loss: 0.1377 - val_accuracy: 0.9677\n",
            "Epoch 52/100\n",
            "144/144 [==============================] - 275s 2s/step - loss: 0.0278 - accuracy: 0.9907 - val_loss: 0.1516 - val_accuracy: 0.9668\n",
            "Epoch 53/100\n",
            "144/144 [==============================] - 271s 2s/step - loss: 0.0269 - accuracy: 0.9916 - val_loss: 0.1497 - val_accuracy: 0.9699\n",
            "Epoch 54/100\n",
            "144/144 [==============================] - 275s 2s/step - loss: 0.0280 - accuracy: 0.9911 - val_loss: 0.0682 - val_accuracy: 0.9823\n",
            "Epoch 55/100\n",
            "144/144 [==============================] - 274s 2s/step - loss: 0.0269 - accuracy: 0.9912 - val_loss: 0.1935 - val_accuracy: 0.9629\n",
            "Epoch 56/100\n",
            "144/144 [==============================] - 274s 2s/step - loss: 0.0343 - accuracy: 0.9903 - val_loss: 0.1588 - val_accuracy: 0.9664\n",
            "Epoch 57/100\n",
            "144/144 [==============================] - 271s 2s/step - loss: 0.0156 - accuracy: 0.9941 - val_loss: 0.1045 - val_accuracy: 0.9769\n",
            "Epoch 58/100\n",
            "144/144 [==============================] - 271s 2s/step - loss: 0.0279 - accuracy: 0.9917 - val_loss: 0.1888 - val_accuracy: 0.9679\n",
            "Epoch 59/100\n",
            "144/144 [==============================] - 273s 2s/step - loss: 0.0216 - accuracy: 0.9938 - val_loss: 0.0666 - val_accuracy: 0.9847\n",
            "Epoch 60/100\n",
            "144/144 [==============================] - 276s 2s/step - loss: 0.0255 - accuracy: 0.9920 - val_loss: 0.1021 - val_accuracy: 0.9762\n",
            "Epoch 61/100\n",
            "144/144 [==============================] - 278s 2s/step - loss: 0.0281 - accuracy: 0.9926 - val_loss: 0.0573 - val_accuracy: 0.9858\n",
            "Epoch 62/100\n",
            "144/144 [==============================] - 277s 2s/step - loss: 0.0278 - accuracy: 0.9919 - val_loss: 0.1057 - val_accuracy: 0.9756\n",
            "Epoch 63/100\n",
            "144/144 [==============================] - 276s 2s/step - loss: 0.0218 - accuracy: 0.9930 - val_loss: 0.1744 - val_accuracy: 0.9605\n",
            "Epoch 64/100\n",
            "144/144 [==============================] - 275s 2s/step - loss: 0.0230 - accuracy: 0.9930 - val_loss: 0.0805 - val_accuracy: 0.9810\n",
            "Epoch 65/100\n",
            "144/144 [==============================] - 274s 2s/step - loss: 0.0179 - accuracy: 0.9940 - val_loss: 0.1251 - val_accuracy: 0.9727\n",
            "Epoch 66/100\n",
            "144/144 [==============================] - 272s 2s/step - loss: 0.0226 - accuracy: 0.9927 - val_loss: 0.1620 - val_accuracy: 0.9668\n",
            "Epoch 67/100\n",
            "144/144 [==============================] - 271s 2s/step - loss: 0.0264 - accuracy: 0.9914 - val_loss: 0.1809 - val_accuracy: 0.9677\n",
            "Epoch 68/100\n",
            "144/144 [==============================] - 277s 2s/step - loss: 0.0207 - accuracy: 0.9931 - val_loss: 0.1395 - val_accuracy: 0.9708\n",
            "Epoch 69/100\n",
            "144/144 [==============================] - 277s 2s/step - loss: 0.0260 - accuracy: 0.9916 - val_loss: 0.0990 - val_accuracy: 0.9762\n",
            "Epoch 70/100\n",
            "144/144 [==============================] - 277s 2s/step - loss: 0.0243 - accuracy: 0.9932 - val_loss: 0.2273 - val_accuracy: 0.9599\n",
            "Epoch 71/100\n",
            "144/144 [==============================] - 274s 2s/step - loss: 0.0229 - accuracy: 0.9932 - val_loss: 0.1780 - val_accuracy: 0.9668\n",
            "Epoch 72/100\n",
            "144/144 [==============================] - 273s 2s/step - loss: 0.0247 - accuracy: 0.9928 - val_loss: 0.0989 - val_accuracy: 0.9764\n",
            "Epoch 73/100\n",
            "144/144 [==============================] - 273s 2s/step - loss: 0.0182 - accuracy: 0.9948 - val_loss: 0.0705 - val_accuracy: 0.9828\n",
            "Epoch 74/100\n",
            "144/144 [==============================] - 274s 2s/step - loss: 0.0194 - accuracy: 0.9937 - val_loss: 0.0752 - val_accuracy: 0.9808\n",
            "Epoch 75/100\n",
            "144/144 [==============================] - 270s 2s/step - loss: 0.0255 - accuracy: 0.9925 - val_loss: 0.0632 - val_accuracy: 0.9860\n",
            "Epoch 76/100\n",
            "144/144 [==============================] - 270s 2s/step - loss: 0.0238 - accuracy: 0.9925 - val_loss: 0.0697 - val_accuracy: 0.9828\n",
            "Epoch 77/100\n",
            "144/144 [==============================] - 272s 2s/step - loss: 0.0226 - accuracy: 0.9929 - val_loss: 0.0416 - val_accuracy: 0.9887\n",
            "Epoch 78/100\n",
            "144/144 [==============================] - 270s 2s/step - loss: 0.0200 - accuracy: 0.9938 - val_loss: 0.0770 - val_accuracy: 0.9823\n",
            "Epoch 79/100\n",
            "144/144 [==============================] - 271s 2s/step - loss: 0.0212 - accuracy: 0.9938 - val_loss: 0.0700 - val_accuracy: 0.9841\n",
            "Epoch 80/100\n",
            "144/144 [==============================] - 275s 2s/step - loss: 0.0174 - accuracy: 0.9949 - val_loss: 0.2208 - val_accuracy: 0.9546\n",
            "Epoch 81/100\n",
            "144/144 [==============================] - 274s 2s/step - loss: 0.0527 - accuracy: 0.9876 - val_loss: 0.1629 - val_accuracy: 0.9647\n",
            "Epoch 82/100\n",
            "144/144 [==============================] - 273s 2s/step - loss: 0.0195 - accuracy: 0.9937 - val_loss: 0.0341 - val_accuracy: 0.9911\n",
            "Epoch 83/100\n",
            "144/144 [==============================] - 271s 2s/step - loss: 0.0221 - accuracy: 0.9942 - val_loss: 0.0906 - val_accuracy: 0.9786\n",
            "Epoch 84/100\n",
            "144/144 [==============================] - 270s 2s/step - loss: 0.0161 - accuracy: 0.9950 - val_loss: 0.0875 - val_accuracy: 0.9810\n",
            "Epoch 85/100\n",
            "144/144 [==============================] - 271s 2s/step - loss: 0.0218 - accuracy: 0.9941 - val_loss: 0.0280 - val_accuracy: 0.9937\n",
            "Epoch 86/100\n",
            "144/144 [==============================] - 270s 2s/step - loss: 0.0112 - accuracy: 0.9963 - val_loss: 0.1293 - val_accuracy: 0.9762\n",
            "Epoch 87/100\n",
            "144/144 [==============================] - 272s 2s/step - loss: 0.0164 - accuracy: 0.9950 - val_loss: 0.0801 - val_accuracy: 0.9817\n",
            "Epoch 88/100\n",
            "144/144 [==============================] - 273s 2s/step - loss: 0.0191 - accuracy: 0.9952 - val_loss: 0.0816 - val_accuracy: 0.9815\n",
            "Epoch 89/100\n",
            "144/144 [==============================] - 271s 2s/step - loss: 0.0180 - accuracy: 0.9949 - val_loss: 0.1491 - val_accuracy: 0.9725\n",
            "Epoch 90/100\n",
            "144/144 [==============================] - 273s 2s/step - loss: 0.0181 - accuracy: 0.9946 - val_loss: 0.1138 - val_accuracy: 0.9754\n",
            "Epoch 91/100\n",
            "144/144 [==============================] - 275s 2s/step - loss: 0.0192 - accuracy: 0.9944 - val_loss: 0.0736 - val_accuracy: 0.9847\n",
            "Epoch 92/100\n",
            "144/144 [==============================] - 273s 2s/step - loss: 0.0379 - accuracy: 0.9920 - val_loss: 0.1121 - val_accuracy: 0.9723\n",
            "Epoch 93/100\n",
            "144/144 [==============================] - 274s 2s/step - loss: 0.0258 - accuracy: 0.9930 - val_loss: 0.0498 - val_accuracy: 0.9871\n",
            "Epoch 94/100\n",
            "144/144 [==============================] - 279s 2s/step - loss: 0.0167 - accuracy: 0.9951 - val_loss: 0.0319 - val_accuracy: 0.9904\n",
            "Epoch 95/100\n",
            "144/144 [==============================] - 277s 2s/step - loss: 0.0109 - accuracy: 0.9967 - val_loss: 0.0562 - val_accuracy: 0.9871\n",
            "Epoch 96/100\n",
            "144/144 [==============================] - 271s 2s/step - loss: 0.0159 - accuracy: 0.9953 - val_loss: 0.0477 - val_accuracy: 0.9880\n",
            "Epoch 97/100\n",
            "144/144 [==============================] - 273s 2s/step - loss: 0.0120 - accuracy: 0.9959 - val_loss: 0.0815 - val_accuracy: 0.9854\n",
            "Epoch 98/100\n",
            "144/144 [==============================] - 274s 2s/step - loss: 0.0175 - accuracy: 0.9949 - val_loss: 0.0418 - val_accuracy: 0.9908\n",
            "Epoch 99/100\n",
            "144/144 [==============================] - 273s 2s/step - loss: 0.0221 - accuracy: 0.9934 - val_loss: 0.0693 - val_accuracy: 0.9836\n",
            "Epoch 100/100\n",
            "144/144 [==============================] - 276s 2s/step - loss: 0.0152 - accuracy: 0.9951 - val_loss: 0.0651 - val_accuracy: 0.9845\n"
          ],
          "name": "stdout"
        }
      ]
    },
    {
      "cell_type": "markdown",
      "metadata": {
        "id": "exhbGtNqAOMR",
        "colab_type": "text"
      },
      "source": [
        "# **Plot Training Results**"
      ]
    },
    {
      "cell_type": "code",
      "metadata": {
        "id": "fgRddGypJ-PM",
        "colab_type": "code",
        "colab": {
          "base_uri": "https://localhost:8080/",
          "height": 545
        },
        "outputId": "72ab2b7d-bd29-4c63-b7c2-a6b75f848596"
      },
      "source": [
        "acc = history.history['accuracy']\n",
        "val_acc = history.history['val_accuracy']\n",
        "loss = history.history['loss']\n",
        "val_loss = history.history['val_loss']\n",
        "\n",
        "epochs = range(len(acc))\n",
        "\n",
        "plt.ylim(0.9, 1)\n",
        "plt.xlim(0, 100)\n",
        "plt.plot(epochs, acc, 'r', label='Training accuracy')\n",
        "plt.plot(epochs, val_acc, 'b', label='Validation accuracy')\n",
        "plt.title('Training and Validation Accuracy')\n",
        "plt.legend(loc=0)\n",
        "#plt.figure()\n",
        "plt.grid()\n",
        "plt.show()\n",
        "\n",
        "plt.ylim(0, 0.5)\n",
        "plt.xlim(0, 100)\n",
        "plt.plot(epochs, loss, 'r', label='Training loss')\n",
        "plt.plot(epochs, val_loss, 'b', label='Validation loss')\n",
        "plt.title('Training and Validation Loss')\n",
        "plt.legend(loc=0)\n",
        "#plt.figure()\n",
        "plt.grid()\n",
        "plt.show()"
      ],
      "execution_count": null,
      "outputs": [
        {
          "output_type": "display_data",
          "data": {
            "image/png": "[encoded data removed]",
            "text/plain": [
              "<Figure size 432x288 with 1 Axes>"
            ]
          },
          "metadata": {
            "tags": [],
            "needs_background": "light"
          }
        },
        {
          "output_type": "display_data",
          "data": {
            "image/png": "[encoded data removed]",
            "text/plain": [
              "<Figure size 432x288 with 1 Axes>"
            ]
          },
          "metadata": {
            "tags": [],
            "needs_background": "light"
          }
        }
      ]
    },
    {
      "cell_type": "markdown",
      "metadata": {
        "id": "YU_WnrdZARqm",
        "colab_type": "text"
      },
      "source": [
        "# **Save Model**"
      ]
    },
    {
      "cell_type": "code",
      "metadata": {
        "id": "GsNf983i56fg",
        "colab_type": "code",
        "colab": {
          "base_uri": "https://localhost:8080/",
          "height": 207
        },
        "outputId": "1218549e-2ad1-44bd-e136-b7f7871f8baf"
      },
      "source": [
        "export_path = \"/content/tomato_densenet121\"\n",
        "\n",
        "try: \n",
        "  os.mkdir(export_path) \n",
        "except OSError as error: \n",
        "  print(error) \n",
        "\n",
        "tf.keras.models.save_model(\n",
        "    model,\n",
        "    export_path,\n",
        "    overwrite=True,\n",
        "    include_optimizer=True,\n",
        "    save_format=None,\n",
        "    signatures=None,\n",
        "    options=None\n",
        ")\n",
        "\n",
        "print('\\nSaved model:')\n",
        "!ls -l {export_path}"
      ],
      "execution_count": null,
      "outputs": [
        {
          "output_type": "stream",
          "text": [
            "WARNING:tensorflow:From /usr/local/lib/python3.6/dist-packages/tensorflow/python/ops/resource_variable_ops.py:1817: calling BaseResourceVariable.__init__ (from tensorflow.python.ops.resource_variable_ops) with constraint is deprecated and will be removed in a future version.\n",
            "Instructions for updating:\n",
            "If using Keras pass *_constraint arguments to layers.\n",
            "INFO:tensorflow:Assets written to: /content/tomato_densenet121/assets\n",
            "\n",
            "Saved model:\n",
            "total 10096\n",
            "drwxr-xr-x 2 root root     4096 Jun 13 11:08 assets\n",
            "-rw-r--r-- 1 root root 10327799 Jun 13 11:08 saved_model.pb\n",
            "drwxr-xr-x 2 root root     4096 Jun 13 11:08 variables\n"
          ],
          "name": "stdout"
        }
      ]
    },
    {
      "cell_type": "markdown",
      "metadata": {
        "id": "q7B1xWYEAhRO",
        "colab_type": "text"
      },
      "source": [
        "# **Download Saved Model**"
      ]
    },
    {
      "cell_type": "code",
      "metadata": {
        "id": "CQqzQDapAkZJ",
        "colab_type": "code",
        "colab": {
          "base_uri": "https://localhost:8080/",
          "height": 136
        },
        "outputId": "fa22085d-4daa-4ea6-ba97-f90a057c2bfb"
      },
      "source": [
        "!zip -r /content/tomato_densenet121.zip /content/tomato_densenet121"
      ],
      "execution_count": null,
      "outputs": [
        {
          "output_type": "stream",
          "text": [
            "  adding: content/tomato_densenet121/ (stored 0%)\n",
            "  adding: content/tomato_densenet121/saved_model.pb (deflated 93%)\n",
            "  adding: content/tomato_densenet121/assets/ (stored 0%)\n",
            "  adding: content/tomato_densenet121/variables/ (stored 0%)\n",
            "  adding: content/tomato_densenet121/variables/variables.index (deflated 79%)\n",
            "  adding: content/tomato_densenet121/variables/variables.data-00000-of-00002 (deflated 83%)\n",
            "  adding: content/tomato_densenet121/variables/variables.data-00001-of-00002 (deflated 34%)\n"
          ],
          "name": "stdout"
        }
      ]
    },
    {
      "cell_type": "code",
      "metadata": {
        "id": "6qoVflybAleo",
        "colab_type": "code",
        "colab": {}
      },
      "source": [
        "files.download(\"/content/tomato_densenet121.zip\")"
      ],
      "execution_count": null,
      "outputs": []
    },
    {
      "cell_type": "markdown",
      "metadata": {
        "id": "qWPbQ52puDxc",
        "colab_type": "text"
      },
      "source": [
        "# **Save to Google Drive**"
      ]
    },
    {
      "cell_type": "code",
      "metadata": {
        "id": "TPBCDqIsuG4_",
        "colab_type": "code",
        "colab": {}
      },
      "source": [
        "from google.colab import drive\n",
        "drive.mount('/content/gdrive/')"
      ],
      "execution_count": null,
      "outputs": []
    },
    {
      "cell_type": "code",
      "metadata": {
        "id": "Hx_awF-HuKye",
        "colab_type": "code",
        "colab": {}
      },
      "source": [
        "!cp tomato_densenet121.zip '/content/gdrive/My Drive/Saved Model/'"
      ],
      "execution_count": null,
      "outputs": []
    },
    {
      "cell_type": "markdown",
      "metadata": {
        "id": "R2hue0PIAs_d",
        "colab_type": "text"
      },
      "source": [
        "# **Upload Saved Model**"
      ]
    },
    {
      "cell_type": "code",
      "metadata": {
        "id": "cku5_pQKCBhc",
        "colab_type": "code",
        "colab": {}
      },
      "source": [
        "uploaded = files.upload()\n",
        "!unzip /content/tomato_densenet121.zip\n",
        "model = tf.keras.models.load_model('/content/tomato_densenet121/')\n",
        "model.summary()"
      ],
      "execution_count": null,
      "outputs": []
    },
    {
      "cell_type": "markdown",
      "metadata": {
        "id": "3SnDPCM1uPO-",
        "colab_type": "text"
      },
      "source": [
        "# **Upload Saved Model from Google Drive**"
      ]
    },
    {
      "cell_type": "code",
      "metadata": {
        "id": "_QOymryyuUJy",
        "colab_type": "code",
        "colab": {}
      },
      "source": [
        "from google.colab import drive\n",
        "drive.mount('/content/gdrive/')"
      ],
      "execution_count": null,
      "outputs": []
    },
    {
      "cell_type": "code",
      "metadata": {
        "id": "hkfKZ8DBuWYL",
        "colab_type": "code",
        "colab": {}
      },
      "source": [
        "!cp '/content/gdrive/My Drive/Saved Model/tomato_densenet121.zip' /content/\n",
        "!unzip /content/tomato_densenet121.zip\n",
        "model = tf.keras.models.load_model('/content/tomato_densenet121/')\n",
        "model.summary()"
      ],
      "execution_count": null,
      "outputs": []
    },
    {
      "cell_type": "markdown",
      "metadata": {
        "id": "EkOJfUmOudFT",
        "colab_type": "text"
      },
      "source": [
        "# **Convert to Tensorflow Lite**"
      ]
    },
    {
      "cell_type": "code",
      "metadata": {
        "id": "4FmW7SRsuqr0",
        "colab_type": "code",
        "colab": {
          "base_uri": "https://localhost:8080/",
          "height": 34
        },
        "outputId": "4d4e43f5-19f5-4677-9333-af2ff470570a"
      },
      "source": [
        "converter = tf.lite.TFLiteConverter.from_saved_model('/content/tomato_densenet121/')\n",
        "tflite_model = converter.convert()\n",
        "open(\"tomato_densenet121.tflite\", \"wb\").write(tflite_model)"
      ],
      "execution_count": null,
      "outputs": [
        {
          "output_type": "execute_result",
          "data": {
            "text/plain": [
              "162123120"
            ]
          },
          "metadata": {
            "tags": []
          },
          "execution_count": 16
        }
      ]
    },
    {
      "cell_type": "markdown",
      "metadata": {
        "id": "YtjAKU00vIVL",
        "colab_type": "text"
      },
      "source": [
        "# **Optimize Tensorflow Lite Model**"
      ]
    },
    {
      "cell_type": "code",
      "metadata": {
        "id": "hSXQZJS5vNJ6",
        "colab_type": "code",
        "colab": {
          "base_uri": "https://localhost:8080/",
          "height": 34
        },
        "outputId": "02aa5920-0ce2-4c63-b0a4-baae22027315"
      },
      "source": [
        "converter = tf.lite.TFLiteConverter.from_saved_model('/content/tomato_densenet121/')\n",
        "converter.optimizations = [tf.lite.Optimize.DEFAULT]\n",
        "tflite_quant_model = converter.convert()\n",
        "open(\"tomato_densenet121_quantized.tflite\", \"wb\").write(tflite_quant_model)"
      ],
      "execution_count": null,
      "outputs": [
        {
          "output_type": "execute_result",
          "data": {
            "text/plain": [
              "40839112"
            ]
          },
          "metadata": {
            "tags": []
          },
          "execution_count": 17
        }
      ]
    },
    {
      "cell_type": "markdown",
      "metadata": {
        "id": "uftoAgH5vgD5",
        "colab_type": "text"
      },
      "source": [
        "# **Save to Google Drive**"
      ]
    },
    {
      "cell_type": "code",
      "metadata": {
        "id": "K76ZLQosvwAk",
        "colab_type": "code",
        "colab": {}
      },
      "source": [
        "from google.colab import drive\n",
        "drive.mount('/content/gdrive/')"
      ],
      "execution_count": null,
      "outputs": []
    },
    {
      "cell_type": "code",
      "metadata": {
        "id": "epyLoH6qvjWJ",
        "colab_type": "code",
        "colab": {}
      },
      "source": [
        "!cp '/content/tomato_densenet121.tflite' '/content/gdrive/My Drive/Saved Model'"
      ],
      "execution_count": null,
      "outputs": []
    },
    {
      "cell_type": "code",
      "metadata": {
        "id": "cNgJ7oCUvlgo",
        "colab_type": "code",
        "colab": {}
      },
      "source": [
        "!cp '/content/tomato_densenet121_quantized.tflite' '/content/gdrive/My Drive/Saved Model'"
      ],
      "execution_count": null,
      "outputs": []
    },
    {
      "cell_type": "markdown",
      "metadata": {
        "id": "kAkWoG6AA4kN",
        "colab_type": "text"
      },
      "source": [
        "# **Try Classification**"
      ]
    },
    {
      "cell_type": "code",
      "metadata": {
        "id": "gqM8HjQjXSNo",
        "colab_type": "code",
        "colab": {
          "resources": {
            "http://localhost:8080/nbextensions/google.colab/files.js": {
              "data": "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",
              "ok": true,
              "headers": [
                [
                  "content-type",
                  "application/javascript"
                ]
              ],
              "status": 200,
              "status_text": ""
            }
          },
          "base_uri": "https://localhost:8080/",
          "height": 179
        },
        "outputId": "30a1f24a-7dc8-4d85-8dfa-678c2b43eac4"
      },
      "source": [
        "from google.colab import files\n",
        "\n",
        "file = files.upload()\n",
        "\n",
        "img = image.load_img(list(file.keys())[0], target_size=(256, 256))\n",
        "img = image.img_to_array(img)\n",
        "img = img.reshape(1, 256, 256, 3)\n",
        "img = img.astype('float32')\n",
        "img = img / 255.0\n",
        "result = model.predict(img)\n",
        "result = list(result[0]).index(max(result[0]))\n",
        "\n",
        "print(\"\\n\\nResult :\")\n",
        "\n",
        "if result == 0:\n",
        "  print(\"Bacterial Spot\")\n",
        "elif result == 1:\n",
        "  print(\"Early Blight\")\n",
        "elif result == 2:\n",
        "  print(\"Late Blight\")\n",
        "elif result == 3:\n",
        "  print(\"Leaf Mold\")\n",
        "elif result == 4:\n",
        "  print(\"Septoria Leaf Spot\")\n",
        "elif result == 5:\n",
        "  print(\"Spider Mites\")\n",
        "elif result == 6:\n",
        "  print(\"Target Spot\")\n",
        "elif result == 7:\n",
        "  print(\"Yellow Leaf Curl Virus\")\n",
        "elif result == 8:\n",
        "  print(\"Mosaic Virus\")\n",
        "else:\n",
        "  print(\"Healthy\")"
      ],
      "execution_count": null,
      "outputs": [
        {
          "output_type": "display_data",
          "data": {
            "text/html": [
              "\n",
              "     <input type=\"file\" id=\"files-f4375b0e-3b56-42af-99cb-e6f45888c72b\" name=\"files[]\" multiple disabled />\n",
              "     <output id=\"result-f4375b0e-3b56-42af-99cb-e6f45888c72b\">\n",
              "      Upload widget is only available when the cell has been executed in the\n",
              "      current browser session. Please rerun this cell to enable.\n",
              "      </output>\n",
              "      <script src=\"/nbextensions/google.colab/files.js\"></script> "
            ],
            "text/plain": [
              "<IPython.core.display.HTML object>"
            ]
          },
          "metadata": {
            "tags": []
          }
        },
        {
          "output_type": "stream",
          "text": [
            "Saving datasets_259770_544347_New Plant Diseases Dataset(Augmented)_train_Tomato___Tomato_mosaic_virus_02cb8c4e-4542-4020-bb46-025de54d97ae___PSU_CG 2098_180deg.jpg to datasets_259770_544347_New Plant Diseases Dataset(Augmented)_train_Tomato___Tomato_mosaic_virus_02cb8c4e-4542-4020-bb46-025de54d97ae___PSU_CG 2098_180deg.jpg\n",
            "\n",
            "\n",
            "Result :\n",
            "Mosaic Virus\n"
          ],
          "name": "stdout"
        }
      ]
    }
  ]
}