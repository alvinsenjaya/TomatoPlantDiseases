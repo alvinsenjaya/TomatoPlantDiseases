{
  "nbformat": 4,
  "nbformat_minor": 0,
  "metadata": {
    "colab": {
      "name": "Base_NASNetMobile.ipynb",
      "provenance": [],
      "toc_visible": true,
      "authorship_tag": "ABX9TyNvwyslQpLghoEZKKeivSfo",
      "include_colab_link": true
    },
    "kernelspec": {
      "name": "python3",
      "display_name": "Python 3"
    },
    "accelerator": "GPU"
  },
  "cells": [
    {
      "cell_type": "markdown",
      "metadata": {
        "id": "view-in-github",
        "colab_type": "text"
      },
      "source": [
        "<a href=\"https://colab.research.google.com/github/alvinsenjaya/TomatoPlantDiseases/blob/master/Base_NASNetMobile.ipynb\" target=\"_parent\"><img src=\"https://colab.research.google.com/assets/colab-badge.svg\" alt=\"Open In Colab\"/></a>"
      ]
    },
    {
      "cell_type": "markdown",
      "metadata": {
        "id": "0CB3ymUq_xbl",
        "colab_type": "text"
      },
      "source": [
        "# **Import Required Libraries**"
      ]
    },
    {
      "cell_type": "code",
      "metadata": {
        "id": "YA4DqHkTHU8Q",
        "colab_type": "code",
        "colab": {}
      },
      "source": [
        "import os\n",
        "import tensorflow as tf\n",
        "import keras_preprocessing\n",
        "from keras_preprocessing import image\n",
        "from keras_preprocessing.image import ImageDataGenerator\n",
        "import matplotlib.pyplot as plt"
      ],
      "execution_count": 0,
      "outputs": []
    },
    {
      "cell_type": "markdown",
      "metadata": {
        "id": "TEfmO-5N_2lE",
        "colab_type": "text"
      },
      "source": [
        "# **Download Dataset**"
      ]
    },
    {
      "cell_type": "code",
      "metadata": {
        "id": "CZiv2ZYOFuJm",
        "colab_type": "code",
        "colab": {}
      },
      "source": [
        "os.environ['KAGGLE_USERNAME']=\"xxxxx\"\n",
        "os.environ['KAGGLE_KEY']=\"xxxxxxxxxxxxxxxxxxxxxx\""
      ],
      "execution_count": 0,
      "outputs": []
    },
    {
      "cell_type": "code",
      "metadata": {
        "id": "79ov0m65F1Oi",
        "colab_type": "code",
        "outputId": "a31784c2-8cc6-4c9f-997b-5050736b4054",
        "colab": {
          "base_uri": "https://localhost:8080/",
          "height": 68
        }
      },
      "source": [
        "!kaggle datasets download noulam/tomato"
      ],
      "execution_count": 0,
      "outputs": [
        {
          "output_type": "stream",
          "text": [
            "Downloading tomato.zip to /content\n",
            " 99% 738M/743M [00:21<00:00, 60.8MB/s]\n",
            "100% 743M/743M [00:21<00:00, 35.5MB/s]\n"
          ],
          "name": "stdout"
        }
      ]
    },
    {
      "cell_type": "code",
      "metadata": {
        "id": "r6BeaWYFGL4M",
        "colab_type": "code",
        "colab": {}
      },
      "source": [
        "!unzip tomato.zip"
      ],
      "execution_count": 0,
      "outputs": []
    },
    {
      "cell_type": "markdown",
      "metadata": {
        "id": "wU_wV1eF_79t",
        "colab_type": "text"
      },
      "source": [
        "# **Image Preprocessing**"
      ]
    },
    {
      "cell_type": "code",
      "metadata": {
        "id": "WBHtjQ0EGxqL",
        "colab_type": "code",
        "outputId": "24b6488d-b1a9-4157-9a71-8f76170335e0",
        "colab": {
          "base_uri": "https://localhost:8080/",
          "height": 51
        }
      },
      "source": [
        "TRAINING_DIR = '/content/New Plant Diseases Dataset(Augmented)/train/'\n",
        "training_datagen = ImageDataGenerator(\n",
        "    rescale = 1./255,\n",
        "    rotation_range=90,\n",
        "    width_shift_range=0.2,\n",
        "    height_shift_range=0.2,\n",
        "    shear_range=0.2,\n",
        "    zoom_range=0.2,\n",
        "    horizontal_flip=True,\n",
        "    fill_mode='nearest')\n",
        "\n",
        "VALIDATION_DIR = '/content/New Plant Diseases Dataset(Augmented)/valid/'\n",
        "validation_datagen = ImageDataGenerator(rescale = 1./255)\n",
        "\n",
        "train_generator = training_datagen.flow_from_directory(\n",
        "    TRAINING_DIR,\n",
        "    target_size=(224,224),\n",
        "    class_mode='categorical',\n",
        "    batch_size=128\n",
        ")\n",
        "\n",
        "validation_generator = validation_datagen.flow_from_directory(\n",
        "    VALIDATION_DIR,\n",
        "    target_size=(224,224),\n",
        "    class_mode='categorical',\n",
        "    batch_size=128\n",
        ")"
      ],
      "execution_count": 2,
      "outputs": [
        {
          "output_type": "stream",
          "text": [
            "Found 18345 images belonging to 10 classes.\n",
            "Found 4585 images belonging to 10 classes.\n"
          ],
          "name": "stdout"
        }
      ]
    },
    {
      "cell_type": "markdown",
      "metadata": {
        "id": "9RfLmCxrABDw",
        "colab_type": "text"
      },
      "source": [
        "# **Define Machine Learning Model**"
      ]
    },
    {
      "cell_type": "code",
      "metadata": {
        "id": "gXB5NTVWiXFL",
        "colab_type": "code",
        "outputId": "3ff262aa-bff0-4803-fdba-a00fefd527d3",
        "colab": {
          "base_uri": "https://localhost:8080/",
          "height": 34
        }
      },
      "source": [
        "base_model = tf.keras.applications.NASNetMobile(weights='imagenet', include_top=False, input_shape=(224,224,3))\n",
        "\n",
        "print(\"Number of layers in the base model: \", len(base_model.layers))"
      ],
      "execution_count": 3,
      "outputs": [
        {
          "output_type": "stream",
          "text": [
            "Number of layers in the base model:  769\n"
          ],
          "name": "stdout"
        }
      ]
    },
    {
      "cell_type": "code",
      "metadata": {
        "id": "X9E7LnYJihkB",
        "colab_type": "code",
        "outputId": "78042b96-d37a-47a0-8a96-d7349c56f9fd",
        "colab": {
          "base_uri": "https://localhost:8080/",
          "height": 1000
        }
      },
      "source": [
        "for i, layer in enumerate(base_model.layers):\n",
        "  print(i, layer.name)"
      ],
      "execution_count": 4,
      "outputs": [
        {
          "output_type": "stream",
          "text": [
            "0 input_1\n",
            "1 stem_conv1\n",
            "2 stem_bn1\n",
            "3 activation\n",
            "4 reduction_conv_1_stem_1\n",
            "5 reduction_bn_1_stem_1\n",
            "6 activation_1\n",
            "7 activation_3\n",
            "8 separable_conv_1_pad_reduction_left1_stem_1\n",
            "9 separable_conv_1_pad_reduction_right1_stem_1\n",
            "10 separable_conv_1_reduction_left1_stem_1\n",
            "11 separable_conv_1_reduction_right1_stem_1\n",
            "12 separable_conv_1_bn_reduction_left1_stem_1\n",
            "13 separable_conv_1_bn_reduction_right1_stem_1\n",
            "14 activation_2\n",
            "15 activation_4\n",
            "16 separable_conv_2_reduction_left1_stem_1\n",
            "17 separable_conv_2_reduction_right1_stem_1\n",
            "18 activation_5\n",
            "19 separable_conv_2_bn_reduction_left1_stem_1\n",
            "20 separable_conv_2_bn_reduction_right1_stem_1\n",
            "21 separable_conv_1_pad_reduction_right2_stem_1\n",
            "22 activation_7\n",
            "23 reduction_add_1_stem_1\n",
            "24 separable_conv_1_reduction_right2_stem_1\n",
            "25 separable_conv_1_pad_reduction_right3_stem_1\n",
            "26 activation_9\n",
            "27 separable_conv_1_bn_reduction_right2_stem_1\n",
            "28 separable_conv_1_reduction_right3_stem_1\n",
            "29 separable_conv_1_reduction_left4_stem_1\n",
            "30 activation_6\n",
            "31 separable_conv_1_bn_reduction_right3_stem_1\n",
            "32 separable_conv_1_bn_reduction_left4_stem_1\n",
            "33 reduction_pad_1_stem_1\n",
            "34 separable_conv_2_reduction_right2_stem_1\n",
            "35 activation_8\n",
            "36 activation_10\n",
            "37 reduction_left2_stem_1\n",
            "38 separable_conv_2_bn_reduction_right2_stem_1\n",
            "39 separable_conv_2_reduction_right3_stem_1\n",
            "40 separable_conv_2_reduction_left4_stem_1\n",
            "41 adjust_relu_1_stem_2\n",
            "42 reduction_add_2_stem_1\n",
            "43 reduction_left3_stem_1\n",
            "44 separable_conv_2_bn_reduction_right3_stem_1\n",
            "45 reduction_left4_stem_1\n",
            "46 separable_conv_2_bn_reduction_left4_stem_1\n",
            "47 reduction_right5_stem_1\n",
            "48 zero_padding2d\n",
            "49 reduction_add3_stem_1\n",
            "50 add\n",
            "51 reduction_add4_stem_1\n",
            "52 cropping2d\n",
            "53 reduction_concat_stem_1\n",
            "54 adjust_avg_pool_1_stem_2\n",
            "55 adjust_avg_pool_2_stem_2\n",
            "56 activation_11\n",
            "57 adjust_conv_1_stem_2\n",
            "58 adjust_conv_2_stem_2\n",
            "59 reduction_conv_1_stem_2\n",
            "60 concatenate\n",
            "61 reduction_bn_1_stem_2\n",
            "62 adjust_bn_stem_2\n",
            "63 activation_12\n",
            "64 activation_14\n",
            "65 separable_conv_1_pad_reduction_left1_stem_2\n",
            "66 separable_conv_1_pad_reduction_right1_stem_2\n",
            "67 separable_conv_1_reduction_left1_stem_2\n",
            "68 separable_conv_1_reduction_right1_stem_2\n",
            "69 separable_conv_1_bn_reduction_left1_stem_2\n",
            "70 separable_conv_1_bn_reduction_right1_stem_2\n",
            "71 activation_13\n",
            "72 activation_15\n",
            "73 separable_conv_2_reduction_left1_stem_2\n",
            "74 separable_conv_2_reduction_right1_stem_2\n",
            "75 activation_16\n",
            "76 separable_conv_2_bn_reduction_left1_stem_2\n",
            "77 separable_conv_2_bn_reduction_right1_stem_2\n",
            "78 separable_conv_1_pad_reduction_right2_stem_2\n",
            "79 activation_18\n",
            "80 reduction_add_1_stem_2\n",
            "81 separable_conv_1_reduction_right2_stem_2\n",
            "82 separable_conv_1_pad_reduction_right3_stem_2\n",
            "83 activation_20\n",
            "84 separable_conv_1_bn_reduction_right2_stem_2\n",
            "85 separable_conv_1_reduction_right3_stem_2\n",
            "86 separable_conv_1_reduction_left4_stem_2\n",
            "87 activation_17\n",
            "88 separable_conv_1_bn_reduction_right3_stem_2\n",
            "89 separable_conv_1_bn_reduction_left4_stem_2\n",
            "90 reduction_pad_1_stem_2\n",
            "91 separable_conv_2_reduction_right2_stem_2\n",
            "92 activation_19\n",
            "93 activation_21\n",
            "94 reduction_left2_stem_2\n",
            "95 separable_conv_2_bn_reduction_right2_stem_2\n",
            "96 separable_conv_2_reduction_right3_stem_2\n",
            "97 separable_conv_2_reduction_left4_stem_2\n",
            "98 adjust_relu_1_0\n",
            "99 reduction_add_2_stem_2\n",
            "100 reduction_left3_stem_2\n",
            "101 separable_conv_2_bn_reduction_right3_stem_2\n",
            "102 reduction_left4_stem_2\n",
            "103 separable_conv_2_bn_reduction_left4_stem_2\n",
            "104 reduction_right5_stem_2\n",
            "105 zero_padding2d_1\n",
            "106 reduction_add3_stem_2\n",
            "107 add_1\n",
            "108 reduction_add4_stem_2\n",
            "109 cropping2d_1\n",
            "110 reduction_concat_stem_2\n",
            "111 adjust_avg_pool_1_0\n",
            "112 adjust_avg_pool_2_0\n",
            "113 adjust_conv_1_0\n",
            "114 adjust_conv_2_0\n",
            "115 activation_22\n",
            "116 concatenate_1\n",
            "117 normal_conv_1_0\n",
            "118 adjust_bn_0\n",
            "119 normal_bn_1_0\n",
            "120 activation_23\n",
            "121 activation_25\n",
            "122 activation_27\n",
            "123 activation_29\n",
            "124 activation_31\n",
            "125 separable_conv_1_normal_left1_0\n",
            "126 separable_conv_1_normal_right1_0\n",
            "127 separable_conv_1_normal_left2_0\n",
            "128 separable_conv_1_normal_right2_0\n",
            "129 separable_conv_1_normal_left5_0\n",
            "130 separable_conv_1_bn_normal_left1_0\n",
            "131 separable_conv_1_bn_normal_right1_0\n",
            "132 separable_conv_1_bn_normal_left2_0\n",
            "133 separable_conv_1_bn_normal_right2_0\n",
            "134 separable_conv_1_bn_normal_left5_0\n",
            "135 activation_24\n",
            "136 activation_26\n",
            "137 activation_28\n",
            "138 activation_30\n",
            "139 activation_32\n",
            "140 separable_conv_2_normal_left1_0\n",
            "141 separable_conv_2_normal_right1_0\n",
            "142 separable_conv_2_normal_left2_0\n",
            "143 separable_conv_2_normal_right2_0\n",
            "144 separable_conv_2_normal_left5_0\n",
            "145 separable_conv_2_bn_normal_left1_0\n",
            "146 separable_conv_2_bn_normal_right1_0\n",
            "147 separable_conv_2_bn_normal_left2_0\n",
            "148 separable_conv_2_bn_normal_right2_0\n",
            "149 normal_left3_0\n",
            "150 normal_left4_0\n",
            "151 normal_right4_0\n",
            "152 separable_conv_2_bn_normal_left5_0\n",
            "153 normal_add_1_0\n",
            "154 normal_add_2_0\n",
            "155 normal_add_3_0\n",
            "156 normal_add_4_0\n",
            "157 normal_add_5_0\n",
            "158 normal_concat_0\n",
            "159 activation_33\n",
            "160 activation_34\n",
            "161 adjust_conv_projection_1\n",
            "162 normal_conv_1_1\n",
            "163 adjust_bn_1\n",
            "164 normal_bn_1_1\n",
            "165 activation_35\n",
            "166 activation_37\n",
            "167 activation_39\n",
            "168 activation_41\n",
            "169 activation_43\n",
            "170 separable_conv_1_normal_left1_1\n",
            "171 separable_conv_1_normal_right1_1\n",
            "172 separable_conv_1_normal_left2_1\n",
            "173 separable_conv_1_normal_right2_1\n",
            "174 separable_conv_1_normal_left5_1\n",
            "175 separable_conv_1_bn_normal_left1_1\n",
            "176 separable_conv_1_bn_normal_right1_1\n",
            "177 separable_conv_1_bn_normal_left2_1\n",
            "178 separable_conv_1_bn_normal_right2_1\n",
            "179 separable_conv_1_bn_normal_left5_1\n",
            "180 activation_36\n",
            "181 activation_38\n",
            "182 activation_40\n",
            "183 activation_42\n",
            "184 activation_44\n",
            "185 separable_conv_2_normal_left1_1\n",
            "186 separable_conv_2_normal_right1_1\n",
            "187 separable_conv_2_normal_left2_1\n",
            "188 separable_conv_2_normal_right2_1\n",
            "189 separable_conv_2_normal_left5_1\n",
            "190 separable_conv_2_bn_normal_left1_1\n",
            "191 separable_conv_2_bn_normal_right1_1\n",
            "192 separable_conv_2_bn_normal_left2_1\n",
            "193 separable_conv_2_bn_normal_right2_1\n",
            "194 normal_left3_1\n",
            "195 normal_left4_1\n",
            "196 normal_right4_1\n",
            "197 separable_conv_2_bn_normal_left5_1\n",
            "198 normal_add_1_1\n",
            "199 normal_add_2_1\n",
            "200 normal_add_3_1\n",
            "201 normal_add_4_1\n",
            "202 normal_add_5_1\n",
            "203 normal_concat_1\n",
            "204 activation_45\n",
            "205 activation_46\n",
            "206 adjust_conv_projection_2\n",
            "207 normal_conv_1_2\n",
            "208 adjust_bn_2\n",
            "209 normal_bn_1_2\n",
            "210 activation_47\n",
            "211 activation_49\n",
            "212 activation_51\n",
            "213 activation_53\n",
            "214 activation_55\n",
            "215 separable_conv_1_normal_left1_2\n",
            "216 separable_conv_1_normal_right1_2\n",
            "217 separable_conv_1_normal_left2_2\n",
            "218 separable_conv_1_normal_right2_2\n",
            "219 separable_conv_1_normal_left5_2\n",
            "220 separable_conv_1_bn_normal_left1_2\n",
            "221 separable_conv_1_bn_normal_right1_2\n",
            "222 separable_conv_1_bn_normal_left2_2\n",
            "223 separable_conv_1_bn_normal_right2_2\n",
            "224 separable_conv_1_bn_normal_left5_2\n",
            "225 activation_48\n",
            "226 activation_50\n",
            "227 activation_52\n",
            "228 activation_54\n",
            "229 activation_56\n",
            "230 separable_conv_2_normal_left1_2\n",
            "231 separable_conv_2_normal_right1_2\n",
            "232 separable_conv_2_normal_left2_2\n",
            "233 separable_conv_2_normal_right2_2\n",
            "234 separable_conv_2_normal_left5_2\n",
            "235 separable_conv_2_bn_normal_left1_2\n",
            "236 separable_conv_2_bn_normal_right1_2\n",
            "237 separable_conv_2_bn_normal_left2_2\n",
            "238 separable_conv_2_bn_normal_right2_2\n",
            "239 normal_left3_2\n",
            "240 normal_left4_2\n",
            "241 normal_right4_2\n",
            "242 separable_conv_2_bn_normal_left5_2\n",
            "243 normal_add_1_2\n",
            "244 normal_add_2_2\n",
            "245 normal_add_3_2\n",
            "246 normal_add_4_2\n",
            "247 normal_add_5_2\n",
            "248 normal_concat_2\n",
            "249 activation_57\n",
            "250 activation_58\n",
            "251 adjust_conv_projection_3\n",
            "252 normal_conv_1_3\n",
            "253 adjust_bn_3\n",
            "254 normal_bn_1_3\n",
            "255 activation_59\n",
            "256 activation_61\n",
            "257 activation_63\n",
            "258 activation_65\n",
            "259 activation_67\n",
            "260 separable_conv_1_normal_left1_3\n",
            "261 separable_conv_1_normal_right1_3\n",
            "262 separable_conv_1_normal_left2_3\n",
            "263 separable_conv_1_normal_right2_3\n",
            "264 separable_conv_1_normal_left5_3\n",
            "265 separable_conv_1_bn_normal_left1_3\n",
            "266 separable_conv_1_bn_normal_right1_3\n",
            "267 separable_conv_1_bn_normal_left2_3\n",
            "268 separable_conv_1_bn_normal_right2_3\n",
            "269 separable_conv_1_bn_normal_left5_3\n",
            "270 activation_60\n",
            "271 activation_62\n",
            "272 activation_64\n",
            "273 activation_66\n",
            "274 activation_68\n",
            "275 separable_conv_2_normal_left1_3\n",
            "276 separable_conv_2_normal_right1_3\n",
            "277 separable_conv_2_normal_left2_3\n",
            "278 separable_conv_2_normal_right2_3\n",
            "279 separable_conv_2_normal_left5_3\n",
            "280 separable_conv_2_bn_normal_left1_3\n",
            "281 separable_conv_2_bn_normal_right1_3\n",
            "282 separable_conv_2_bn_normal_left2_3\n",
            "283 separable_conv_2_bn_normal_right2_3\n",
            "284 normal_left3_3\n",
            "285 normal_left4_3\n",
            "286 normal_right4_3\n",
            "287 separable_conv_2_bn_normal_left5_3\n",
            "288 normal_add_1_3\n",
            "289 normal_add_2_3\n",
            "290 normal_add_3_3\n",
            "291 normal_add_4_3\n",
            "292 normal_add_5_3\n",
            "293 normal_concat_3\n",
            "294 activation_70\n",
            "295 activation_69\n",
            "296 reduction_conv_1_reduce_4\n",
            "297 adjust_conv_projection_reduce_4\n",
            "298 reduction_bn_1_reduce_4\n",
            "299 adjust_bn_reduce_4\n",
            "300 activation_71\n",
            "301 activation_73\n",
            "302 separable_conv_1_pad_reduction_left1_reduce_4\n",
            "303 separable_conv_1_pad_reduction_right1_reduce_4\n",
            "304 separable_conv_1_reduction_left1_reduce_4\n",
            "305 separable_conv_1_reduction_right1_reduce_4\n",
            "306 separable_conv_1_bn_reduction_left1_reduce_4\n",
            "307 separable_conv_1_bn_reduction_right1_reduce_4\n",
            "308 activation_72\n",
            "309 activation_74\n",
            "310 separable_conv_2_reduction_left1_reduce_4\n",
            "311 separable_conv_2_reduction_right1_reduce_4\n",
            "312 activation_75\n",
            "313 separable_conv_2_bn_reduction_left1_reduce_4\n",
            "314 separable_conv_2_bn_reduction_right1_reduce_4\n",
            "315 separable_conv_1_pad_reduction_right2_reduce_4\n",
            "316 activation_77\n",
            "317 reduction_add_1_reduce_4\n",
            "318 separable_conv_1_reduction_right2_reduce_4\n",
            "319 separable_conv_1_pad_reduction_right3_reduce_4\n",
            "320 activation_79\n",
            "321 separable_conv_1_bn_reduction_right2_reduce_4\n",
            "322 separable_conv_1_reduction_right3_reduce_4\n",
            "323 separable_conv_1_reduction_left4_reduce_4\n",
            "324 activation_76\n",
            "325 separable_conv_1_bn_reduction_right3_reduce_4\n",
            "326 separable_conv_1_bn_reduction_left4_reduce_4\n",
            "327 reduction_pad_1_reduce_4\n",
            "328 separable_conv_2_reduction_right2_reduce_4\n",
            "329 activation_78\n",
            "330 activation_80\n",
            "331 reduction_left2_reduce_4\n",
            "332 separable_conv_2_bn_reduction_right2_reduce_4\n",
            "333 separable_conv_2_reduction_right3_reduce_4\n",
            "334 separable_conv_2_reduction_left4_reduce_4\n",
            "335 adjust_relu_1_5\n",
            "336 reduction_add_2_reduce_4\n",
            "337 reduction_left3_reduce_4\n",
            "338 separable_conv_2_bn_reduction_right3_reduce_4\n",
            "339 reduction_left4_reduce_4\n",
            "340 separable_conv_2_bn_reduction_left4_reduce_4\n",
            "341 reduction_right5_reduce_4\n",
            "342 zero_padding2d_2\n",
            "343 reduction_add3_reduce_4\n",
            "344 add_2\n",
            "345 reduction_add4_reduce_4\n",
            "346 cropping2d_2\n",
            "347 reduction_concat_reduce_4\n",
            "348 adjust_avg_pool_1_5\n",
            "349 adjust_avg_pool_2_5\n",
            "350 adjust_conv_1_5\n",
            "351 adjust_conv_2_5\n",
            "352 activation_81\n",
            "353 concatenate_2\n",
            "354 normal_conv_1_5\n",
            "355 adjust_bn_5\n",
            "356 normal_bn_1_5\n",
            "357 activation_82\n",
            "358 activation_84\n",
            "359 activation_86\n",
            "360 activation_88\n",
            "361 activation_90\n",
            "362 separable_conv_1_normal_left1_5\n",
            "363 separable_conv_1_normal_right1_5\n",
            "364 separable_conv_1_normal_left2_5\n",
            "365 separable_conv_1_normal_right2_5\n",
            "366 separable_conv_1_normal_left5_5\n",
            "367 separable_conv_1_bn_normal_left1_5\n",
            "368 separable_conv_1_bn_normal_right1_5\n",
            "369 separable_conv_1_bn_normal_left2_5\n",
            "370 separable_conv_1_bn_normal_right2_5\n",
            "371 separable_conv_1_bn_normal_left5_5\n",
            "372 activation_83\n",
            "373 activation_85\n",
            "374 activation_87\n",
            "375 activation_89\n",
            "376 activation_91\n",
            "377 separable_conv_2_normal_left1_5\n",
            "378 separable_conv_2_normal_right1_5\n",
            "379 separable_conv_2_normal_left2_5\n",
            "380 separable_conv_2_normal_right2_5\n",
            "381 separable_conv_2_normal_left5_5\n",
            "382 separable_conv_2_bn_normal_left1_5\n",
            "383 separable_conv_2_bn_normal_right1_5\n",
            "384 separable_conv_2_bn_normal_left2_5\n",
            "385 separable_conv_2_bn_normal_right2_5\n",
            "386 normal_left3_5\n",
            "387 normal_left4_5\n",
            "388 normal_right4_5\n",
            "389 separable_conv_2_bn_normal_left5_5\n",
            "390 normal_add_1_5\n",
            "391 normal_add_2_5\n",
            "392 normal_add_3_5\n",
            "393 normal_add_4_5\n",
            "394 normal_add_5_5\n",
            "395 normal_concat_5\n",
            "396 activation_92\n",
            "397 activation_93\n",
            "398 adjust_conv_projection_6\n",
            "399 normal_conv_1_6\n",
            "400 adjust_bn_6\n",
            "401 normal_bn_1_6\n",
            "402 activation_94\n",
            "403 activation_96\n",
            "404 activation_98\n",
            "405 activation_100\n",
            "406 activation_102\n",
            "407 separable_conv_1_normal_left1_6\n",
            "408 separable_conv_1_normal_right1_6\n",
            "409 separable_conv_1_normal_left2_6\n",
            "410 separable_conv_1_normal_right2_6\n",
            "411 separable_conv_1_normal_left5_6\n",
            "412 separable_conv_1_bn_normal_left1_6\n",
            "413 separable_conv_1_bn_normal_right1_6\n",
            "414 separable_conv_1_bn_normal_left2_6\n",
            "415 separable_conv_1_bn_normal_right2_6\n",
            "416 separable_conv_1_bn_normal_left5_6\n",
            "417 activation_95\n",
            "418 activation_97\n",
            "419 activation_99\n",
            "420 activation_101\n",
            "421 activation_103\n",
            "422 separable_conv_2_normal_left1_6\n",
            "423 separable_conv_2_normal_right1_6\n",
            "424 separable_conv_2_normal_left2_6\n",
            "425 separable_conv_2_normal_right2_6\n",
            "426 separable_conv_2_normal_left5_6\n",
            "427 separable_conv_2_bn_normal_left1_6\n",
            "428 separable_conv_2_bn_normal_right1_6\n",
            "429 separable_conv_2_bn_normal_left2_6\n",
            "430 separable_conv_2_bn_normal_right2_6\n",
            "431 normal_left3_6\n",
            "432 normal_left4_6\n",
            "433 normal_right4_6\n",
            "434 separable_conv_2_bn_normal_left5_6\n",
            "435 normal_add_1_6\n",
            "436 normal_add_2_6\n",
            "437 normal_add_3_6\n",
            "438 normal_add_4_6\n",
            "439 normal_add_5_6\n",
            "440 normal_concat_6\n",
            "441 activation_104\n",
            "442 activation_105\n",
            "443 adjust_conv_projection_7\n",
            "444 normal_conv_1_7\n",
            "445 adjust_bn_7\n",
            "446 normal_bn_1_7\n",
            "447 activation_106\n",
            "448 activation_108\n",
            "449 activation_110\n",
            "450 activation_112\n",
            "451 activation_114\n",
            "452 separable_conv_1_normal_left1_7\n",
            "453 separable_conv_1_normal_right1_7\n",
            "454 separable_conv_1_normal_left2_7\n",
            "455 separable_conv_1_normal_right2_7\n",
            "456 separable_conv_1_normal_left5_7\n",
            "457 separable_conv_1_bn_normal_left1_7\n",
            "458 separable_conv_1_bn_normal_right1_7\n",
            "459 separable_conv_1_bn_normal_left2_7\n",
            "460 separable_conv_1_bn_normal_right2_7\n",
            "461 separable_conv_1_bn_normal_left5_7\n",
            "462 activation_107\n",
            "463 activation_109\n",
            "464 activation_111\n",
            "465 activation_113\n",
            "466 activation_115\n",
            "467 separable_conv_2_normal_left1_7\n",
            "468 separable_conv_2_normal_right1_7\n",
            "469 separable_conv_2_normal_left2_7\n",
            "470 separable_conv_2_normal_right2_7\n",
            "471 separable_conv_2_normal_left5_7\n",
            "472 separable_conv_2_bn_normal_left1_7\n",
            "473 separable_conv_2_bn_normal_right1_7\n",
            "474 separable_conv_2_bn_normal_left2_7\n",
            "475 separable_conv_2_bn_normal_right2_7\n",
            "476 normal_left3_7\n",
            "477 normal_left4_7\n",
            "478 normal_right4_7\n",
            "479 separable_conv_2_bn_normal_left5_7\n",
            "480 normal_add_1_7\n",
            "481 normal_add_2_7\n",
            "482 normal_add_3_7\n",
            "483 normal_add_4_7\n",
            "484 normal_add_5_7\n",
            "485 normal_concat_7\n",
            "486 activation_116\n",
            "487 activation_117\n",
            "488 adjust_conv_projection_8\n",
            "489 normal_conv_1_8\n",
            "490 adjust_bn_8\n",
            "491 normal_bn_1_8\n",
            "492 activation_118\n",
            "493 activation_120\n",
            "494 activation_122\n",
            "495 activation_124\n",
            "496 activation_126\n",
            "497 separable_conv_1_normal_left1_8\n",
            "498 separable_conv_1_normal_right1_8\n",
            "499 separable_conv_1_normal_left2_8\n",
            "500 separable_conv_1_normal_right2_8\n",
            "501 separable_conv_1_normal_left5_8\n",
            "502 separable_conv_1_bn_normal_left1_8\n",
            "503 separable_conv_1_bn_normal_right1_8\n",
            "504 separable_conv_1_bn_normal_left2_8\n",
            "505 separable_conv_1_bn_normal_right2_8\n",
            "506 separable_conv_1_bn_normal_left5_8\n",
            "507 activation_119\n",
            "508 activation_121\n",
            "509 activation_123\n",
            "510 activation_125\n",
            "511 activation_127\n",
            "512 separable_conv_2_normal_left1_8\n",
            "513 separable_conv_2_normal_right1_8\n",
            "514 separable_conv_2_normal_left2_8\n",
            "515 separable_conv_2_normal_right2_8\n",
            "516 separable_conv_2_normal_left5_8\n",
            "517 separable_conv_2_bn_normal_left1_8\n",
            "518 separable_conv_2_bn_normal_right1_8\n",
            "519 separable_conv_2_bn_normal_left2_8\n",
            "520 separable_conv_2_bn_normal_right2_8\n",
            "521 normal_left3_8\n",
            "522 normal_left4_8\n",
            "523 normal_right4_8\n",
            "524 separable_conv_2_bn_normal_left5_8\n",
            "525 normal_add_1_8\n",
            "526 normal_add_2_8\n",
            "527 normal_add_3_8\n",
            "528 normal_add_4_8\n",
            "529 normal_add_5_8\n",
            "530 normal_concat_8\n",
            "531 activation_129\n",
            "532 activation_128\n",
            "533 reduction_conv_1_reduce_8\n",
            "534 adjust_conv_projection_reduce_8\n",
            "535 reduction_bn_1_reduce_8\n",
            "536 adjust_bn_reduce_8\n",
            "537 activation_130\n",
            "538 activation_132\n",
            "539 separable_conv_1_pad_reduction_left1_reduce_8\n",
            "540 separable_conv_1_pad_reduction_right1_reduce_8\n",
            "541 separable_conv_1_reduction_left1_reduce_8\n",
            "542 separable_conv_1_reduction_right1_reduce_8\n",
            "543 separable_conv_1_bn_reduction_left1_reduce_8\n",
            "544 separable_conv_1_bn_reduction_right1_reduce_8\n",
            "545 activation_131\n",
            "546 activation_133\n",
            "547 separable_conv_2_reduction_left1_reduce_8\n",
            "548 separable_conv_2_reduction_right1_reduce_8\n",
            "549 activation_134\n",
            "550 separable_conv_2_bn_reduction_left1_reduce_8\n",
            "551 separable_conv_2_bn_reduction_right1_reduce_8\n",
            "552 separable_conv_1_pad_reduction_right2_reduce_8\n",
            "553 activation_136\n",
            "554 reduction_add_1_reduce_8\n",
            "555 separable_conv_1_reduction_right2_reduce_8\n",
            "556 separable_conv_1_pad_reduction_right3_reduce_8\n",
            "557 activation_138\n",
            "558 separable_conv_1_bn_reduction_right2_reduce_8\n",
            "559 separable_conv_1_reduction_right3_reduce_8\n",
            "560 separable_conv_1_reduction_left4_reduce_8\n",
            "561 activation_135\n",
            "562 separable_conv_1_bn_reduction_right3_reduce_8\n",
            "563 separable_conv_1_bn_reduction_left4_reduce_8\n",
            "564 reduction_pad_1_reduce_8\n",
            "565 separable_conv_2_reduction_right2_reduce_8\n",
            "566 activation_137\n",
            "567 activation_139\n",
            "568 reduction_left2_reduce_8\n",
            "569 separable_conv_2_bn_reduction_right2_reduce_8\n",
            "570 separable_conv_2_reduction_right3_reduce_8\n",
            "571 separable_conv_2_reduction_left4_reduce_8\n",
            "572 adjust_relu_1_9\n",
            "573 reduction_add_2_reduce_8\n",
            "574 reduction_left3_reduce_8\n",
            "575 separable_conv_2_bn_reduction_right3_reduce_8\n",
            "576 reduction_left4_reduce_8\n",
            "577 separable_conv_2_bn_reduction_left4_reduce_8\n",
            "578 reduction_right5_reduce_8\n",
            "579 zero_padding2d_3\n",
            "580 reduction_add3_reduce_8\n",
            "581 add_3\n",
            "582 reduction_add4_reduce_8\n",
            "583 cropping2d_3\n",
            "584 reduction_concat_reduce_8\n",
            "585 adjust_avg_pool_1_9\n",
            "586 adjust_avg_pool_2_9\n",
            "587 adjust_conv_1_9\n",
            "588 adjust_conv_2_9\n",
            "589 activation_140\n",
            "590 concatenate_3\n",
            "591 normal_conv_1_9\n",
            "592 adjust_bn_9\n",
            "593 normal_bn_1_9\n",
            "594 activation_141\n",
            "595 activation_143\n",
            "596 activation_145\n",
            "597 activation_147\n",
            "598 activation_149\n",
            "599 separable_conv_1_normal_left1_9\n",
            "600 separable_conv_1_normal_right1_9\n",
            "601 separable_conv_1_normal_left2_9\n",
            "602 separable_conv_1_normal_right2_9\n",
            "603 separable_conv_1_normal_left5_9\n",
            "604 separable_conv_1_bn_normal_left1_9\n",
            "605 separable_conv_1_bn_normal_right1_9\n",
            "606 separable_conv_1_bn_normal_left2_9\n",
            "607 separable_conv_1_bn_normal_right2_9\n",
            "608 separable_conv_1_bn_normal_left5_9\n",
            "609 activation_142\n",
            "610 activation_144\n",
            "611 activation_146\n",
            "612 activation_148\n",
            "613 activation_150\n",
            "614 separable_conv_2_normal_left1_9\n",
            "615 separable_conv_2_normal_right1_9\n",
            "616 separable_conv_2_normal_left2_9\n",
            "617 separable_conv_2_normal_right2_9\n",
            "618 separable_conv_2_normal_left5_9\n",
            "619 separable_conv_2_bn_normal_left1_9\n",
            "620 separable_conv_2_bn_normal_right1_9\n",
            "621 separable_conv_2_bn_normal_left2_9\n",
            "622 separable_conv_2_bn_normal_right2_9\n",
            "623 normal_left3_9\n",
            "624 normal_left4_9\n",
            "625 normal_right4_9\n",
            "626 separable_conv_2_bn_normal_left5_9\n",
            "627 normal_add_1_9\n",
            "628 normal_add_2_9\n",
            "629 normal_add_3_9\n",
            "630 normal_add_4_9\n",
            "631 normal_add_5_9\n",
            "632 normal_concat_9\n",
            "633 activation_151\n",
            "634 activation_152\n",
            "635 adjust_conv_projection_10\n",
            "636 normal_conv_1_10\n",
            "637 adjust_bn_10\n",
            "638 normal_bn_1_10\n",
            "639 activation_153\n",
            "640 activation_155\n",
            "641 activation_157\n",
            "642 activation_159\n",
            "643 activation_161\n",
            "644 separable_conv_1_normal_left1_10\n",
            "645 separable_conv_1_normal_right1_10\n",
            "646 separable_conv_1_normal_left2_10\n",
            "647 separable_conv_1_normal_right2_10\n",
            "648 separable_conv_1_normal_left5_10\n",
            "649 separable_conv_1_bn_normal_left1_10\n",
            "650 separable_conv_1_bn_normal_right1_10\n",
            "651 separable_conv_1_bn_normal_left2_10\n",
            "652 separable_conv_1_bn_normal_right2_10\n",
            "653 separable_conv_1_bn_normal_left5_10\n",
            "654 activation_154\n",
            "655 activation_156\n",
            "656 activation_158\n",
            "657 activation_160\n",
            "658 activation_162\n",
            "659 separable_conv_2_normal_left1_10\n",
            "660 separable_conv_2_normal_right1_10\n",
            "661 separable_conv_2_normal_left2_10\n",
            "662 separable_conv_2_normal_right2_10\n",
            "663 separable_conv_2_normal_left5_10\n",
            "664 separable_conv_2_bn_normal_left1_10\n",
            "665 separable_conv_2_bn_normal_right1_10\n",
            "666 separable_conv_2_bn_normal_left2_10\n",
            "667 separable_conv_2_bn_normal_right2_10\n",
            "668 normal_left3_10\n",
            "669 normal_left4_10\n",
            "670 normal_right4_10\n",
            "671 separable_conv_2_bn_normal_left5_10\n",
            "672 normal_add_1_10\n",
            "673 normal_add_2_10\n",
            "674 normal_add_3_10\n",
            "675 normal_add_4_10\n",
            "676 normal_add_5_10\n",
            "677 normal_concat_10\n",
            "678 activation_163\n",
            "679 activation_164\n",
            "680 adjust_conv_projection_11\n",
            "681 normal_conv_1_11\n",
            "682 adjust_bn_11\n",
            "683 normal_bn_1_11\n",
            "684 activation_165\n",
            "685 activation_167\n",
            "686 activation_169\n",
            "687 activation_171\n",
            "688 activation_173\n",
            "689 separable_conv_1_normal_left1_11\n",
            "690 separable_conv_1_normal_right1_11\n",
            "691 separable_conv_1_normal_left2_11\n",
            "692 separable_conv_1_normal_right2_11\n",
            "693 separable_conv_1_normal_left5_11\n",
            "694 separable_conv_1_bn_normal_left1_11\n",
            "695 separable_conv_1_bn_normal_right1_11\n",
            "696 separable_conv_1_bn_normal_left2_11\n",
            "697 separable_conv_1_bn_normal_right2_11\n",
            "698 separable_conv_1_bn_normal_left5_11\n",
            "699 activation_166\n",
            "700 activation_168\n",
            "701 activation_170\n",
            "702 activation_172\n",
            "703 activation_174\n",
            "704 separable_conv_2_normal_left1_11\n",
            "705 separable_conv_2_normal_right1_11\n",
            "706 separable_conv_2_normal_left2_11\n",
            "707 separable_conv_2_normal_right2_11\n",
            "708 separable_conv_2_normal_left5_11\n",
            "709 separable_conv_2_bn_normal_left1_11\n",
            "710 separable_conv_2_bn_normal_right1_11\n",
            "711 separable_conv_2_bn_normal_left2_11\n",
            "712 separable_conv_2_bn_normal_right2_11\n",
            "713 normal_left3_11\n",
            "714 normal_left4_11\n",
            "715 normal_right4_11\n",
            "716 separable_conv_2_bn_normal_left5_11\n",
            "717 normal_add_1_11\n",
            "718 normal_add_2_11\n",
            "719 normal_add_3_11\n",
            "720 normal_add_4_11\n",
            "721 normal_add_5_11\n",
            "722 normal_concat_11\n",
            "723 activation_175\n",
            "724 activation_176\n",
            "725 adjust_conv_projection_12\n",
            "726 normal_conv_1_12\n",
            "727 adjust_bn_12\n",
            "728 normal_bn_1_12\n",
            "729 activation_177\n",
            "730 activation_179\n",
            "731 activation_181\n",
            "732 activation_183\n",
            "733 activation_185\n",
            "734 separable_conv_1_normal_left1_12\n",
            "735 separable_conv_1_normal_right1_12\n",
            "736 separable_conv_1_normal_left2_12\n",
            "737 separable_conv_1_normal_right2_12\n",
            "738 separable_conv_1_normal_left5_12\n",
            "739 separable_conv_1_bn_normal_left1_12\n",
            "740 separable_conv_1_bn_normal_right1_12\n",
            "741 separable_conv_1_bn_normal_left2_12\n",
            "742 separable_conv_1_bn_normal_right2_12\n",
            "743 separable_conv_1_bn_normal_left5_12\n",
            "744 activation_178\n",
            "745 activation_180\n",
            "746 activation_182\n",
            "747 activation_184\n",
            "748 activation_186\n",
            "749 separable_conv_2_normal_left1_12\n",
            "750 separable_conv_2_normal_right1_12\n",
            "751 separable_conv_2_normal_left2_12\n",
            "752 separable_conv_2_normal_right2_12\n",
            "753 separable_conv_2_normal_left5_12\n",
            "754 separable_conv_2_bn_normal_left1_12\n",
            "755 separable_conv_2_bn_normal_right1_12\n",
            "756 separable_conv_2_bn_normal_left2_12\n",
            "757 separable_conv_2_bn_normal_right2_12\n",
            "758 normal_left3_12\n",
            "759 normal_left4_12\n",
            "760 normal_right4_12\n",
            "761 separable_conv_2_bn_normal_left5_12\n",
            "762 normal_add_1_12\n",
            "763 normal_add_2_12\n",
            "764 normal_add_3_12\n",
            "765 normal_add_4_12\n",
            "766 normal_add_5_12\n",
            "767 normal_concat_12\n",
            "768 activation_187\n"
          ],
          "name": "stdout"
        }
      ]
    },
    {
      "cell_type": "code",
      "metadata": {
        "id": "qKS_p6t5im1w",
        "colab_type": "code",
        "colab": {}
      },
      "source": [
        "base_model.trainable = True\n",
        "\n",
        "fine_tune_at = 591\n",
        "for layer in base_model.layers[:fine_tune_at]:\n",
        "  layer.trainable =  False"
      ],
      "execution_count": 0,
      "outputs": []
    },
    {
      "cell_type": "code",
      "metadata": {
        "id": "LHxoXp8oJZG9",
        "colab_type": "code",
        "outputId": "3a76d017-40d9-4269-ec4d-200f4a59ab58",
        "colab": {
          "base_uri": "https://localhost:8080/",
          "height": 323
        }
      },
      "source": [
        "model = tf.keras.models.Sequential([\n",
        "  base_model,\n",
        "  tf.keras.layers.Dropout(0.5),\n",
        "  tf.keras.layers.Flatten(),\n",
        "  tf.keras.layers.Dense(512, activation='relu'),\n",
        "  tf.keras.layers.Dense(10, activation='softmax')\n",
        "])\n",
        "\n",
        "model.summary()"
      ],
      "execution_count": 6,
      "outputs": [
        {
          "output_type": "stream",
          "text": [
            "Model: \"sequential\"\n",
            "_________________________________________________________________\n",
            "Layer (type)                 Output Shape              Param #   \n",
            "=================================================================\n",
            "NASNet (Model)               (None, 7, 7, 1056)        4269716   \n",
            "_________________________________________________________________\n",
            "dropout (Dropout)            (None, 7, 7, 1056)        0         \n",
            "_________________________________________________________________\n",
            "flatten (Flatten)            (None, 51744)             0         \n",
            "_________________________________________________________________\n",
            "dense (Dense)                (None, 512)               26493440  \n",
            "_________________________________________________________________\n",
            "dense_1 (Dense)              (None, 10)                5130      \n",
            "=================================================================\n",
            "Total params: 30,768,286\n",
            "Trainable params: 29,040,010\n",
            "Non-trainable params: 1,728,276\n",
            "_________________________________________________________________\n"
          ],
          "name": "stdout"
        }
      ]
    },
    {
      "cell_type": "markdown",
      "metadata": {
        "id": "Uyxc32X_AGxr",
        "colab_type": "text"
      },
      "source": [
        "# **Define Learning Parameter**"
      ]
    },
    {
      "cell_type": "code",
      "metadata": {
        "id": "m4md_AcCJmLP",
        "colab_type": "code",
        "colab": {}
      },
      "source": [
        "model.compile(loss = 'categorical_crossentropy', optimizer='adam', metrics=['accuracy'])"
      ],
      "execution_count": 0,
      "outputs": []
    },
    {
      "cell_type": "markdown",
      "metadata": {
        "id": "KUBWHWfFAKT1",
        "colab_type": "text"
      },
      "source": [
        "# **Begin Training**"
      ]
    },
    {
      "cell_type": "code",
      "metadata": {
        "id": "OroSPil1Jtze",
        "colab_type": "code",
        "outputId": "c8502449-15d9-4fb3-ebe3-9391c0aae49a",
        "colab": {
          "base_uri": "https://localhost:8080/",
          "height": 697
        }
      },
      "source": [
        "history = model.fit(train_generator, epochs=20, validation_data=validation_generator)"
      ],
      "execution_count": 8,
      "outputs": [
        {
          "output_type": "stream",
          "text": [
            "Epoch 1/20\n",
            "144/144 [==============================] - 230s 2s/step - loss: 1.6706 - accuracy: 0.6208 - val_loss: 50.5959 - val_accuracy: 0.1119\n",
            "Epoch 2/20\n",
            "144/144 [==============================] - 228s 2s/step - loss: 0.3020 - accuracy: 0.9022 - val_loss: 13.3244 - val_accuracy: 0.1597\n",
            "Epoch 3/20\n",
            "144/144 [==============================] - 230s 2s/step - loss: 0.2057 - accuracy: 0.9332 - val_loss: 6.2259 - val_accuracy: 0.2923\n",
            "Epoch 4/20\n",
            "144/144 [==============================] - 233s 2s/step - loss: 0.1647 - accuracy: 0.9466 - val_loss: 6.1387 - val_accuracy: 0.2949\n",
            "Epoch 5/20\n",
            "144/144 [==============================] - 230s 2s/step - loss: 0.1398 - accuracy: 0.9533 - val_loss: 2.3188 - val_accuracy: 0.4846\n",
            "Epoch 6/20\n",
            "144/144 [==============================] - 239s 2s/step - loss: 0.1248 - accuracy: 0.9577 - val_loss: 3.1800 - val_accuracy: 0.3653\n",
            "Epoch 7/20\n",
            "144/144 [==============================] - 234s 2s/step - loss: 0.1108 - accuracy: 0.9630 - val_loss: 3.7976 - val_accuracy: 0.4044\n",
            "Epoch 8/20\n",
            "144/144 [==============================] - 237s 2s/step - loss: 0.1022 - accuracy: 0.9670 - val_loss: 2.8885 - val_accuracy: 0.4083\n",
            "Epoch 9/20\n",
            "144/144 [==============================] - 232s 2s/step - loss: 0.0881 - accuracy: 0.9717 - val_loss: 2.6558 - val_accuracy: 0.5405\n",
            "Epoch 10/20\n",
            "144/144 [==============================] - 226s 2s/step - loss: 0.0827 - accuracy: 0.9731 - val_loss: 4.5541 - val_accuracy: 0.3976\n",
            "Epoch 11/20\n",
            "144/144 [==============================] - 226s 2s/step - loss: 0.0837 - accuracy: 0.9726 - val_loss: 2.8010 - val_accuracy: 0.4375\n",
            "Epoch 12/20\n",
            "144/144 [==============================] - 226s 2s/step - loss: 0.0815 - accuracy: 0.9728 - val_loss: 4.0095 - val_accuracy: 0.4174\n",
            "Epoch 13/20\n",
            "144/144 [==============================] - 229s 2s/step - loss: 0.0708 - accuracy: 0.9763 - val_loss: 1.5219 - val_accuracy: 0.6203\n",
            "Epoch 14/20\n",
            "144/144 [==============================] - 229s 2s/step - loss: 0.0730 - accuracy: 0.9762 - val_loss: 0.8065 - val_accuracy: 0.7374\n",
            "Epoch 15/20\n",
            "144/144 [==============================] - 227s 2s/step - loss: 0.0637 - accuracy: 0.9782 - val_loss: 1.3702 - val_accuracy: 0.6733\n",
            "Epoch 16/20\n",
            "144/144 [==============================] - 226s 2s/step - loss: 0.0658 - accuracy: 0.9786 - val_loss: 1.3883 - val_accuracy: 0.5906\n",
            "Epoch 17/20\n",
            "144/144 [==============================] - 227s 2s/step - loss: 0.0614 - accuracy: 0.9799 - val_loss: 2.0266 - val_accuracy: 0.6015\n",
            "Epoch 18/20\n",
            "144/144 [==============================] - 230s 2s/step - loss: 0.0573 - accuracy: 0.9814 - val_loss: 1.2025 - val_accuracy: 0.7243\n",
            "Epoch 19/20\n",
            "144/144 [==============================] - 228s 2s/step - loss: 0.0623 - accuracy: 0.9792 - val_loss: 1.4107 - val_accuracy: 0.7228\n",
            "Epoch 20/20\n",
            "144/144 [==============================] - 235s 2s/step - loss: 0.0582 - accuracy: 0.9809 - val_loss: 1.5114 - val_accuracy: 0.6975\n"
          ],
          "name": "stdout"
        }
      ]
    },
    {
      "cell_type": "markdown",
      "metadata": {
        "id": "exhbGtNqAOMR",
        "colab_type": "text"
      },
      "source": [
        "# **Plot Training Results**"
      ]
    },
    {
      "cell_type": "code",
      "metadata": {
        "id": "fgRddGypJ-PM",
        "colab_type": "code",
        "outputId": "52c0b33f-5140-403b-ea86-86dc9fd699a1",
        "colab": {
          "base_uri": "https://localhost:8080/",
          "height": 579
        }
      },
      "source": [
        "acc = history.history['accuracy']\n",
        "val_acc = history.history['val_accuracy']\n",
        "loss = history.history['loss']\n",
        "val_loss = history.history['val_loss']\n",
        "\n",
        "epochs = range(len(acc))\n",
        "\n",
        "plt.ylim(0, 1)\n",
        "plt.xlim(0, 20)\n",
        "plt.plot(epochs, acc, 'r', label='Training accuracy')\n",
        "plt.plot(epochs, val_acc, 'b', label='Validation accuracy')\n",
        "plt.title('Training and Validation Accuracy')\n",
        "plt.legend(loc=0)\n",
        "plt.figure()\n",
        "plt.show()\n",
        "\n",
        "plt.ylim(0, 7)\n",
        "plt.xlim(0, 20)\n",
        "plt.plot(epochs, loss, 'r', label='Training loss')\n",
        "plt.plot(epochs, val_loss, 'b', label='Validation loss')\n",
        "plt.title('Training and Validation Loss')\n",
        "plt.legend(loc=0)\n",
        "plt.figure()\n",
        "plt.show()"
      ],
      "execution_count": 9,
      "outputs": [
        {
          "output_type": "display_data",
          "data": {
            "image/png": "[encoded data removed]",
            "text/plain": [
              "<Figure size 432x288 with 1 Axes>"
            ]
          },
          "metadata": {
            "tags": [],
            "needs_background": "light"
          }
        },
        {
          "output_type": "display_data",
          "data": {
            "text/plain": [
              "<Figure size 432x288 with 0 Axes>"
            ]
          },
          "metadata": {
            "tags": []
          }
        },
        {
          "output_type": "display_data",
          "data": {
            "image/png": "[encoded data removed]",
            "text/plain": [
              "<Figure size 432x288 with 1 Axes>"
            ]
          },
          "metadata": {
            "tags": [],
            "needs_background": "light"
          }
        },
        {
          "output_type": "display_data",
          "data": {
            "text/plain": [
              "<Figure size 432x288 with 0 Axes>"
            ]
          },
          "metadata": {
            "tags": []
          }
        }
      ]
    },
    {
      "cell_type": "markdown",
      "metadata": {
        "id": "YU_WnrdZARqm",
        "colab_type": "text"
      },
      "source": [
        "# **Save Model**"
      ]
    },
    {
      "cell_type": "code",
      "metadata": {
        "id": "GsNf983i56fg",
        "colab_type": "code",
        "colab": {}
      },
      "source": [
        "export_path = \"/content/saved_model\"\n",
        "\n",
        "try: \n",
        "  os.mkdir(export_path) \n",
        "except OSError as error: \n",
        "  print(error) \n",
        "\n",
        "tf.keras.models.save_model(\n",
        "    model,\n",
        "    export_path,\n",
        "    overwrite=True,\n",
        "    include_optimizer=True,\n",
        "    save_format=None,\n",
        "    signatures=None,\n",
        "    options=None\n",
        ")\n",
        "\n",
        "print('\\nSaved model:')\n",
        "!ls -l {export_path}"
      ],
      "execution_count": 0,
      "outputs": []
    },
    {
      "cell_type": "markdown",
      "metadata": {
        "id": "q7B1xWYEAhRO",
        "colab_type": "text"
      },
      "source": [
        "# **Download Saved Model**"
      ]
    },
    {
      "cell_type": "code",
      "metadata": {
        "id": "CQqzQDapAkZJ",
        "colab_type": "code",
        "colab": {}
      },
      "source": [
        "!zip -r /content/nasnetmobile.zip /content/saved_model"
      ],
      "execution_count": 0,
      "outputs": []
    },
    {
      "cell_type": "code",
      "metadata": {
        "id": "6qoVflybAleo",
        "colab_type": "code",
        "colab": {}
      },
      "source": [
        "files.download(\"/content/nasnetmobile.zip\")"
      ],
      "execution_count": 0,
      "outputs": []
    },
    {
      "cell_type": "markdown",
      "metadata": {
        "id": "TMpvoyht8mfS",
        "colab_type": "text"
      },
      "source": [
        "# **Save to Google Drive**"
      ]
    },
    {
      "cell_type": "code",
      "metadata": {
        "id": "x7rMsKS-8ltG",
        "colab_type": "code",
        "colab": {}
      },
      "source": [
        "from google.colab import drive\n",
        "drive.mount('/content/gdrive/')"
      ],
      "execution_count": 0,
      "outputs": []
    },
    {
      "cell_type": "code",
      "metadata": {
        "id": "LWMC-SsT9pfq",
        "colab_type": "code",
        "colab": {}
      },
      "source": [
        "!cp nasnetmobile.zip '/content/gdrive/My Drive/Saved Model/'"
      ],
      "execution_count": 0,
      "outputs": []
    },
    {
      "cell_type": "markdown",
      "metadata": {
        "id": "R2hue0PIAs_d",
        "colab_type": "text"
      },
      "source": [
        "# **Upload Saved Model**"
      ]
    },
    {
      "cell_type": "code",
      "metadata": {
        "id": "cku5_pQKCBhc",
        "colab_type": "code",
        "colab": {}
      },
      "source": [
        "uploaded = files.upload()\n",
        "!unzip /content/nasnetmobile.zip\n",
        "model = tf.keras.models.load_model('/content/saved_model/')\n",
        "model.summary()"
      ],
      "execution_count": 0,
      "outputs": []
    },
    {
      "cell_type": "markdown",
      "metadata": {
        "id": "b002bdfHL8oO",
        "colab_type": "text"
      },
      "source": [
        "# **Upload Saved Model From Google Drive**"
      ]
    },
    {
      "cell_type": "code",
      "metadata": {
        "id": "FdZRa9NaMCMo",
        "colab_type": "code",
        "colab": {}
      },
      "source": [
        "from google.colab import drive\n",
        "drive.mount('/content/gdrive/')"
      ],
      "execution_count": 0,
      "outputs": []
    },
    {
      "cell_type": "code",
      "metadata": {
        "id": "lR6dq8kvMRHy",
        "colab_type": "code",
        "colab": {}
      },
      "source": [
        "!cp '/content/gdrive/My Drive/Saved Model/nasnetmobile.zip' /content/\n",
        "!unzip /content/nasnetmobile.zip\n",
        "model = tf.keras.models.load_model('/content/saved_model/')\n",
        "model.summary()"
      ],
      "execution_count": 0,
      "outputs": []
    },
    {
      "cell_type": "markdown",
      "metadata": {
        "id": "kAkWoG6AA4kN",
        "colab_type": "text"
      },
      "source": [
        "# **Try Classification**"
      ]
    },
    {
      "cell_type": "code",
      "metadata": {
        "id": "gqM8HjQjXSNo",
        "colab_type": "code",
        "colab": {}
      },
      "source": [
        "from google.colab import files\n",
        "\n",
        "file = files.upload()\n",
        "\n",
        "img = image.load_img(list(file.keys())[0], target_size=(224, 224))\n",
        "img = image.img_to_array(img)\n",
        "img = img.reshape(1, 224, 224, 3)\n",
        "img = img.astype('float32')\n",
        "img = img / 255.0\n",
        "result = model.predict(img)\n",
        "result = list(result[0]).index(max(result[0]))\n",
        "\n",
        "print(\"\\n\\nResult :\")\n",
        "\n",
        "if result == 0:\n",
        "  print(\"Bacterial Spot\")\n",
        "elif result == 1:\n",
        "  print(\"Early Blight\")\n",
        "elif result == 2:\n",
        "  print(\"Late Blight\")\n",
        "elif result == 3:\n",
        "  print(\"Leaf Mold\")\n",
        "elif result == 4:\n",
        "  print(\"Septoria Leaf Spot\")\n",
        "elif result == 5:\n",
        "  print(\"Spider Mites\")\n",
        "elif result == 6:\n",
        "  print(\"Target Spot\")\n",
        "elif result == 7:\n",
        "  print(\"Yellow Leaf Curl Virus\")\n",
        "elif result == 8:\n",
        "  print(\"Mosaic Virus\")\n",
        "else:\n",
        "  print(\"Healthy\")"
      ],
      "execution_count": 0,
      "outputs": []
    }
  ]
}