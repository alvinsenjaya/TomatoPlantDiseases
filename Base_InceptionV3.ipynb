{
  "nbformat": 4,
  "nbformat_minor": 0,
  "metadata": {
    "colab": {
      "name": "Base_InceptionV3.ipynb",
      "provenance": [],
      "toc_visible": true,
      "authorship_tag": "ABX9TyNlVf6eFydjk0+NG/4RN/IS",
      "include_colab_link": true
    },
    "kernelspec": {
      "name": "python3",
      "display_name": "Python 3"
    },
    "accelerator": "GPU"
  },
  "cells": [
    {
      "cell_type": "markdown",
      "metadata": {
        "id": "view-in-github",
        "colab_type": "text"
      },
      "source": [
        "<a href=\"https://colab.research.google.com/github/alvinsenjaya/TomatoPlantDiseases/blob/master/Base_InceptionV3.ipynb\" target=\"_parent\"><img src=\"https://colab.research.google.com/assets/colab-badge.svg\" alt=\"Open In Colab\"/></a>"
      ]
    },
    {
      "cell_type": "markdown",
      "metadata": {
        "id": "0CB3ymUq_xbl",
        "colab_type": "text"
      },
      "source": [
        "# **Import Required Libraries**"
      ]
    },
    {
      "cell_type": "code",
      "metadata": {
        "id": "YA4DqHkTHU8Q",
        "colab_type": "code",
        "colab": {}
      },
      "source": [
        "import os\n",
        "import tensorflow as tf\n",
        "import keras_preprocessing\n",
        "from keras_preprocessing import image\n",
        "from keras_preprocessing.image import ImageDataGenerator\n",
        "import matplotlib.pyplot as plt"
      ],
      "execution_count": 0,
      "outputs": []
    },
    {
      "cell_type": "markdown",
      "metadata": {
        "id": "TEfmO-5N_2lE",
        "colab_type": "text"
      },
      "source": [
        "# **Download Dataset**"
      ]
    },
    {
      "cell_type": "code",
      "metadata": {
        "id": "CZiv2ZYOFuJm",
        "colab_type": "code",
        "colab": {}
      },
      "source": [
        "os.environ['KAGGLE_USERNAME']=\"xxxxx\"\n",
        "os.environ['KAGGLE_KEY']=\"xxxxxxxxxxxxxxxxx\""
      ],
      "execution_count": 0,
      "outputs": []
    },
    {
      "cell_type": "code",
      "metadata": {
        "id": "79ov0m65F1Oi",
        "colab_type": "code",
        "outputId": "efcf904e-381e-43df-8ee0-cd946d1305b1",
        "colab": {
          "base_uri": "https://localhost:8080/",
          "height": 68
        }
      },
      "source": [
        "!kaggle datasets download noulam/tomato"
      ],
      "execution_count": 3,
      "outputs": [
        {
          "output_type": "stream",
          "text": [
            "Downloading tomato.zip to /content\n",
            " 97% 724M/743M [00:15<00:00, 39.5MB/s]\n",
            "100% 743M/743M [00:15<00:00, 50.1MB/s]\n"
          ],
          "name": "stdout"
        }
      ]
    },
    {
      "cell_type": "code",
      "metadata": {
        "id": "r6BeaWYFGL4M",
        "colab_type": "code",
        "colab": {}
      },
      "source": [
        "!unzip tomato.zip"
      ],
      "execution_count": 0,
      "outputs": []
    },
    {
      "cell_type": "markdown",
      "metadata": {
        "id": "wU_wV1eF_79t",
        "colab_type": "text"
      },
      "source": [
        "# **Image Preprocessing**"
      ]
    },
    {
      "cell_type": "code",
      "metadata": {
        "id": "WBHtjQ0EGxqL",
        "colab_type": "code",
        "outputId": "e47dc4dc-d3fe-45bd-dc9a-bb7bdecbdc18",
        "colab": {
          "base_uri": "https://localhost:8080/",
          "height": 51
        }
      },
      "source": [
        "TRAINING_DIR = '/content/New Plant Diseases Dataset(Augmented)/train/'\n",
        "training_datagen = ImageDataGenerator(\n",
        "    rescale = 1./255,\n",
        "    rotation_range=90,\n",
        "    width_shift_range=0.2,\n",
        "    height_shift_range=0.2,\n",
        "    shear_range=0.2,\n",
        "    zoom_range=0.2,\n",
        "    horizontal_flip=True,\n",
        "    fill_mode='nearest')\n",
        "\n",
        "VALIDATION_DIR = '/content/New Plant Diseases Dataset(Augmented)/valid/'\n",
        "validation_datagen = ImageDataGenerator(rescale = 1./255)\n",
        "\n",
        "train_generator = training_datagen.flow_from_directory(\n",
        "    TRAINING_DIR,\n",
        "    target_size=(256,256),\n",
        "    class_mode='categorical',\n",
        "    batch_size=128\n",
        ")\n",
        "\n",
        "validation_generator = validation_datagen.flow_from_directory(\n",
        "    VALIDATION_DIR,\n",
        "    target_size=(256,256),\n",
        "    class_mode='categorical',\n",
        "    batch_size=128\n",
        ")"
      ],
      "execution_count": 3,
      "outputs": [
        {
          "output_type": "stream",
          "text": [
            "Found 18345 images belonging to 10 classes.\n",
            "Found 4585 images belonging to 10 classes.\n"
          ],
          "name": "stdout"
        }
      ]
    },
    {
      "cell_type": "markdown",
      "metadata": {
        "id": "9RfLmCxrABDw",
        "colab_type": "text"
      },
      "source": [
        "# **Define Machine Learning Model**"
      ]
    },
    {
      "cell_type": "code",
      "metadata": {
        "id": "gXB5NTVWiXFL",
        "colab_type": "code",
        "colab": {
          "base_uri": "https://localhost:8080/",
          "height": 34
        },
        "outputId": "53995d33-eb99-437e-8ee2-8a8b2668867d"
      },
      "source": [
        "base_model = tf.keras.applications.InceptionV3(weights='imagenet', include_top=False, input_shape=(256,256,3))\n",
        "\n",
        "print(\"Number of layers in the base model: \", len(base_model.layers))"
      ],
      "execution_count": 4,
      "outputs": [
        {
          "output_type": "stream",
          "text": [
            "Number of layers in the base model:  311\n"
          ],
          "name": "stdout"
        }
      ]
    },
    {
      "cell_type": "code",
      "metadata": {
        "id": "X9E7LnYJihkB",
        "colab_type": "code",
        "colab": {
          "base_uri": "https://localhost:8080/",
          "height": 1000
        },
        "outputId": "36e6463c-b8c2-4995-ec3e-75bd7129082e"
      },
      "source": [
        "for i, layer in enumerate(base_model.layers):\n",
        "  print(i, layer.name)"
      ],
      "execution_count": 5,
      "outputs": [
        {
          "output_type": "stream",
          "text": [
            "0 input_1\n",
            "1 conv2d\n",
            "2 batch_normalization\n",
            "3 activation\n",
            "4 conv2d_1\n",
            "5 batch_normalization_1\n",
            "6 activation_1\n",
            "7 conv2d_2\n",
            "8 batch_normalization_2\n",
            "9 activation_2\n",
            "10 max_pooling2d\n",
            "11 conv2d_3\n",
            "12 batch_normalization_3\n",
            "13 activation_3\n",
            "14 conv2d_4\n",
            "15 batch_normalization_4\n",
            "16 activation_4\n",
            "17 max_pooling2d_1\n",
            "18 conv2d_8\n",
            "19 batch_normalization_8\n",
            "20 activation_8\n",
            "21 conv2d_6\n",
            "22 conv2d_9\n",
            "23 batch_normalization_6\n",
            "24 batch_normalization_9\n",
            "25 activation_6\n",
            "26 activation_9\n",
            "27 average_pooling2d\n",
            "28 conv2d_5\n",
            "29 conv2d_7\n",
            "30 conv2d_10\n",
            "31 conv2d_11\n",
            "32 batch_normalization_5\n",
            "33 batch_normalization_7\n",
            "34 batch_normalization_10\n",
            "35 batch_normalization_11\n",
            "36 activation_5\n",
            "37 activation_7\n",
            "38 activation_10\n",
            "39 activation_11\n",
            "40 mixed0\n",
            "41 conv2d_15\n",
            "42 batch_normalization_15\n",
            "43 activation_15\n",
            "44 conv2d_13\n",
            "45 conv2d_16\n",
            "46 batch_normalization_13\n",
            "47 batch_normalization_16\n",
            "48 activation_13\n",
            "49 activation_16\n",
            "50 average_pooling2d_1\n",
            "51 conv2d_12\n",
            "52 conv2d_14\n",
            "53 conv2d_17\n",
            "54 conv2d_18\n",
            "55 batch_normalization_12\n",
            "56 batch_normalization_14\n",
            "57 batch_normalization_17\n",
            "58 batch_normalization_18\n",
            "59 activation_12\n",
            "60 activation_14\n",
            "61 activation_17\n",
            "62 activation_18\n",
            "63 mixed1\n",
            "64 conv2d_22\n",
            "65 batch_normalization_22\n",
            "66 activation_22\n",
            "67 conv2d_20\n",
            "68 conv2d_23\n",
            "69 batch_normalization_20\n",
            "70 batch_normalization_23\n",
            "71 activation_20\n",
            "72 activation_23\n",
            "73 average_pooling2d_2\n",
            "74 conv2d_19\n",
            "75 conv2d_21\n",
            "76 conv2d_24\n",
            "77 conv2d_25\n",
            "78 batch_normalization_19\n",
            "79 batch_normalization_21\n",
            "80 batch_normalization_24\n",
            "81 batch_normalization_25\n",
            "82 activation_19\n",
            "83 activation_21\n",
            "84 activation_24\n",
            "85 activation_25\n",
            "86 mixed2\n",
            "87 conv2d_27\n",
            "88 batch_normalization_27\n",
            "89 activation_27\n",
            "90 conv2d_28\n",
            "91 batch_normalization_28\n",
            "92 activation_28\n",
            "93 conv2d_26\n",
            "94 conv2d_29\n",
            "95 batch_normalization_26\n",
            "96 batch_normalization_29\n",
            "97 activation_26\n",
            "98 activation_29\n",
            "99 max_pooling2d_2\n",
            "100 mixed3\n",
            "101 conv2d_34\n",
            "102 batch_normalization_34\n",
            "103 activation_34\n",
            "104 conv2d_35\n",
            "105 batch_normalization_35\n",
            "106 activation_35\n",
            "107 conv2d_31\n",
            "108 conv2d_36\n",
            "109 batch_normalization_31\n",
            "110 batch_normalization_36\n",
            "111 activation_31\n",
            "112 activation_36\n",
            "113 conv2d_32\n",
            "114 conv2d_37\n",
            "115 batch_normalization_32\n",
            "116 batch_normalization_37\n",
            "117 activation_32\n",
            "118 activation_37\n",
            "119 average_pooling2d_3\n",
            "120 conv2d_30\n",
            "121 conv2d_33\n",
            "122 conv2d_38\n",
            "123 conv2d_39\n",
            "124 batch_normalization_30\n",
            "125 batch_normalization_33\n",
            "126 batch_normalization_38\n",
            "127 batch_normalization_39\n",
            "128 activation_30\n",
            "129 activation_33\n",
            "130 activation_38\n",
            "131 activation_39\n",
            "132 mixed4\n",
            "133 conv2d_44\n",
            "134 batch_normalization_44\n",
            "135 activation_44\n",
            "136 conv2d_45\n",
            "137 batch_normalization_45\n",
            "138 activation_45\n",
            "139 conv2d_41\n",
            "140 conv2d_46\n",
            "141 batch_normalization_41\n",
            "142 batch_normalization_46\n",
            "143 activation_41\n",
            "144 activation_46\n",
            "145 conv2d_42\n",
            "146 conv2d_47\n",
            "147 batch_normalization_42\n",
            "148 batch_normalization_47\n",
            "149 activation_42\n",
            "150 activation_47\n",
            "151 average_pooling2d_4\n",
            "152 conv2d_40\n",
            "153 conv2d_43\n",
            "154 conv2d_48\n",
            "155 conv2d_49\n",
            "156 batch_normalization_40\n",
            "157 batch_normalization_43\n",
            "158 batch_normalization_48\n",
            "159 batch_normalization_49\n",
            "160 activation_40\n",
            "161 activation_43\n",
            "162 activation_48\n",
            "163 activation_49\n",
            "164 mixed5\n",
            "165 conv2d_54\n",
            "166 batch_normalization_54\n",
            "167 activation_54\n",
            "168 conv2d_55\n",
            "169 batch_normalization_55\n",
            "170 activation_55\n",
            "171 conv2d_51\n",
            "172 conv2d_56\n",
            "173 batch_normalization_51\n",
            "174 batch_normalization_56\n",
            "175 activation_51\n",
            "176 activation_56\n",
            "177 conv2d_52\n",
            "178 conv2d_57\n",
            "179 batch_normalization_52\n",
            "180 batch_normalization_57\n",
            "181 activation_52\n",
            "182 activation_57\n",
            "183 average_pooling2d_5\n",
            "184 conv2d_50\n",
            "185 conv2d_53\n",
            "186 conv2d_58\n",
            "187 conv2d_59\n",
            "188 batch_normalization_50\n",
            "189 batch_normalization_53\n",
            "190 batch_normalization_58\n",
            "191 batch_normalization_59\n",
            "192 activation_50\n",
            "193 activation_53\n",
            "194 activation_58\n",
            "195 activation_59\n",
            "196 mixed6\n",
            "197 conv2d_64\n",
            "198 batch_normalization_64\n",
            "199 activation_64\n",
            "200 conv2d_65\n",
            "201 batch_normalization_65\n",
            "202 activation_65\n",
            "203 conv2d_61\n",
            "204 conv2d_66\n",
            "205 batch_normalization_61\n",
            "206 batch_normalization_66\n",
            "207 activation_61\n",
            "208 activation_66\n",
            "209 conv2d_62\n",
            "210 conv2d_67\n",
            "211 batch_normalization_62\n",
            "212 batch_normalization_67\n",
            "213 activation_62\n",
            "214 activation_67\n",
            "215 average_pooling2d_6\n",
            "216 conv2d_60\n",
            "217 conv2d_63\n",
            "218 conv2d_68\n",
            "219 conv2d_69\n",
            "220 batch_normalization_60\n",
            "221 batch_normalization_63\n",
            "222 batch_normalization_68\n",
            "223 batch_normalization_69\n",
            "224 activation_60\n",
            "225 activation_63\n",
            "226 activation_68\n",
            "227 activation_69\n",
            "228 mixed7\n",
            "229 conv2d_72\n",
            "230 batch_normalization_72\n",
            "231 activation_72\n",
            "232 conv2d_73\n",
            "233 batch_normalization_73\n",
            "234 activation_73\n",
            "235 conv2d_70\n",
            "236 conv2d_74\n",
            "237 batch_normalization_70\n",
            "238 batch_normalization_74\n",
            "239 activation_70\n",
            "240 activation_74\n",
            "241 conv2d_71\n",
            "242 conv2d_75\n",
            "243 batch_normalization_71\n",
            "244 batch_normalization_75\n",
            "245 activation_71\n",
            "246 activation_75\n",
            "247 max_pooling2d_3\n",
            "248 mixed8\n",
            "249 conv2d_80\n",
            "250 batch_normalization_80\n",
            "251 activation_80\n",
            "252 conv2d_77\n",
            "253 conv2d_81\n",
            "254 batch_normalization_77\n",
            "255 batch_normalization_81\n",
            "256 activation_77\n",
            "257 activation_81\n",
            "258 conv2d_78\n",
            "259 conv2d_79\n",
            "260 conv2d_82\n",
            "261 conv2d_83\n",
            "262 average_pooling2d_7\n",
            "263 conv2d_76\n",
            "264 batch_normalization_78\n",
            "265 batch_normalization_79\n",
            "266 batch_normalization_82\n",
            "267 batch_normalization_83\n",
            "268 conv2d_84\n",
            "269 batch_normalization_76\n",
            "270 activation_78\n",
            "271 activation_79\n",
            "272 activation_82\n",
            "273 activation_83\n",
            "274 batch_normalization_84\n",
            "275 activation_76\n",
            "276 mixed9_0\n",
            "277 concatenate\n",
            "278 activation_84\n",
            "279 mixed9\n",
            "280 conv2d_89\n",
            "281 batch_normalization_89\n",
            "282 activation_89\n",
            "283 conv2d_86\n",
            "284 conv2d_90\n",
            "285 batch_normalization_86\n",
            "286 batch_normalization_90\n",
            "287 activation_86\n",
            "288 activation_90\n",
            "289 conv2d_87\n",
            "290 conv2d_88\n",
            "291 conv2d_91\n",
            "292 conv2d_92\n",
            "293 average_pooling2d_8\n",
            "294 conv2d_85\n",
            "295 batch_normalization_87\n",
            "296 batch_normalization_88\n",
            "297 batch_normalization_91\n",
            "298 batch_normalization_92\n",
            "299 conv2d_93\n",
            "300 batch_normalization_85\n",
            "301 activation_87\n",
            "302 activation_88\n",
            "303 activation_91\n",
            "304 activation_92\n",
            "305 batch_normalization_93\n",
            "306 activation_85\n",
            "307 mixed9_1\n",
            "308 concatenate_1\n",
            "309 activation_93\n",
            "310 mixed10\n"
          ],
          "name": "stdout"
        }
      ]
    },
    {
      "cell_type": "code",
      "metadata": {
        "id": "qKS_p6t5im1w",
        "colab_type": "code",
        "colab": {}
      },
      "source": [
        "base_model.trainable = True\n",
        "\n",
        "fine_tune_at = 280\n",
        "for layer in base_model.layers[:fine_tune_at]:\n",
        "  layer.trainable =  False"
      ],
      "execution_count": 0,
      "outputs": []
    },
    {
      "cell_type": "code",
      "metadata": {
        "id": "LHxoXp8oJZG9",
        "colab_type": "code",
        "outputId": "94258f19-01c5-4e49-c550-2b2dad431750",
        "colab": {
          "base_uri": "https://localhost:8080/",
          "height": 323
        }
      },
      "source": [
        "model = tf.keras.models.Sequential([\n",
        "  base_model,\n",
        "  tf.keras.layers.Dropout(0.5),\n",
        "  tf.keras.layers.Flatten(),\n",
        "  tf.keras.layers.Dense(512, activation='relu'),\n",
        "  tf.keras.layers.Dense(10, activation='softmax')\n",
        "])\n",
        "\n",
        "model.summary()"
      ],
      "execution_count": 8,
      "outputs": [
        {
          "output_type": "stream",
          "text": [
            "Model: \"sequential_1\"\n",
            "_________________________________________________________________\n",
            "Layer (type)                 Output Shape              Param #   \n",
            "=================================================================\n",
            "inception_v3 (Model)         (None, 6, 6, 2048)        21802784  \n",
            "_________________________________________________________________\n",
            "dropout_1 (Dropout)          (None, 6, 6, 2048)        0         \n",
            "_________________________________________________________________\n",
            "flatten_1 (Flatten)          (None, 73728)             0         \n",
            "_________________________________________________________________\n",
            "dense_2 (Dense)              (None, 512)               37749248  \n",
            "_________________________________________________________________\n",
            "dense_3 (Dense)              (None, 10)                5130      \n",
            "=================================================================\n",
            "Total params: 59,557,162\n",
            "Trainable params: 43,827,914\n",
            "Non-trainable params: 15,729,248\n",
            "_________________________________________________________________\n"
          ],
          "name": "stdout"
        }
      ]
    },
    {
      "cell_type": "markdown",
      "metadata": {
        "id": "Uyxc32X_AGxr",
        "colab_type": "text"
      },
      "source": [
        "# **Define Learning Parameter**"
      ]
    },
    {
      "cell_type": "code",
      "metadata": {
        "id": "m4md_AcCJmLP",
        "colab_type": "code",
        "colab": {}
      },
      "source": [
        "model.compile(loss = 'categorical_crossentropy', optimizer='adam', metrics=['accuracy'])"
      ],
      "execution_count": 0,
      "outputs": []
    },
    {
      "cell_type": "markdown",
      "metadata": {
        "id": "KUBWHWfFAKT1",
        "colab_type": "text"
      },
      "source": [
        "# **Begin Training**"
      ]
    },
    {
      "cell_type": "code",
      "metadata": {
        "id": "OroSPil1Jtze",
        "colab_type": "code",
        "outputId": "04226014-8bcb-468b-9aab-a05744d364c3",
        "colab": {
          "base_uri": "https://localhost:8080/",
          "height": 697
        }
      },
      "source": [
        "history = model.fit(train_generator, epochs=20, validation_data=validation_generator)"
      ],
      "execution_count": 10,
      "outputs": [
        {
          "output_type": "stream",
          "text": [
            "Epoch 1/20\n",
            "144/144 [==============================] - 355s 2s/step - loss: 3.2892 - accuracy: 0.6618 - val_loss: 0.4603 - val_accuracy: 0.8356\n",
            "Epoch 2/20\n",
            "144/144 [==============================] - 352s 2s/step - loss: 0.3907 - accuracy: 0.8701 - val_loss: 0.3751 - val_accuracy: 0.8772\n",
            "Epoch 3/20\n",
            "144/144 [==============================] - 352s 2s/step - loss: 0.3177 - accuracy: 0.8928 - val_loss: 0.2972 - val_accuracy: 0.8968\n",
            "Epoch 4/20\n",
            "144/144 [==============================] - 350s 2s/step - loss: 0.2732 - accuracy: 0.9064 - val_loss: 0.2832 - val_accuracy: 0.9012\n",
            "Epoch 5/20\n",
            "144/144 [==============================] - 351s 2s/step - loss: 0.2481 - accuracy: 0.9128 - val_loss: 0.3237 - val_accuracy: 0.8918\n",
            "Epoch 6/20\n",
            "144/144 [==============================] - 351s 2s/step - loss: 0.2213 - accuracy: 0.9238 - val_loss: 0.2427 - val_accuracy: 0.9184\n",
            "Epoch 7/20\n",
            "144/144 [==============================] - 352s 2s/step - loss: 0.2093 - accuracy: 0.9274 - val_loss: 0.2485 - val_accuracy: 0.9186\n",
            "Epoch 8/20\n",
            "144/144 [==============================] - 351s 2s/step - loss: 0.1919 - accuracy: 0.9338 - val_loss: 0.2647 - val_accuracy: 0.9123\n",
            "Epoch 9/20\n",
            "144/144 [==============================] - 352s 2s/step - loss: 0.1902 - accuracy: 0.9355 - val_loss: 0.2497 - val_accuracy: 0.9160\n",
            "Epoch 10/20\n",
            "144/144 [==============================] - 352s 2s/step - loss: 0.1814 - accuracy: 0.9387 - val_loss: 0.1879 - val_accuracy: 0.9357\n",
            "Epoch 11/20\n",
            "144/144 [==============================] - 350s 2s/step - loss: 0.1762 - accuracy: 0.9393 - val_loss: 0.2238 - val_accuracy: 0.9256\n",
            "Epoch 12/20\n",
            "144/144 [==============================] - 353s 2s/step - loss: 0.1655 - accuracy: 0.9422 - val_loss: 0.2373 - val_accuracy: 0.9224\n",
            "Epoch 13/20\n",
            "144/144 [==============================] - 355s 2s/step - loss: 0.1639 - accuracy: 0.9440 - val_loss: 0.1903 - val_accuracy: 0.9361\n",
            "Epoch 14/20\n",
            "144/144 [==============================] - 352s 2s/step - loss: 0.1497 - accuracy: 0.9478 - val_loss: 0.1629 - val_accuracy: 0.9459\n",
            "Epoch 15/20\n",
            "144/144 [==============================] - 348s 2s/step - loss: 0.1506 - accuracy: 0.9480 - val_loss: 0.1767 - val_accuracy: 0.9418\n",
            "Epoch 16/20\n",
            "144/144 [==============================] - 351s 2s/step - loss: 0.1410 - accuracy: 0.9509 - val_loss: 0.1495 - val_accuracy: 0.9483\n",
            "Epoch 17/20\n",
            "144/144 [==============================] - 351s 2s/step - loss: 0.1345 - accuracy: 0.9538 - val_loss: 0.1434 - val_accuracy: 0.9492\n",
            "Epoch 18/20\n",
            "144/144 [==============================] - 350s 2s/step - loss: 0.1367 - accuracy: 0.9524 - val_loss: 0.1898 - val_accuracy: 0.9429\n",
            "Epoch 19/20\n",
            "144/144 [==============================] - 350s 2s/step - loss: 0.1302 - accuracy: 0.9555 - val_loss: 0.1924 - val_accuracy: 0.9368\n",
            "Epoch 20/20\n",
            "144/144 [==============================] - 349s 2s/step - loss: 0.1236 - accuracy: 0.9576 - val_loss: 0.1358 - val_accuracy: 0.9568\n"
          ],
          "name": "stdout"
        }
      ]
    },
    {
      "cell_type": "markdown",
      "metadata": {
        "id": "exhbGtNqAOMR",
        "colab_type": "text"
      },
      "source": [
        "# **Plot Training Results**"
      ]
    },
    {
      "cell_type": "code",
      "metadata": {
        "id": "fgRddGypJ-PM",
        "colab_type": "code",
        "outputId": "99bb2f7b-6ceb-424e-b969-474adcce4373",
        "colab": {
          "base_uri": "https://localhost:8080/",
          "height": 579
        }
      },
      "source": [
        "acc = history.history['accuracy']\n",
        "val_acc = history.history['val_accuracy']\n",
        "loss = history.history['loss']\n",
        "val_loss = history.history['val_loss']\n",
        "\n",
        "epochs = range(len(acc))\n",
        "\n",
        "plt.ylim(0.6, 1)\n",
        "plt.xlim(0, 20)\n",
        "plt.plot(epochs, acc, 'r', label='Training accuracy')\n",
        "plt.plot(epochs, val_acc, 'b', label='Validation accuracy')\n",
        "plt.title('Training and Validation Accuracy')\n",
        "plt.legend(loc=0)\n",
        "plt.figure()\n",
        "plt.show()\n",
        "\n",
        "plt.ylim(0, 3.5)\n",
        "plt.xlim(0, 20)\n",
        "plt.plot(epochs, loss, 'r', label='Training loss')\n",
        "plt.plot(epochs, val_loss, 'b', label='Validation loss')\n",
        "plt.title('Training and Validation Loss')\n",
        "plt.legend(loc=0)\n",
        "plt.figure()\n",
        "plt.show()"
      ],
      "execution_count": 11,
      "outputs": [
        {
          "output_type": "display_data",
          "data": {
            "image/png": "[encoded data removed]",
            "text/plain": [
              "<Figure size 432x288 with 1 Axes>"
            ]
          },
          "metadata": {
            "tags": [],
            "needs_background": "light"
          }
        },
        {
          "output_type": "display_data",
          "data": {
            "text/plain": [
              "<Figure size 432x288 with 0 Axes>"
            ]
          },
          "metadata": {
            "tags": []
          }
        },
        {
          "output_type": "display_data",
          "data": {
            "image/png": "[encoded data removed]",
            "text/plain": [
              "<Figure size 432x288 with 1 Axes>"
            ]
          },
          "metadata": {
            "tags": [],
            "needs_background": "light"
          }
        },
        {
          "output_type": "display_data",
          "data": {
            "text/plain": [
              "<Figure size 432x288 with 0 Axes>"
            ]
          },
          "metadata": {
            "tags": []
          }
        }
      ]
    },
    {
      "cell_type": "markdown",
      "metadata": {
        "id": "YU_WnrdZARqm",
        "colab_type": "text"
      },
      "source": [
        "# **Save Model**"
      ]
    },
    {
      "cell_type": "code",
      "metadata": {
        "id": "GsNf983i56fg",
        "colab_type": "code",
        "outputId": "6cf882cc-50d3-4dd2-9fa4-4f2c49aa5c76",
        "colab": {
          "base_uri": "https://localhost:8080/",
          "height": 207
        }
      },
      "source": [
        "export_path = \"/content/saved_model\"\n",
        "\n",
        "try: \n",
        "  os.mkdir(export_path) \n",
        "except OSError as error: \n",
        "  print(error) \n",
        "\n",
        "tf.keras.models.save_model(\n",
        "    model,\n",
        "    export_path,\n",
        "    overwrite=True,\n",
        "    include_optimizer=True,\n",
        "    save_format=None,\n",
        "    signatures=None,\n",
        "    options=None\n",
        ")\n",
        "\n",
        "print('\\nSaved model:')\n",
        "!ls -l {export_path}"
      ],
      "execution_count": 12,
      "outputs": [
        {
          "output_type": "stream",
          "text": [
            "WARNING:tensorflow:From /usr/local/lib/python3.6/dist-packages/tensorflow/python/ops/resource_variable_ops.py:1817: calling BaseResourceVariable.__init__ (from tensorflow.python.ops.resource_variable_ops) with constraint is deprecated and will be removed in a future version.\n",
            "Instructions for updating:\n",
            "If using Keras pass *_constraint arguments to layers.\n",
            "INFO:tensorflow:Assets written to: /content/saved_model/assets\n",
            "\n",
            "Saved model:\n",
            "total 6836\n",
            "drwxr-xr-x 2 root root    4096 May 29 10:46 assets\n",
            "-rw-r--r-- 1 root root 6990033 May 29 10:46 saved_model.pb\n",
            "drwxr-xr-x 2 root root    4096 May 29 10:46 variables\n"
          ],
          "name": "stdout"
        }
      ]
    },
    {
      "cell_type": "markdown",
      "metadata": {
        "id": "q7B1xWYEAhRO",
        "colab_type": "text"
      },
      "source": [
        "# **Download Saved Model**"
      ]
    },
    {
      "cell_type": "code",
      "metadata": {
        "id": "CQqzQDapAkZJ",
        "colab_type": "code",
        "outputId": "81ada781-20dd-416a-cb6d-55c1cd803683",
        "colab": {
          "base_uri": "https://localhost:8080/",
          "height": 136
        }
      },
      "source": [
        "!zip -r /content/saved_model.zip /content/saved_model"
      ],
      "execution_count": 13,
      "outputs": [
        {
          "output_type": "stream",
          "text": [
            "  adding: content/saved_model/ (stored 0%)\n",
            "  adding: content/saved_model/assets/ (stored 0%)\n",
            "  adding: content/saved_model/variables/ (stored 0%)\n",
            "  adding: content/saved_model/variables/variables.index (deflated 77%)\n",
            "  adding: content/saved_model/variables/variables.data-00001-of-00002 (deflated 28%)\n",
            "  adding: content/saved_model/variables/variables.data-00000-of-00002 (deflated 82%)\n",
            "  adding: content/saved_model/saved_model.pb (deflated 93%)\n"
          ],
          "name": "stdout"
        }
      ]
    },
    {
      "cell_type": "code",
      "metadata": {
        "id": "6qoVflybAleo",
        "colab_type": "code",
        "colab": {}
      },
      "source": [
        "files.download(\"/content/saved_model.zip\")"
      ],
      "execution_count": 0,
      "outputs": []
    },
    {
      "cell_type": "markdown",
      "metadata": {
        "id": "R2hue0PIAs_d",
        "colab_type": "text"
      },
      "source": [
        "# **Upload Saved Model**"
      ]
    },
    {
      "cell_type": "code",
      "metadata": {
        "id": "cku5_pQKCBhc",
        "colab_type": "code",
        "colab": {}
      },
      "source": [
        "uploaded = files.upload()\n",
        "!unzip /content/saved_model.zip\n",
        "model = tf.keras.models.load_model('/content/saved_model/')\n",
        "model.summary()"
      ],
      "execution_count": 0,
      "outputs": []
    },
    {
      "cell_type": "markdown",
      "metadata": {
        "id": "kAkWoG6AA4kN",
        "colab_type": "text"
      },
      "source": [
        "# **Try Classification**"
      ]
    },
    {
      "cell_type": "code",
      "metadata": {
        "id": "gqM8HjQjXSNo",
        "colab_type": "code",
        "outputId": "0b009ee6-3eda-4640-c231-f770c0690d87",
        "colab": {
          "resources": {
            "http://localhost:8080/nbextensions/google.colab/files.js": {
              "data": "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",
              "ok": true,
              "headers": [
                [
                  "content-type",
                  "application/javascript"
                ]
              ],
              "status": 200,
              "status_text": ""
            }
          },
          "base_uri": "https://localhost:8080/",
          "height": 179
        }
      },
      "source": [
        "from google.colab import files\n",
        "\n",
        "file = files.upload()\n",
        "\n",
        "img = image.load_img(list(file.keys())[0], target_size=(256, 256))\n",
        "img = image.img_to_array(img)\n",
        "img = img.reshape(1, 256, 256, 3)\n",
        "img = img.astype('float32')\n",
        "img = img / 255.0\n",
        "result = model.predict(img)\n",
        "result = list(result[0]).index(max(result[0]))\n",
        "\n",
        "print(\"\\n\\nResult :\")\n",
        "\n",
        "if result == 0:\n",
        "  print(\"Bacterial Spot\")\n",
        "elif result == 1:\n",
        "  print(\"Early Blight\")\n",
        "elif result == 2:\n",
        "  print(\"Late Blight\")\n",
        "elif result == 3:\n",
        "  print(\"Leaf Mold\")\n",
        "elif result == 4:\n",
        "  print(\"Septoria Leaf Spot\")\n",
        "elif result == 5:\n",
        "  print(\"Spider Mites\")\n",
        "elif result == 6:\n",
        "  print(\"Target Spot\")\n",
        "elif result == 7:\n",
        "  print(\"Yellow Leaf Curl Virus\")\n",
        "elif result == 8:\n",
        "  print(\"Mosaic Virus\")\n",
        "else:\n",
        "  print(\"Healthy\")"
      ],
      "execution_count": 15,
      "outputs": [
        {
          "output_type": "display_data",
          "data": {
            "text/html": [
              "\n",
              "     <input type=\"file\" id=\"files-b4189061-f8ed-49f4-8d79-c7a393022d60\" name=\"files[]\" multiple disabled />\n",
              "     <output id=\"result-b4189061-f8ed-49f4-8d79-c7a393022d60\">\n",
              "      Upload widget is only available when the cell has been executed in the\n",
              "      current browser session. Please rerun this cell to enable.\n",
              "      </output>\n",
              "      <script src=\"/nbextensions/google.colab/files.js\"></script> "
            ],
            "text/plain": [
              "<IPython.core.display.HTML object>"
            ]
          },
          "metadata": {
            "tags": []
          }
        },
        {
          "output_type": "stream",
          "text": [
            "Saving datasets_259770_544347_New Plant Diseases Dataset(Augmented)_train_Tomato___healthy_00bce074-967b-4d50-967a-31fdaa35e688___RS_HL 0223.jpg to datasets_259770_544347_New Plant Diseases Dataset(Augmented)_train_Tomato___healthy_00bce074-967b-4d50-967a-31fdaa35e688___RS_HL 0223.jpg\n",
            "\n",
            "\n",
            "Result :\n",
            "Healthy\n"
          ],
          "name": "stdout"
        }
      ]
    }
  ]
}