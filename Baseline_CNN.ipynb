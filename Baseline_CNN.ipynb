{
  "nbformat": 4,
  "nbformat_minor": 0,
  "metadata": {
    "colab": {
      "name": "Baseline_CNN.ipynb",
      "provenance": [],
      "authorship_tag": "ABX9TyNHvmoCs51GFEnUCNbY8wma",
      "include_colab_link": true
    },
    "kernelspec": {
      "name": "python3",
      "display_name": "Python 3"
    },
    "accelerator": "GPU"
  },
  "cells": [
    {
      "cell_type": "markdown",
      "metadata": {
        "id": "view-in-github",
        "colab_type": "text"
      },
      "source": [
        "<a href=\"https://colab.research.google.com/github/alvinsenjaya/TomatoPlantDiseases/blob/master/Baseline_CNN.ipynb\" target=\"_parent\"><img src=\"https://colab.research.google.com/assets/colab-badge.svg\" alt=\"Open In Colab\"/></a>"
      ]
    },
    {
      "cell_type": "markdown",
      "metadata": {
        "id": "0CB3ymUq_xbl",
        "colab_type": "text"
      },
      "source": [
        "# **Import Required Libraries**"
      ]
    },
    {
      "cell_type": "code",
      "metadata": {
        "id": "YA4DqHkTHU8Q",
        "colab_type": "code",
        "colab": {}
      },
      "source": [
        "import os\n",
        "import tensorflow as tf\n",
        "import keras_preprocessing\n",
        "from keras_preprocessing import image\n",
        "from keras_preprocessing.image import ImageDataGenerator\n",
        "import matplotlib.pyplot as plt"
      ],
      "execution_count": 0,
      "outputs": []
    },
    {
      "cell_type": "markdown",
      "metadata": {
        "id": "TEfmO-5N_2lE",
        "colab_type": "text"
      },
      "source": [
        "# **Download Dataset**"
      ]
    },
    {
      "cell_type": "code",
      "metadata": {
        "id": "CZiv2ZYOFuJm",
        "colab_type": "code",
        "colab": {}
      },
      "source": [
        "os.environ['KAGGLE_USERNAME']=\"xxxxx\"\n",
        "os.environ['KAGGLE_KEY']=\"xxxxxxxxxxxxxxxxxxx\""
      ],
      "execution_count": 0,
      "outputs": []
    },
    {
      "cell_type": "code",
      "metadata": {
        "id": "79ov0m65F1Oi",
        "colab_type": "code",
        "outputId": "722503fc-91b2-420b-f963-67548c7e3778",
        "colab": {
          "base_uri": "https://localhost:8080/",
          "height": 68
        }
      },
      "source": [
        "!kaggle datasets download noulam/tomato"
      ],
      "execution_count": 3,
      "outputs": [
        {
          "output_type": "stream",
          "text": [
            "Downloading tomato.zip to /content\n",
            " 99% 737M/743M [00:20<00:00, 40.4MB/s]\n",
            "100% 743M/743M [00:20<00:00, 37.6MB/s]\n"
          ],
          "name": "stdout"
        }
      ]
    },
    {
      "cell_type": "code",
      "metadata": {
        "id": "r6BeaWYFGL4M",
        "colab_type": "code",
        "colab": {}
      },
      "source": [
        "!unzip tomato.zip"
      ],
      "execution_count": 0,
      "outputs": []
    },
    {
      "cell_type": "markdown",
      "metadata": {
        "id": "wU_wV1eF_79t",
        "colab_type": "text"
      },
      "source": [
        "# **Image Preprocessing**"
      ]
    },
    {
      "cell_type": "code",
      "metadata": {
        "id": "WBHtjQ0EGxqL",
        "colab_type": "code",
        "outputId": "3b2c5a9e-8ce3-441c-a285-2d41da0daa68",
        "colab": {
          "base_uri": "https://localhost:8080/"
        }
      },
      "source": [
        "TRAINING_DIR = '/content/New Plant Diseases Dataset(Augmented)/train/'\n",
        "training_datagen = ImageDataGenerator(\n",
        "    rescale = 1./255,\n",
        "    rotation_range=90,\n",
        "    width_shift_range=0.2,\n",
        "    height_shift_range=0.2,\n",
        "    shear_range=0.2,\n",
        "    zoom_range=0.2,\n",
        "    horizontal_flip=True,\n",
        "    fill_mode='nearest')\n",
        "\n",
        "VALIDATION_DIR = '/content/New Plant Diseases Dataset(Augmented)/valid/'\n",
        "validation_datagen = ImageDataGenerator(rescale = 1./255)\n",
        "\n",
        "train_generator = training_datagen.flow_from_directory(\n",
        "    TRAINING_DIR,\n",
        "    target_size=(256,256),\n",
        "    class_mode='categorical',\n",
        "    batch_size=128\n",
        ")\n",
        "\n",
        "validation_generator = validation_datagen.flow_from_directory(\n",
        "    VALIDATION_DIR,\n",
        "    target_size=(256,256),\n",
        "    class_mode='categorical',\n",
        "    batch_size=128\n",
        ")"
      ],
      "execution_count": 5,
      "outputs": [
        {
          "output_type": "stream",
          "text": [
            "Found 18345 images belonging to 10 classes.\n",
            "Found 4585 images belonging to 10 classes.\n"
          ],
          "name": "stdout"
        }
      ]
    },
    {
      "cell_type": "markdown",
      "metadata": {
        "id": "9RfLmCxrABDw",
        "colab_type": "text"
      },
      "source": [
        "# **Define Machine Learning Model**"
      ]
    },
    {
      "cell_type": "code",
      "metadata": {
        "id": "LHxoXp8oJZG9",
        "colab_type": "code",
        "outputId": "633775c4-debf-4ff4-bc72-db27a22fd2d9",
        "colab": {
          "base_uri": "https://localhost:8080/",
          "height": 425
        }
      },
      "source": [
        "model = tf.keras.models.Sequential([\n",
        "  tf.keras.layers.Conv2D(64, (3,3), activation='relu', input_shape=(256, 256, 3)),\n",
        "  tf.keras.layers.MaxPooling2D(2, 2),\n",
        "  tf.keras.layers.Conv2D(64, (3,3), activation='relu'),\n",
        "  tf.keras.layers.MaxPooling2D(2,2),\n",
        "  tf.keras.layers.Dropout(0.5),\n",
        "  tf.keras.layers.Flatten(),\n",
        "  tf.keras.layers.Dense(512, activation='relu'),\n",
        "  tf.keras.layers.Dense(10, activation='softmax')\n",
        "])\n",
        "\n",
        "model.summary()"
      ],
      "execution_count": 6,
      "outputs": [
        {
          "output_type": "stream",
          "text": [
            "Model: \"sequential\"\n",
            "_________________________________________________________________\n",
            "Layer (type)                 Output Shape              Param #   \n",
            "=================================================================\n",
            "conv2d (Conv2D)              (None, 254, 254, 64)      1792      \n",
            "_________________________________________________________________\n",
            "max_pooling2d (MaxPooling2D) (None, 127, 127, 64)      0         \n",
            "_________________________________________________________________\n",
            "conv2d_1 (Conv2D)            (None, 125, 125, 64)      36928     \n",
            "_________________________________________________________________\n",
            "max_pooling2d_1 (MaxPooling2 (None, 62, 62, 64)        0         \n",
            "_________________________________________________________________\n",
            "dropout (Dropout)            (None, 62, 62, 64)        0         \n",
            "_________________________________________________________________\n",
            "flatten (Flatten)            (None, 246016)            0         \n",
            "_________________________________________________________________\n",
            "dense (Dense)                (None, 512)               125960704 \n",
            "_________________________________________________________________\n",
            "dense_1 (Dense)              (None, 10)                5130      \n",
            "=================================================================\n",
            "Total params: 126,004,554\n",
            "Trainable params: 126,004,554\n",
            "Non-trainable params: 0\n",
            "_________________________________________________________________\n"
          ],
          "name": "stdout"
        }
      ]
    },
    {
      "cell_type": "markdown",
      "metadata": {
        "id": "Uyxc32X_AGxr",
        "colab_type": "text"
      },
      "source": [
        "# **Define Learning Parameter**"
      ]
    },
    {
      "cell_type": "code",
      "metadata": {
        "id": "m4md_AcCJmLP",
        "colab_type": "code",
        "colab": {}
      },
      "source": [
        "model.compile(loss = 'categorical_crossentropy', optimizer='RMSprop', metrics=['accuracy'])"
      ],
      "execution_count": 0,
      "outputs": []
    },
    {
      "cell_type": "markdown",
      "metadata": {
        "id": "KUBWHWfFAKT1",
        "colab_type": "text"
      },
      "source": [
        "# **Begin Training**"
      ]
    },
    {
      "cell_type": "code",
      "metadata": {
        "id": "OroSPil1Jtze",
        "colab_type": "code",
        "outputId": "e5e04fa4-2177-4b87-f161-3ee48d230201",
        "colab": {
          "base_uri": "https://localhost:8080/",
          "height": 1000
        }
      },
      "source": [
        "history = model.fit(train_generator, epochs=40, validation_data=validation_generator)"
      ],
      "execution_count": 8,
      "outputs": [
        {
          "output_type": "stream",
          "text": [
            "Epoch 1/40\n",
            "144/144 [==============================] - 291s 2s/step - loss: 3.0431 - accuracy: 0.3193 - val_loss: 1.4766 - val_accuracy: 0.4772\n",
            "Epoch 2/40\n",
            "144/144 [==============================] - 294s 2s/step - loss: 1.4869 - accuracy: 0.4982 - val_loss: 1.0813 - val_accuracy: 0.6336\n",
            "Epoch 3/40\n",
            "144/144 [==============================] - 297s 2s/step - loss: 1.1416 - accuracy: 0.6179 - val_loss: 0.9123 - val_accuracy: 0.6875\n",
            "Epoch 4/40\n",
            "144/144 [==============================] - 297s 2s/step - loss: 0.8855 - accuracy: 0.6969 - val_loss: 1.0272 - val_accuracy: 0.6796\n",
            "Epoch 5/40\n",
            "144/144 [==============================] - 300s 2s/step - loss: 0.7879 - accuracy: 0.7412 - val_loss: 0.6349 - val_accuracy: 0.7749\n",
            "Epoch 6/40\n",
            "144/144 [==============================] - 301s 2s/step - loss: 0.6700 - accuracy: 0.7827 - val_loss: 0.6283 - val_accuracy: 0.7996\n",
            "Epoch 7/40\n",
            "144/144 [==============================] - 300s 2s/step - loss: 0.6069 - accuracy: 0.8061 - val_loss: 0.4400 - val_accuracy: 0.8628\n",
            "Epoch 8/40\n",
            "144/144 [==============================] - 298s 2s/step - loss: 0.5675 - accuracy: 0.8133 - val_loss: 1.0372 - val_accuracy: 0.7651\n",
            "Epoch 9/40\n",
            "144/144 [==============================] - 295s 2s/step - loss: 0.5136 - accuracy: 0.8304 - val_loss: 0.4660 - val_accuracy: 0.8475\n",
            "Epoch 10/40\n",
            "144/144 [==============================] - 294s 2s/step - loss: 0.4788 - accuracy: 0.8431 - val_loss: 0.5223 - val_accuracy: 0.8445\n",
            "Epoch 11/40\n",
            "144/144 [==============================] - 295s 2s/step - loss: 0.4838 - accuracy: 0.8538 - val_loss: 0.6427 - val_accuracy: 0.8177\n",
            "Epoch 12/40\n",
            "144/144 [==============================] - 296s 2s/step - loss: 0.4322 - accuracy: 0.8603 - val_loss: 0.2940 - val_accuracy: 0.9045\n",
            "Epoch 13/40\n",
            "144/144 [==============================] - 297s 2s/step - loss: 0.4100 - accuracy: 0.8669 - val_loss: 0.4800 - val_accuracy: 0.8497\n",
            "Epoch 14/40\n",
            "144/144 [==============================] - 298s 2s/step - loss: 0.3783 - accuracy: 0.8767 - val_loss: 1.3875 - val_accuracy: 0.6875\n",
            "Epoch 15/40\n",
            "144/144 [==============================] - 300s 2s/step - loss: 0.4089 - accuracy: 0.8770 - val_loss: 0.4684 - val_accuracy: 0.8650\n",
            "Epoch 16/40\n",
            "144/144 [==============================] - 300s 2s/step - loss: 0.3498 - accuracy: 0.8850 - val_loss: 0.4091 - val_accuracy: 0.8685\n",
            "Epoch 17/40\n",
            "144/144 [==============================] - 303s 2s/step - loss: 0.3381 - accuracy: 0.8883 - val_loss: 0.4699 - val_accuracy: 0.8691\n",
            "Epoch 18/40\n",
            "144/144 [==============================] - 303s 2s/step - loss: 0.3391 - accuracy: 0.8927 - val_loss: 0.6538 - val_accuracy: 0.8399\n",
            "Epoch 19/40\n",
            "144/144 [==============================] - 300s 2s/step - loss: 0.3211 - accuracy: 0.8922 - val_loss: 1.5105 - val_accuracy: 0.7396\n",
            "Epoch 20/40\n",
            "144/144 [==============================] - 296s 2s/step - loss: 0.3168 - accuracy: 0.9006 - val_loss: 0.7380 - val_accuracy: 0.8321\n",
            "Epoch 21/40\n",
            "144/144 [==============================] - 288s 2s/step - loss: 0.3324 - accuracy: 0.8977 - val_loss: 2.4134 - val_accuracy: 0.6659\n",
            "Epoch 22/40\n",
            "144/144 [==============================] - 291s 2s/step - loss: 0.3104 - accuracy: 0.9024 - val_loss: 0.4267 - val_accuracy: 0.8870\n",
            "Epoch 23/40\n",
            "144/144 [==============================] - 299s 2s/step - loss: 0.2972 - accuracy: 0.9070 - val_loss: 0.4782 - val_accuracy: 0.8794\n",
            "Epoch 24/40\n",
            "144/144 [==============================] - 303s 2s/step - loss: 0.2987 - accuracy: 0.9092 - val_loss: 0.5729 - val_accuracy: 0.8478\n",
            "Epoch 25/40\n",
            "144/144 [==============================] - 301s 2s/step - loss: 0.2853 - accuracy: 0.9119 - val_loss: 0.4019 - val_accuracy: 0.8722\n",
            "Epoch 26/40\n",
            "144/144 [==============================] - 291s 2s/step - loss: 0.2921 - accuracy: 0.9091 - val_loss: 0.8745 - val_accuracy: 0.8137\n",
            "Epoch 27/40\n",
            "144/144 [==============================] - 291s 2s/step - loss: 0.3179 - accuracy: 0.9084 - val_loss: 0.5505 - val_accuracy: 0.8279\n",
            "Epoch 28/40\n",
            "144/144 [==============================] - 291s 2s/step - loss: 0.2778 - accuracy: 0.9112 - val_loss: 0.4355 - val_accuracy: 0.8942\n",
            "Epoch 29/40\n",
            "144/144 [==============================] - 297s 2s/step - loss: 0.2861 - accuracy: 0.9151 - val_loss: 0.6169 - val_accuracy: 0.8362\n",
            "Epoch 30/40\n",
            "144/144 [==============================] - 299s 2s/step - loss: 0.2789 - accuracy: 0.9165 - val_loss: 4.3886 - val_accuracy: 0.6395\n",
            "Epoch 31/40\n",
            "144/144 [==============================] - 299s 2s/step - loss: 0.2935 - accuracy: 0.9143 - val_loss: 0.2970 - val_accuracy: 0.9158\n",
            "Epoch 32/40\n",
            "144/144 [==============================] - 295s 2s/step - loss: 0.2565 - accuracy: 0.9211 - val_loss: 1.0093 - val_accuracy: 0.7876\n",
            "Epoch 33/40\n",
            "144/144 [==============================] - 290s 2s/step - loss: 0.2762 - accuracy: 0.9170 - val_loss: 0.3956 - val_accuracy: 0.8986\n",
            "Epoch 34/40\n",
            "144/144 [==============================] - 291s 2s/step - loss: 0.2795 - accuracy: 0.9168 - val_loss: 0.5221 - val_accuracy: 0.8792\n",
            "Epoch 35/40\n",
            "144/144 [==============================] - 293s 2s/step - loss: 0.2704 - accuracy: 0.9244 - val_loss: 0.3150 - val_accuracy: 0.9191\n",
            "Epoch 36/40\n",
            "144/144 [==============================] - 296s 2s/step - loss: 0.2366 - accuracy: 0.9253 - val_loss: 0.2661 - val_accuracy: 0.9304\n",
            "Epoch 37/40\n",
            "144/144 [==============================] - 294s 2s/step - loss: 0.2502 - accuracy: 0.9241 - val_loss: 0.4047 - val_accuracy: 0.8971\n",
            "Epoch 38/40\n",
            "144/144 [==============================] - 295s 2s/step - loss: 0.2455 - accuracy: 0.9264 - val_loss: 0.6598 - val_accuracy: 0.8656\n",
            "Epoch 39/40\n",
            "144/144 [==============================] - 298s 2s/step - loss: 0.2542 - accuracy: 0.9252 - val_loss: 0.5452 - val_accuracy: 0.8870\n",
            "Epoch 40/40\n",
            "144/144 [==============================] - 300s 2s/step - loss: 0.2476 - accuracy: 0.9255 - val_loss: 1.0502 - val_accuracy: 0.8118\n"
          ],
          "name": "stdout"
        }
      ]
    },
    {
      "cell_type": "markdown",
      "metadata": {
        "id": "exhbGtNqAOMR",
        "colab_type": "text"
      },
      "source": [
        "# **Plot Training Results**"
      ]
    },
    {
      "cell_type": "code",
      "metadata": {
        "id": "fgRddGypJ-PM",
        "colab_type": "code",
        "outputId": "2222422f-581a-4ccc-e4fa-2dd55e7783d1",
        "colab": {
          "base_uri": "https://localhost:8080/",
          "height": 579
        }
      },
      "source": [
        "acc = history.history['accuracy']\n",
        "val_acc = history.history['val_accuracy']\n",
        "loss = history.history['loss']\n",
        "val_loss = history.history['val_loss']\n",
        "\n",
        "epochs = range(len(acc))\n",
        "\n",
        "plt.ylim(0, 1)\n",
        "plt.xlim(0, 40)\n",
        "plt.plot(epochs, acc, 'r', label='Training accuracy')\n",
        "plt.plot(epochs, val_acc, 'b', label='Validation accuracy')\n",
        "plt.title('Training and Validation Accuracy')\n",
        "plt.legend(loc=0)\n",
        "plt.figure()\n",
        "plt.show()\n",
        "\n",
        "plt.ylim(0, 4)\n",
        "plt.xlim(0, 40)\n",
        "plt.plot(epochs, loss, 'r', label='Training loss')\n",
        "plt.plot(epochs, val_loss, 'b', label='Validation loss')\n",
        "plt.title('Training and Validation Loss')\n",
        "plt.legend(loc=0)\n",
        "plt.figure()\n",
        "plt.show()"
      ],
      "execution_count": 9,
      "outputs": [
        {
          "output_type": "display_data",
          "data": {
            "image/png": "[encoded data removed]",
            "text/plain": [
              "<Figure size 432x288 with 1 Axes>"
            ]
          },
          "metadata": {
            "tags": [],
            "needs_background": "light"
          }
        },
        {
          "output_type": "display_data",
          "data": {
            "text/plain": [
              "<Figure size 432x288 with 0 Axes>"
            ]
          },
          "metadata": {
            "tags": []
          }
        },
        {
          "output_type": "display_data",
          "data": {
            "image/png": "[encoded data removed]",
            "text/plain": [
              "<Figure size 432x288 with 1 Axes>"
            ]
          },
          "metadata": {
            "tags": [],
            "needs_background": "light"
          }
        },
        {
          "output_type": "display_data",
          "data": {
            "text/plain": [
              "<Figure size 432x288 with 0 Axes>"
            ]
          },
          "metadata": {
            "tags": []
          }
        }
      ]
    },
    {
      "cell_type": "markdown",
      "metadata": {
        "id": "YU_WnrdZARqm",
        "colab_type": "text"
      },
      "source": [
        "# **Save Model**"
      ]
    },
    {
      "cell_type": "code",
      "metadata": {
        "id": "GsNf983i56fg",
        "colab_type": "code",
        "outputId": "20013705-d466-45b9-a6d4-ead34b0b2d73",
        "colab": {
          "base_uri": "https://localhost:8080/",
          "height": 207
        }
      },
      "source": [
        "export_path = \"/content/saved_model\"\n",
        "\n",
        "try: \n",
        "  os.mkdir(export_path) \n",
        "except OSError as error: \n",
        "  print(error) \n",
        "\n",
        "tf.keras.models.save_model(\n",
        "    model,\n",
        "    export_path,\n",
        "    overwrite=True,\n",
        "    include_optimizer=True,\n",
        "    save_format=None,\n",
        "    signatures=None,\n",
        "    options=None\n",
        ")\n",
        "\n",
        "print('\\nSaved model:')\n",
        "!ls -l {export_path}"
      ],
      "execution_count": 10,
      "outputs": [
        {
          "output_type": "stream",
          "text": [
            "WARNING:tensorflow:From /usr/local/lib/python3.6/dist-packages/tensorflow/python/ops/resource_variable_ops.py:1817: calling BaseResourceVariable.__init__ (from tensorflow.python.ops.resource_variable_ops) with constraint is deprecated and will be removed in a future version.\n",
            "Instructions for updating:\n",
            "If using Keras pass *_constraint arguments to layers.\n",
            "INFO:tensorflow:Assets written to: /content/saved_model/assets\n",
            "\n",
            "Saved model:\n",
            "total 140\n",
            "drwxr-xr-x 2 root root   4096 May 29 04:51 assets\n",
            "-rw-r--r-- 1 root root 133086 May 29 04:51 saved_model.pb\n",
            "drwxr-xr-x 2 root root   4096 May 29 04:51 variables\n"
          ],
          "name": "stdout"
        }
      ]
    },
    {
      "cell_type": "markdown",
      "metadata": {
        "id": "q7B1xWYEAhRO",
        "colab_type": "text"
      },
      "source": [
        "# **Download Saved Model**"
      ]
    },
    {
      "cell_type": "code",
      "metadata": {
        "id": "CQqzQDapAkZJ",
        "colab_type": "code",
        "colab": {
          "base_uri": "https://localhost:8080/",
          "height": 136
        },
        "outputId": "c53a9ee2-b784-4790-b06a-5a4564079e39"
      },
      "source": [
        "!zip -r /content/saved_model.zip /content/saved_model"
      ],
      "execution_count": 11,
      "outputs": [
        {
          "output_type": "stream",
          "text": [
            "  adding: content/saved_model/ (stored 0%)\n",
            "  adding: content/saved_model/assets/ (stored 0%)\n",
            "  adding: content/saved_model/variables/ (stored 0%)\n",
            "  adding: content/saved_model/variables/variables.index (deflated 64%)\n",
            "  adding: content/saved_model/variables/variables.data-00001-of-00002 (deflated 18%)\n",
            "  adding: content/saved_model/variables/variables.data-00000-of-00002 (deflated 77%)\n",
            "  adding: content/saved_model/saved_model.pb (deflated 88%)\n"
          ],
          "name": "stdout"
        }
      ]
    },
    {
      "cell_type": "code",
      "metadata": {
        "id": "6qoVflybAleo",
        "colab_type": "code",
        "colab": {}
      },
      "source": [
        "files.download(\"/content/saved_model.zip\")"
      ],
      "execution_count": 0,
      "outputs": []
    },
    {
      "cell_type": "markdown",
      "metadata": {
        "id": "R2hue0PIAs_d",
        "colab_type": "text"
      },
      "source": [
        "# **Upload Saved Model**"
      ]
    },
    {
      "cell_type": "code",
      "metadata": {
        "id": "cku5_pQKCBhc",
        "colab_type": "code",
        "colab": {}
      },
      "source": [
        "uploaded = files.upload()\n",
        "!unzip /content/saved_model.zip\n",
        "model = tf.keras.models.load_model('/content/saved_model/')\n",
        "model.summary()"
      ],
      "execution_count": 0,
      "outputs": []
    },
    {
      "cell_type": "markdown",
      "metadata": {
        "id": "kAkWoG6AA4kN",
        "colab_type": "text"
      },
      "source": [
        "# **Try Classification**"
      ]
    },
    {
      "cell_type": "code",
      "metadata": {
        "id": "gqM8HjQjXSNo",
        "colab_type": "code",
        "outputId": "5bfa91cf-46e8-4f9a-d67a-155d90b59c93",
        "colab": {
          "resources": {
            "http://localhost:8080/nbextensions/google.colab/files.js": {
              "data": "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",
              "ok": true,
              "headers": [
                [
                  "content-type",
                  "application/javascript"
                ]
              ],
              "status": 200,
              "status_text": ""
            }
          },
          "base_uri": "https://localhost:8080/",
          "height": 179
        }
      },
      "source": [
        "from google.colab import files\n",
        "\n",
        "file = files.upload()\n",
        "\n",
        "img = image.load_img(list(file.keys())[0], target_size=(256, 256))\n",
        "img = image.img_to_array(img)\n",
        "img = img.reshape(1, 256, 256, 3)\n",
        "img = img.astype('float32')\n",
        "img = img / 255.0\n",
        "result = model.predict(img)\n",
        "result = list(result[0]).index(max(result[0]))\n",
        "\n",
        "print(\"\\n\\nResult :\")\n",
        "\n",
        "if result == 0:\n",
        "  print(\"Bacterial Spot\")\n",
        "elif result == 1:\n",
        "  print(\"Early Blight\")\n",
        "elif result == 2:\n",
        "  print(\"Late Blight\")\n",
        "elif result == 3:\n",
        "  print(\"Leaf Mold\")\n",
        "elif result == 4:\n",
        "  print(\"Septoria Leaf Spot\")\n",
        "elif result == 5:\n",
        "  print(\"Spider Mites\")\n",
        "elif result == 6:\n",
        "  print(\"Target Spot\")\n",
        "elif result == 7:\n",
        "  print(\"Yellow Leaf Curl Virus\")\n",
        "elif result == 8:\n",
        "  print(\"Mosaic Virus\")\n",
        "else:\n",
        "  print(\"Healthy\")"
      ],
      "execution_count": 13,
      "outputs": [
        {
          "output_type": "display_data",
          "data": {
            "text/html": [
              "\n",
              "     <input type=\"file\" id=\"files-40c7c674-4864-465b-bb5f-711597f74e53\" name=\"files[]\" multiple disabled />\n",
              "     <output id=\"result-40c7c674-4864-465b-bb5f-711597f74e53\">\n",
              "      Upload widget is only available when the cell has been executed in the\n",
              "      current browser session. Please rerun this cell to enable.\n",
              "      </output>\n",
              "      <script src=\"/nbextensions/google.colab/files.js\"></script> "
            ],
            "text/plain": [
              "<IPython.core.display.HTML object>"
            ]
          },
          "metadata": {
            "tags": []
          }
        },
        {
          "output_type": "stream",
          "text": [
            "Saving datasets_259770_544347_New Plant Diseases Dataset(Augmented)_train_Tomato___Tomato_mosaic_virus_02cb8c4e-4542-4020-bb46-025de54d97ae___PSU_CG 2098_180deg.jpg to datasets_259770_544347_New Plant Diseases Dataset(Augmented)_train_Tomato___Tomato_mosaic_virus_02cb8c4e-4542-4020-bb46-025de54d97ae___PSU_CG 2098_180deg.jpg\n",
            "\n",
            "\n",
            "Result :\n",
            "Mosaic Virus\n"
          ],
          "name": "stdout"
        }
      ]
    }
  ]
}