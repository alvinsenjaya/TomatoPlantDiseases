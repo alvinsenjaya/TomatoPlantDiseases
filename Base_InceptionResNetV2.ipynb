{
  "nbformat": 4,
  "nbformat_minor": 0,
  "metadata": {
    "colab": {
      "name": "Base_InceptionResNetV2.ipynb",
      "provenance": [],
      "toc_visible": true,
      "authorship_tag": "ABX9TyOGkElK3FgxAAGaYfmNchcW",
      "include_colab_link": true
    },
    "kernelspec": {
      "name": "python3",
      "display_name": "Python 3"
    },
    "accelerator": "GPU"
  },
  "cells": [
    {
      "cell_type": "markdown",
      "metadata": {
        "id": "view-in-github",
        "colab_type": "text"
      },
      "source": [
        "<a href=\"https://colab.research.google.com/github/alvinsenjaya/TomatoPlantDiseases/blob/master/Base_InceptionResNetV2.ipynb\" target=\"_parent\"><img src=\"https://colab.research.google.com/assets/colab-badge.svg\" alt=\"Open In Colab\"/></a>"
      ]
    },
    {
      "cell_type": "markdown",
      "metadata": {
        "id": "0CB3ymUq_xbl",
        "colab_type": "text"
      },
      "source": [
        "# **Import Required Libraries**"
      ]
    },
    {
      "cell_type": "code",
      "metadata": {
        "id": "YA4DqHkTHU8Q",
        "colab_type": "code",
        "colab": {}
      },
      "source": [
        "import os\n",
        "import tensorflow as tf\n",
        "import keras_preprocessing\n",
        "from keras_preprocessing import image\n",
        "from keras_preprocessing.image import ImageDataGenerator\n",
        "import matplotlib.pyplot as plt"
      ],
      "execution_count": 0,
      "outputs": []
    },
    {
      "cell_type": "markdown",
      "metadata": {
        "id": "TEfmO-5N_2lE",
        "colab_type": "text"
      },
      "source": [
        "# **Download Dataset**"
      ]
    },
    {
      "cell_type": "code",
      "metadata": {
        "id": "CZiv2ZYOFuJm",
        "colab_type": "code",
        "colab": {}
      },
      "source": [
        "os.environ['KAGGLE_USERNAME']=\"xxxxx\"\n",
        "os.environ['KAGGLE_KEY']=\"xxxxxxxxxxxxxxxxxxxxxx\""
      ],
      "execution_count": 0,
      "outputs": []
    },
    {
      "cell_type": "code",
      "metadata": {
        "id": "79ov0m65F1Oi",
        "colab_type": "code",
        "outputId": "a31784c2-8cc6-4c9f-997b-5050736b4054",
        "colab": {
          "base_uri": "https://localhost:8080/",
          "height": 68
        }
      },
      "source": [
        "!kaggle datasets download noulam/tomato"
      ],
      "execution_count": 0,
      "outputs": [
        {
          "output_type": "stream",
          "text": [
            "Downloading tomato.zip to /content\n",
            " 99% 738M/743M [00:21<00:00, 60.8MB/s]\n",
            "100% 743M/743M [00:21<00:00, 35.5MB/s]\n"
          ],
          "name": "stdout"
        }
      ]
    },
    {
      "cell_type": "code",
      "metadata": {
        "id": "r6BeaWYFGL4M",
        "colab_type": "code",
        "colab": {}
      },
      "source": [
        "!unzip tomato.zip"
      ],
      "execution_count": 0,
      "outputs": []
    },
    {
      "cell_type": "markdown",
      "metadata": {
        "id": "wU_wV1eF_79t",
        "colab_type": "text"
      },
      "source": [
        "# **Image Preprocessing**"
      ]
    },
    {
      "cell_type": "code",
      "metadata": {
        "id": "WBHtjQ0EGxqL",
        "colab_type": "code",
        "outputId": "cb315c1a-3061-4cd7-8a9e-62d26f7fbe7b",
        "colab": {
          "base_uri": "https://localhost:8080/",
          "height": 51
        }
      },
      "source": [
        "TRAINING_DIR = '/content/New Plant Diseases Dataset(Augmented)/train/'\n",
        "training_datagen = ImageDataGenerator(\n",
        "    rescale = 1./255,\n",
        "    rotation_range=90,\n",
        "    width_shift_range=0.2,\n",
        "    height_shift_range=0.2,\n",
        "    shear_range=0.2,\n",
        "    zoom_range=0.2,\n",
        "    horizontal_flip=True,\n",
        "    fill_mode='nearest')\n",
        "\n",
        "VALIDATION_DIR = '/content/New Plant Diseases Dataset(Augmented)/valid/'\n",
        "validation_datagen = ImageDataGenerator(rescale = 1./255)\n",
        "\n",
        "train_generator = training_datagen.flow_from_directory(\n",
        "    TRAINING_DIR,\n",
        "    target_size=(256,256),\n",
        "    class_mode='categorical',\n",
        "    batch_size=128\n",
        ")\n",
        "\n",
        "validation_generator = validation_datagen.flow_from_directory(\n",
        "    VALIDATION_DIR,\n",
        "    target_size=(256,256),\n",
        "    class_mode='categorical',\n",
        "    batch_size=128\n",
        ")"
      ],
      "execution_count": 2,
      "outputs": [
        {
          "output_type": "stream",
          "text": [
            "Found 18345 images belonging to 10 classes.\n",
            "Found 4585 images belonging to 10 classes.\n"
          ],
          "name": "stdout"
        }
      ]
    },
    {
      "cell_type": "markdown",
      "metadata": {
        "id": "9RfLmCxrABDw",
        "colab_type": "text"
      },
      "source": [
        "# **Define Machine Learning Model**"
      ]
    },
    {
      "cell_type": "code",
      "metadata": {
        "id": "gXB5NTVWiXFL",
        "colab_type": "code",
        "outputId": "759459ab-6024-434d-a8fb-64340c5d4e8c",
        "colab": {
          "base_uri": "https://localhost:8080/",
          "height": 88
        }
      },
      "source": [
        "base_model = tf.keras.applications.InceptionResNetV2(weights='imagenet', include_top=False, input_shape=(256,256,3))\n",
        "\n",
        "print(\"Number of layers in the base model: \", len(base_model.layers))"
      ],
      "execution_count": 3,
      "outputs": [
        {
          "output_type": "stream",
          "text": [
            "Downloading data from https://storage.googleapis.com/tensorflow/keras-applications/inception_resnet_v2/inception_resnet_v2_weights_tf_dim_ordering_tf_kernels_notop.h5\n",
            "219062272/219055592 [==============================] - 8s 0us/step\n",
            "Number of layers in the base model:  780\n"
          ],
          "name": "stdout"
        }
      ]
    },
    {
      "cell_type": "code",
      "metadata": {
        "id": "X9E7LnYJihkB",
        "colab_type": "code",
        "outputId": "d1bcef0a-30fd-42bc-df60-2f9927bd812f",
        "colab": {
          "base_uri": "https://localhost:8080/",
          "height": 1000
        }
      },
      "source": [
        "for i, layer in enumerate(base_model.layers):\n",
        "  print(i, layer.name)"
      ],
      "execution_count": 4,
      "outputs": [
        {
          "output_type": "stream",
          "text": [
            "0 input_1\n",
            "1 conv2d\n",
            "2 batch_normalization\n",
            "3 activation\n",
            "4 conv2d_1\n",
            "5 batch_normalization_1\n",
            "6 activation_1\n",
            "7 conv2d_2\n",
            "8 batch_normalization_2\n",
            "9 activation_2\n",
            "10 max_pooling2d\n",
            "11 conv2d_3\n",
            "12 batch_normalization_3\n",
            "13 activation_3\n",
            "14 conv2d_4\n",
            "15 batch_normalization_4\n",
            "16 activation_4\n",
            "17 max_pooling2d_1\n",
            "18 conv2d_8\n",
            "19 batch_normalization_8\n",
            "20 activation_8\n",
            "21 conv2d_6\n",
            "22 conv2d_9\n",
            "23 batch_normalization_6\n",
            "24 batch_normalization_9\n",
            "25 activation_6\n",
            "26 activation_9\n",
            "27 average_pooling2d\n",
            "28 conv2d_5\n",
            "29 conv2d_7\n",
            "30 conv2d_10\n",
            "31 conv2d_11\n",
            "32 batch_normalization_5\n",
            "33 batch_normalization_7\n",
            "34 batch_normalization_10\n",
            "35 batch_normalization_11\n",
            "36 activation_5\n",
            "37 activation_7\n",
            "38 activation_10\n",
            "39 activation_11\n",
            "40 mixed_5b\n",
            "41 conv2d_15\n",
            "42 batch_normalization_15\n",
            "43 activation_15\n",
            "44 conv2d_13\n",
            "45 conv2d_16\n",
            "46 batch_normalization_13\n",
            "47 batch_normalization_16\n",
            "48 activation_13\n",
            "49 activation_16\n",
            "50 conv2d_12\n",
            "51 conv2d_14\n",
            "52 conv2d_17\n",
            "53 batch_normalization_12\n",
            "54 batch_normalization_14\n",
            "55 batch_normalization_17\n",
            "56 activation_12\n",
            "57 activation_14\n",
            "58 activation_17\n",
            "59 block35_1_mixed\n",
            "60 block35_1_conv\n",
            "61 block35_1\n",
            "62 block35_1_ac\n",
            "63 conv2d_21\n",
            "64 batch_normalization_21\n",
            "65 activation_21\n",
            "66 conv2d_19\n",
            "67 conv2d_22\n",
            "68 batch_normalization_19\n",
            "69 batch_normalization_22\n",
            "70 activation_19\n",
            "71 activation_22\n",
            "72 conv2d_18\n",
            "73 conv2d_20\n",
            "74 conv2d_23\n",
            "75 batch_normalization_18\n",
            "76 batch_normalization_20\n",
            "77 batch_normalization_23\n",
            "78 activation_18\n",
            "79 activation_20\n",
            "80 activation_23\n",
            "81 block35_2_mixed\n",
            "82 block35_2_conv\n",
            "83 block35_2\n",
            "84 block35_2_ac\n",
            "85 conv2d_27\n",
            "86 batch_normalization_27\n",
            "87 activation_27\n",
            "88 conv2d_25\n",
            "89 conv2d_28\n",
            "90 batch_normalization_25\n",
            "91 batch_normalization_28\n",
            "92 activation_25\n",
            "93 activation_28\n",
            "94 conv2d_24\n",
            "95 conv2d_26\n",
            "96 conv2d_29\n",
            "97 batch_normalization_24\n",
            "98 batch_normalization_26\n",
            "99 batch_normalization_29\n",
            "100 activation_24\n",
            "101 activation_26\n",
            "102 activation_29\n",
            "103 block35_3_mixed\n",
            "104 block35_3_conv\n",
            "105 block35_3\n",
            "106 block35_3_ac\n",
            "107 conv2d_33\n",
            "108 batch_normalization_33\n",
            "109 activation_33\n",
            "110 conv2d_31\n",
            "111 conv2d_34\n",
            "112 batch_normalization_31\n",
            "113 batch_normalization_34\n",
            "114 activation_31\n",
            "115 activation_34\n",
            "116 conv2d_30\n",
            "117 conv2d_32\n",
            "118 conv2d_35\n",
            "119 batch_normalization_30\n",
            "120 batch_normalization_32\n",
            "121 batch_normalization_35\n",
            "122 activation_30\n",
            "123 activation_32\n",
            "124 activation_35\n",
            "125 block35_4_mixed\n",
            "126 block35_4_conv\n",
            "127 block35_4\n",
            "128 block35_4_ac\n",
            "129 conv2d_39\n",
            "130 batch_normalization_39\n",
            "131 activation_39\n",
            "132 conv2d_37\n",
            "133 conv2d_40\n",
            "134 batch_normalization_37\n",
            "135 batch_normalization_40\n",
            "136 activation_37\n",
            "137 activation_40\n",
            "138 conv2d_36\n",
            "139 conv2d_38\n",
            "140 conv2d_41\n",
            "141 batch_normalization_36\n",
            "142 batch_normalization_38\n",
            "143 batch_normalization_41\n",
            "144 activation_36\n",
            "145 activation_38\n",
            "146 activation_41\n",
            "147 block35_5_mixed\n",
            "148 block35_5_conv\n",
            "149 block35_5\n",
            "150 block35_5_ac\n",
            "151 conv2d_45\n",
            "152 batch_normalization_45\n",
            "153 activation_45\n",
            "154 conv2d_43\n",
            "155 conv2d_46\n",
            "156 batch_normalization_43\n",
            "157 batch_normalization_46\n",
            "158 activation_43\n",
            "159 activation_46\n",
            "160 conv2d_42\n",
            "161 conv2d_44\n",
            "162 conv2d_47\n",
            "163 batch_normalization_42\n",
            "164 batch_normalization_44\n",
            "165 batch_normalization_47\n",
            "166 activation_42\n",
            "167 activation_44\n",
            "168 activation_47\n",
            "169 block35_6_mixed\n",
            "170 block35_6_conv\n",
            "171 block35_6\n",
            "172 block35_6_ac\n",
            "173 conv2d_51\n",
            "174 batch_normalization_51\n",
            "175 activation_51\n",
            "176 conv2d_49\n",
            "177 conv2d_52\n",
            "178 batch_normalization_49\n",
            "179 batch_normalization_52\n",
            "180 activation_49\n",
            "181 activation_52\n",
            "182 conv2d_48\n",
            "183 conv2d_50\n",
            "184 conv2d_53\n",
            "185 batch_normalization_48\n",
            "186 batch_normalization_50\n",
            "187 batch_normalization_53\n",
            "188 activation_48\n",
            "189 activation_50\n",
            "190 activation_53\n",
            "191 block35_7_mixed\n",
            "192 block35_7_conv\n",
            "193 block35_7\n",
            "194 block35_7_ac\n",
            "195 conv2d_57\n",
            "196 batch_normalization_57\n",
            "197 activation_57\n",
            "198 conv2d_55\n",
            "199 conv2d_58\n",
            "200 batch_normalization_55\n",
            "201 batch_normalization_58\n",
            "202 activation_55\n",
            "203 activation_58\n",
            "204 conv2d_54\n",
            "205 conv2d_56\n",
            "206 conv2d_59\n",
            "207 batch_normalization_54\n",
            "208 batch_normalization_56\n",
            "209 batch_normalization_59\n",
            "210 activation_54\n",
            "211 activation_56\n",
            "212 activation_59\n",
            "213 block35_8_mixed\n",
            "214 block35_8_conv\n",
            "215 block35_8\n",
            "216 block35_8_ac\n",
            "217 conv2d_63\n",
            "218 batch_normalization_63\n",
            "219 activation_63\n",
            "220 conv2d_61\n",
            "221 conv2d_64\n",
            "222 batch_normalization_61\n",
            "223 batch_normalization_64\n",
            "224 activation_61\n",
            "225 activation_64\n",
            "226 conv2d_60\n",
            "227 conv2d_62\n",
            "228 conv2d_65\n",
            "229 batch_normalization_60\n",
            "230 batch_normalization_62\n",
            "231 batch_normalization_65\n",
            "232 activation_60\n",
            "233 activation_62\n",
            "234 activation_65\n",
            "235 block35_9_mixed\n",
            "236 block35_9_conv\n",
            "237 block35_9\n",
            "238 block35_9_ac\n",
            "239 conv2d_69\n",
            "240 batch_normalization_69\n",
            "241 activation_69\n",
            "242 conv2d_67\n",
            "243 conv2d_70\n",
            "244 batch_normalization_67\n",
            "245 batch_normalization_70\n",
            "246 activation_67\n",
            "247 activation_70\n",
            "248 conv2d_66\n",
            "249 conv2d_68\n",
            "250 conv2d_71\n",
            "251 batch_normalization_66\n",
            "252 batch_normalization_68\n",
            "253 batch_normalization_71\n",
            "254 activation_66\n",
            "255 activation_68\n",
            "256 activation_71\n",
            "257 block35_10_mixed\n",
            "258 block35_10_conv\n",
            "259 block35_10\n",
            "260 block35_10_ac\n",
            "261 conv2d_73\n",
            "262 batch_normalization_73\n",
            "263 activation_73\n",
            "264 conv2d_74\n",
            "265 batch_normalization_74\n",
            "266 activation_74\n",
            "267 conv2d_72\n",
            "268 conv2d_75\n",
            "269 batch_normalization_72\n",
            "270 batch_normalization_75\n",
            "271 activation_72\n",
            "272 activation_75\n",
            "273 max_pooling2d_2\n",
            "274 mixed_6a\n",
            "275 conv2d_77\n",
            "276 batch_normalization_77\n",
            "277 activation_77\n",
            "278 conv2d_78\n",
            "279 batch_normalization_78\n",
            "280 activation_78\n",
            "281 conv2d_76\n",
            "282 conv2d_79\n",
            "283 batch_normalization_76\n",
            "284 batch_normalization_79\n",
            "285 activation_76\n",
            "286 activation_79\n",
            "287 block17_1_mixed\n",
            "288 block17_1_conv\n",
            "289 block17_1\n",
            "290 block17_1_ac\n",
            "291 conv2d_81\n",
            "292 batch_normalization_81\n",
            "293 activation_81\n",
            "294 conv2d_82\n",
            "295 batch_normalization_82\n",
            "296 activation_82\n",
            "297 conv2d_80\n",
            "298 conv2d_83\n",
            "299 batch_normalization_80\n",
            "300 batch_normalization_83\n",
            "301 activation_80\n",
            "302 activation_83\n",
            "303 block17_2_mixed\n",
            "304 block17_2_conv\n",
            "305 block17_2\n",
            "306 block17_2_ac\n",
            "307 conv2d_85\n",
            "308 batch_normalization_85\n",
            "309 activation_85\n",
            "310 conv2d_86\n",
            "311 batch_normalization_86\n",
            "312 activation_86\n",
            "313 conv2d_84\n",
            "314 conv2d_87\n",
            "315 batch_normalization_84\n",
            "316 batch_normalization_87\n",
            "317 activation_84\n",
            "318 activation_87\n",
            "319 block17_3_mixed\n",
            "320 block17_3_conv\n",
            "321 block17_3\n",
            "322 block17_3_ac\n",
            "323 conv2d_89\n",
            "324 batch_normalization_89\n",
            "325 activation_89\n",
            "326 conv2d_90\n",
            "327 batch_normalization_90\n",
            "328 activation_90\n",
            "329 conv2d_88\n",
            "330 conv2d_91\n",
            "331 batch_normalization_88\n",
            "332 batch_normalization_91\n",
            "333 activation_88\n",
            "334 activation_91\n",
            "335 block17_4_mixed\n",
            "336 block17_4_conv\n",
            "337 block17_4\n",
            "338 block17_4_ac\n",
            "339 conv2d_93\n",
            "340 batch_normalization_93\n",
            "341 activation_93\n",
            "342 conv2d_94\n",
            "343 batch_normalization_94\n",
            "344 activation_94\n",
            "345 conv2d_92\n",
            "346 conv2d_95\n",
            "347 batch_normalization_92\n",
            "348 batch_normalization_95\n",
            "349 activation_92\n",
            "350 activation_95\n",
            "351 block17_5_mixed\n",
            "352 block17_5_conv\n",
            "353 block17_5\n",
            "354 block17_5_ac\n",
            "355 conv2d_97\n",
            "356 batch_normalization_97\n",
            "357 activation_97\n",
            "358 conv2d_98\n",
            "359 batch_normalization_98\n",
            "360 activation_98\n",
            "361 conv2d_96\n",
            "362 conv2d_99\n",
            "363 batch_normalization_96\n",
            "364 batch_normalization_99\n",
            "365 activation_96\n",
            "366 activation_99\n",
            "367 block17_6_mixed\n",
            "368 block17_6_conv\n",
            "369 block17_6\n",
            "370 block17_6_ac\n",
            "371 conv2d_101\n",
            "372 batch_normalization_101\n",
            "373 activation_101\n",
            "374 conv2d_102\n",
            "375 batch_normalization_102\n",
            "376 activation_102\n",
            "377 conv2d_100\n",
            "378 conv2d_103\n",
            "379 batch_normalization_100\n",
            "380 batch_normalization_103\n",
            "381 activation_100\n",
            "382 activation_103\n",
            "383 block17_7_mixed\n",
            "384 block17_7_conv\n",
            "385 block17_7\n",
            "386 block17_7_ac\n",
            "387 conv2d_105\n",
            "388 batch_normalization_105\n",
            "389 activation_105\n",
            "390 conv2d_106\n",
            "391 batch_normalization_106\n",
            "392 activation_106\n",
            "393 conv2d_104\n",
            "394 conv2d_107\n",
            "395 batch_normalization_104\n",
            "396 batch_normalization_107\n",
            "397 activation_104\n",
            "398 activation_107\n",
            "399 block17_8_mixed\n",
            "400 block17_8_conv\n",
            "401 block17_8\n",
            "402 block17_8_ac\n",
            "403 conv2d_109\n",
            "404 batch_normalization_109\n",
            "405 activation_109\n",
            "406 conv2d_110\n",
            "407 batch_normalization_110\n",
            "408 activation_110\n",
            "409 conv2d_108\n",
            "410 conv2d_111\n",
            "411 batch_normalization_108\n",
            "412 batch_normalization_111\n",
            "413 activation_108\n",
            "414 activation_111\n",
            "415 block17_9_mixed\n",
            "416 block17_9_conv\n",
            "417 block17_9\n",
            "418 block17_9_ac\n",
            "419 conv2d_113\n",
            "420 batch_normalization_113\n",
            "421 activation_113\n",
            "422 conv2d_114\n",
            "423 batch_normalization_114\n",
            "424 activation_114\n",
            "425 conv2d_112\n",
            "426 conv2d_115\n",
            "427 batch_normalization_112\n",
            "428 batch_normalization_115\n",
            "429 activation_112\n",
            "430 activation_115\n",
            "431 block17_10_mixed\n",
            "432 block17_10_conv\n",
            "433 block17_10\n",
            "434 block17_10_ac\n",
            "435 conv2d_117\n",
            "436 batch_normalization_117\n",
            "437 activation_117\n",
            "438 conv2d_118\n",
            "439 batch_normalization_118\n",
            "440 activation_118\n",
            "441 conv2d_116\n",
            "442 conv2d_119\n",
            "443 batch_normalization_116\n",
            "444 batch_normalization_119\n",
            "445 activation_116\n",
            "446 activation_119\n",
            "447 block17_11_mixed\n",
            "448 block17_11_conv\n",
            "449 block17_11\n",
            "450 block17_11_ac\n",
            "451 conv2d_121\n",
            "452 batch_normalization_121\n",
            "453 activation_121\n",
            "454 conv2d_122\n",
            "455 batch_normalization_122\n",
            "456 activation_122\n",
            "457 conv2d_120\n",
            "458 conv2d_123\n",
            "459 batch_normalization_120\n",
            "460 batch_normalization_123\n",
            "461 activation_120\n",
            "462 activation_123\n",
            "463 block17_12_mixed\n",
            "464 block17_12_conv\n",
            "465 block17_12\n",
            "466 block17_12_ac\n",
            "467 conv2d_125\n",
            "468 batch_normalization_125\n",
            "469 activation_125\n",
            "470 conv2d_126\n",
            "471 batch_normalization_126\n",
            "472 activation_126\n",
            "473 conv2d_124\n",
            "474 conv2d_127\n",
            "475 batch_normalization_124\n",
            "476 batch_normalization_127\n",
            "477 activation_124\n",
            "478 activation_127\n",
            "479 block17_13_mixed\n",
            "480 block17_13_conv\n",
            "481 block17_13\n",
            "482 block17_13_ac\n",
            "483 conv2d_129\n",
            "484 batch_normalization_129\n",
            "485 activation_129\n",
            "486 conv2d_130\n",
            "487 batch_normalization_130\n",
            "488 activation_130\n",
            "489 conv2d_128\n",
            "490 conv2d_131\n",
            "491 batch_normalization_128\n",
            "492 batch_normalization_131\n",
            "493 activation_128\n",
            "494 activation_131\n",
            "495 block17_14_mixed\n",
            "496 block17_14_conv\n",
            "497 block17_14\n",
            "498 block17_14_ac\n",
            "499 conv2d_133\n",
            "500 batch_normalization_133\n",
            "501 activation_133\n",
            "502 conv2d_134\n",
            "503 batch_normalization_134\n",
            "504 activation_134\n",
            "505 conv2d_132\n",
            "506 conv2d_135\n",
            "507 batch_normalization_132\n",
            "508 batch_normalization_135\n",
            "509 activation_132\n",
            "510 activation_135\n",
            "511 block17_15_mixed\n",
            "512 block17_15_conv\n",
            "513 block17_15\n",
            "514 block17_15_ac\n",
            "515 conv2d_137\n",
            "516 batch_normalization_137\n",
            "517 activation_137\n",
            "518 conv2d_138\n",
            "519 batch_normalization_138\n",
            "520 activation_138\n",
            "521 conv2d_136\n",
            "522 conv2d_139\n",
            "523 batch_normalization_136\n",
            "524 batch_normalization_139\n",
            "525 activation_136\n",
            "526 activation_139\n",
            "527 block17_16_mixed\n",
            "528 block17_16_conv\n",
            "529 block17_16\n",
            "530 block17_16_ac\n",
            "531 conv2d_141\n",
            "532 batch_normalization_141\n",
            "533 activation_141\n",
            "534 conv2d_142\n",
            "535 batch_normalization_142\n",
            "536 activation_142\n",
            "537 conv2d_140\n",
            "538 conv2d_143\n",
            "539 batch_normalization_140\n",
            "540 batch_normalization_143\n",
            "541 activation_140\n",
            "542 activation_143\n",
            "543 block17_17_mixed\n",
            "544 block17_17_conv\n",
            "545 block17_17\n",
            "546 block17_17_ac\n",
            "547 conv2d_145\n",
            "548 batch_normalization_145\n",
            "549 activation_145\n",
            "550 conv2d_146\n",
            "551 batch_normalization_146\n",
            "552 activation_146\n",
            "553 conv2d_144\n",
            "554 conv2d_147\n",
            "555 batch_normalization_144\n",
            "556 batch_normalization_147\n",
            "557 activation_144\n",
            "558 activation_147\n",
            "559 block17_18_mixed\n",
            "560 block17_18_conv\n",
            "561 block17_18\n",
            "562 block17_18_ac\n",
            "563 conv2d_149\n",
            "564 batch_normalization_149\n",
            "565 activation_149\n",
            "566 conv2d_150\n",
            "567 batch_normalization_150\n",
            "568 activation_150\n",
            "569 conv2d_148\n",
            "570 conv2d_151\n",
            "571 batch_normalization_148\n",
            "572 batch_normalization_151\n",
            "573 activation_148\n",
            "574 activation_151\n",
            "575 block17_19_mixed\n",
            "576 block17_19_conv\n",
            "577 block17_19\n",
            "578 block17_19_ac\n",
            "579 conv2d_153\n",
            "580 batch_normalization_153\n",
            "581 activation_153\n",
            "582 conv2d_154\n",
            "583 batch_normalization_154\n",
            "584 activation_154\n",
            "585 conv2d_152\n",
            "586 conv2d_155\n",
            "587 batch_normalization_152\n",
            "588 batch_normalization_155\n",
            "589 activation_152\n",
            "590 activation_155\n",
            "591 block17_20_mixed\n",
            "592 block17_20_conv\n",
            "593 block17_20\n",
            "594 block17_20_ac\n",
            "595 conv2d_160\n",
            "596 batch_normalization_160\n",
            "597 activation_160\n",
            "598 conv2d_156\n",
            "599 conv2d_158\n",
            "600 conv2d_161\n",
            "601 batch_normalization_156\n",
            "602 batch_normalization_158\n",
            "603 batch_normalization_161\n",
            "604 activation_156\n",
            "605 activation_158\n",
            "606 activation_161\n",
            "607 conv2d_157\n",
            "608 conv2d_159\n",
            "609 conv2d_162\n",
            "610 batch_normalization_157\n",
            "611 batch_normalization_159\n",
            "612 batch_normalization_162\n",
            "613 activation_157\n",
            "614 activation_159\n",
            "615 activation_162\n",
            "616 max_pooling2d_3\n",
            "617 mixed_7a\n",
            "618 conv2d_164\n",
            "619 batch_normalization_164\n",
            "620 activation_164\n",
            "621 conv2d_165\n",
            "622 batch_normalization_165\n",
            "623 activation_165\n",
            "624 conv2d_163\n",
            "625 conv2d_166\n",
            "626 batch_normalization_163\n",
            "627 batch_normalization_166\n",
            "628 activation_163\n",
            "629 activation_166\n",
            "630 block8_1_mixed\n",
            "631 block8_1_conv\n",
            "632 block8_1\n",
            "633 block8_1_ac\n",
            "634 conv2d_168\n",
            "635 batch_normalization_168\n",
            "636 activation_168\n",
            "637 conv2d_169\n",
            "638 batch_normalization_169\n",
            "639 activation_169\n",
            "640 conv2d_167\n",
            "641 conv2d_170\n",
            "642 batch_normalization_167\n",
            "643 batch_normalization_170\n",
            "644 activation_167\n",
            "645 activation_170\n",
            "646 block8_2_mixed\n",
            "647 block8_2_conv\n",
            "648 block8_2\n",
            "649 block8_2_ac\n",
            "650 conv2d_172\n",
            "651 batch_normalization_172\n",
            "652 activation_172\n",
            "653 conv2d_173\n",
            "654 batch_normalization_173\n",
            "655 activation_173\n",
            "656 conv2d_171\n",
            "657 conv2d_174\n",
            "658 batch_normalization_171\n",
            "659 batch_normalization_174\n",
            "660 activation_171\n",
            "661 activation_174\n",
            "662 block8_3_mixed\n",
            "663 block8_3_conv\n",
            "664 block8_3\n",
            "665 block8_3_ac\n",
            "666 conv2d_176\n",
            "667 batch_normalization_176\n",
            "668 activation_176\n",
            "669 conv2d_177\n",
            "670 batch_normalization_177\n",
            "671 activation_177\n",
            "672 conv2d_175\n",
            "673 conv2d_178\n",
            "674 batch_normalization_175\n",
            "675 batch_normalization_178\n",
            "676 activation_175\n",
            "677 activation_178\n",
            "678 block8_4_mixed\n",
            "679 block8_4_conv\n",
            "680 block8_4\n",
            "681 block8_4_ac\n",
            "682 conv2d_180\n",
            "683 batch_normalization_180\n",
            "684 activation_180\n",
            "685 conv2d_181\n",
            "686 batch_normalization_181\n",
            "687 activation_181\n",
            "688 conv2d_179\n",
            "689 conv2d_182\n",
            "690 batch_normalization_179\n",
            "691 batch_normalization_182\n",
            "692 activation_179\n",
            "693 activation_182\n",
            "694 block8_5_mixed\n",
            "695 block8_5_conv\n",
            "696 block8_5\n",
            "697 block8_5_ac\n",
            "698 conv2d_184\n",
            "699 batch_normalization_184\n",
            "700 activation_184\n",
            "701 conv2d_185\n",
            "702 batch_normalization_185\n",
            "703 activation_185\n",
            "704 conv2d_183\n",
            "705 conv2d_186\n",
            "706 batch_normalization_183\n",
            "707 batch_normalization_186\n",
            "708 activation_183\n",
            "709 activation_186\n",
            "710 block8_6_mixed\n",
            "711 block8_6_conv\n",
            "712 block8_6\n",
            "713 block8_6_ac\n",
            "714 conv2d_188\n",
            "715 batch_normalization_188\n",
            "716 activation_188\n",
            "717 conv2d_189\n",
            "718 batch_normalization_189\n",
            "719 activation_189\n",
            "720 conv2d_187\n",
            "721 conv2d_190\n",
            "722 batch_normalization_187\n",
            "723 batch_normalization_190\n",
            "724 activation_187\n",
            "725 activation_190\n",
            "726 block8_7_mixed\n",
            "727 block8_7_conv\n",
            "728 block8_7\n",
            "729 block8_7_ac\n",
            "730 conv2d_192\n",
            "731 batch_normalization_192\n",
            "732 activation_192\n",
            "733 conv2d_193\n",
            "734 batch_normalization_193\n",
            "735 activation_193\n",
            "736 conv2d_191\n",
            "737 conv2d_194\n",
            "738 batch_normalization_191\n",
            "739 batch_normalization_194\n",
            "740 activation_191\n",
            "741 activation_194\n",
            "742 block8_8_mixed\n",
            "743 block8_8_conv\n",
            "744 block8_8\n",
            "745 block8_8_ac\n",
            "746 conv2d_196\n",
            "747 batch_normalization_196\n",
            "748 activation_196\n",
            "749 conv2d_197\n",
            "750 batch_normalization_197\n",
            "751 activation_197\n",
            "752 conv2d_195\n",
            "753 conv2d_198\n",
            "754 batch_normalization_195\n",
            "755 batch_normalization_198\n",
            "756 activation_195\n",
            "757 activation_198\n",
            "758 block8_9_mixed\n",
            "759 block8_9_conv\n",
            "760 block8_9\n",
            "761 block8_9_ac\n",
            "762 conv2d_200\n",
            "763 batch_normalization_200\n",
            "764 activation_200\n",
            "765 conv2d_201\n",
            "766 batch_normalization_201\n",
            "767 activation_201\n",
            "768 conv2d_199\n",
            "769 conv2d_202\n",
            "770 batch_normalization_199\n",
            "771 batch_normalization_202\n",
            "772 activation_199\n",
            "773 activation_202\n",
            "774 block8_10_mixed\n",
            "775 block8_10_conv\n",
            "776 block8_10\n",
            "777 conv_7b\n",
            "778 conv_7b_bn\n",
            "779 conv_7b_ac\n"
          ],
          "name": "stdout"
        }
      ]
    },
    {
      "cell_type": "code",
      "metadata": {
        "id": "qKS_p6t5im1w",
        "colab_type": "code",
        "colab": {}
      },
      "source": [
        "base_model.trainable = True\n",
        "\n",
        "fine_tune_at = 618\n",
        "for layer in base_model.layers[:fine_tune_at]:\n",
        "  layer.trainable =  False"
      ],
      "execution_count": 0,
      "outputs": []
    },
    {
      "cell_type": "code",
      "metadata": {
        "id": "LHxoXp8oJZG9",
        "colab_type": "code",
        "outputId": "0affe74e-f73a-442b-e5cc-1938e640a6a0",
        "colab": {
          "base_uri": "https://localhost:8080/",
          "height": 323
        }
      },
      "source": [
        "model = tf.keras.models.Sequential([\n",
        "  base_model,\n",
        "  tf.keras.layers.Dropout(0.5),\n",
        "  tf.keras.layers.Flatten(),\n",
        "  tf.keras.layers.Dense(512, activation='relu'),\n",
        "  tf.keras.layers.Dense(10, activation='softmax')\n",
        "])\n",
        "\n",
        "model.summary()"
      ],
      "execution_count": 6,
      "outputs": [
        {
          "output_type": "stream",
          "text": [
            "Model: \"sequential\"\n",
            "_________________________________________________________________\n",
            "Layer (type)                 Output Shape              Param #   \n",
            "=================================================================\n",
            "inception_resnet_v2 (Model)  (None, 6, 6, 1536)        54336736  \n",
            "_________________________________________________________________\n",
            "dropout (Dropout)            (None, 6, 6, 1536)        0         \n",
            "_________________________________________________________________\n",
            "flatten (Flatten)            (None, 55296)             0         \n",
            "_________________________________________________________________\n",
            "dense (Dense)                (None, 512)               28312064  \n",
            "_________________________________________________________________\n",
            "dense_1 (Dense)              (None, 10)                5130      \n",
            "=================================================================\n",
            "Total params: 82,653,930\n",
            "Trainable params: 51,859,210\n",
            "Non-trainable params: 30,794,720\n",
            "_________________________________________________________________\n"
          ],
          "name": "stdout"
        }
      ]
    },
    {
      "cell_type": "markdown",
      "metadata": {
        "id": "Uyxc32X_AGxr",
        "colab_type": "text"
      },
      "source": [
        "# **Define Learning Parameter**"
      ]
    },
    {
      "cell_type": "code",
      "metadata": {
        "id": "m4md_AcCJmLP",
        "colab_type": "code",
        "colab": {}
      },
      "source": [
        "model.compile(loss = 'categorical_crossentropy', optimizer='adam', metrics=['accuracy'])"
      ],
      "execution_count": 0,
      "outputs": []
    },
    {
      "cell_type": "markdown",
      "metadata": {
        "id": "KUBWHWfFAKT1",
        "colab_type": "text"
      },
      "source": [
        "# **Begin Training**"
      ]
    },
    {
      "cell_type": "code",
      "metadata": {
        "id": "OroSPil1Jtze",
        "colab_type": "code",
        "outputId": "8d12cebb-37aa-488e-ba98-7e0025d11e10",
        "colab": {
          "base_uri": "https://localhost:8080/",
          "height": 697
        }
      },
      "source": [
        "history = model.fit(train_generator, epochs=20, validation_data=validation_generator)"
      ],
      "execution_count": 8,
      "outputs": [
        {
          "output_type": "stream",
          "text": [
            "Epoch 1/20\n",
            "144/144 [==============================] - 357s 2s/step - loss: 2.6421 - accuracy: 0.4792 - val_loss: 2983.8701 - val_accuracy: 0.1832\n",
            "Epoch 2/20\n",
            "144/144 [==============================] - 353s 2s/step - loss: 0.4949 - accuracy: 0.8325 - val_loss: 0.4872 - val_accuracy: 0.8379\n",
            "Epoch 3/20\n",
            "144/144 [==============================] - 354s 2s/step - loss: 0.2561 - accuracy: 0.9209 - val_loss: 1.4374 - val_accuracy: 0.8763\n",
            "Epoch 4/20\n",
            "144/144 [==============================] - 353s 2s/step - loss: 0.1724 - accuracy: 0.9438 - val_loss: 0.2144 - val_accuracy: 0.9324\n",
            "Epoch 5/20\n",
            "144/144 [==============================] - 352s 2s/step - loss: 0.2679 - accuracy: 0.9377 - val_loss: 0.7818 - val_accuracy: 0.7863\n",
            "Epoch 6/20\n",
            "144/144 [==============================] - 352s 2s/step - loss: 0.1538 - accuracy: 0.9500 - val_loss: 0.3916 - val_accuracy: 0.8811\n",
            "Epoch 7/20\n",
            "144/144 [==============================] - 351s 2s/step - loss: 0.1091 - accuracy: 0.9627 - val_loss: 0.1893 - val_accuracy: 0.9420\n",
            "Epoch 8/20\n",
            "144/144 [==============================] - 353s 2s/step - loss: 0.0961 - accuracy: 0.9691 - val_loss: 0.1367 - val_accuracy: 0.9573\n",
            "Epoch 9/20\n",
            "144/144 [==============================] - 354s 2s/step - loss: 0.0822 - accuracy: 0.9722 - val_loss: 0.1572 - val_accuracy: 0.9487\n",
            "Epoch 10/20\n",
            "144/144 [==============================] - 352s 2s/step - loss: 0.0693 - accuracy: 0.9766 - val_loss: 0.1139 - val_accuracy: 0.9629\n",
            "Epoch 11/20\n",
            "144/144 [==============================] - 352s 2s/step - loss: 0.0741 - accuracy: 0.9759 - val_loss: 0.0875 - val_accuracy: 0.9727\n",
            "Epoch 12/20\n",
            "144/144 [==============================] - 352s 2s/step - loss: 0.0622 - accuracy: 0.9793 - val_loss: 0.0890 - val_accuracy: 0.9745\n",
            "Epoch 13/20\n",
            "144/144 [==============================] - 353s 2s/step - loss: 0.0620 - accuracy: 0.9797 - val_loss: 0.0721 - val_accuracy: 0.9788\n",
            "Epoch 14/20\n",
            "144/144 [==============================] - 359s 2s/step - loss: 0.0582 - accuracy: 0.9801 - val_loss: 0.1160 - val_accuracy: 0.9634\n",
            "Epoch 15/20\n",
            "144/144 [==============================] - 360s 2s/step - loss: 0.1168 - accuracy: 0.9704 - val_loss: 0.1254 - val_accuracy: 0.9566\n",
            "Epoch 16/20\n",
            "144/144 [==============================] - 353s 2s/step - loss: 0.0700 - accuracy: 0.9773 - val_loss: 47.4077 - val_accuracy: 0.9071\n",
            "Epoch 17/20\n",
            "144/144 [==============================] - 352s 2s/step - loss: 0.0698 - accuracy: 0.9754 - val_loss: 0.1121 - val_accuracy: 0.9658\n",
            "Epoch 18/20\n",
            "144/144 [==============================] - 352s 2s/step - loss: 0.0487 - accuracy: 0.9836 - val_loss: 0.0877 - val_accuracy: 0.9727\n",
            "Epoch 19/20\n",
            "144/144 [==============================] - 351s 2s/step - loss: 0.0503 - accuracy: 0.9828 - val_loss: 0.0829 - val_accuracy: 0.9756\n",
            "Epoch 20/20\n",
            "144/144 [==============================] - 350s 2s/step - loss: 0.0471 - accuracy: 0.9840 - val_loss: 0.1381 - val_accuracy: 0.9631\n"
          ],
          "name": "stdout"
        }
      ]
    },
    {
      "cell_type": "markdown",
      "metadata": {
        "id": "exhbGtNqAOMR",
        "colab_type": "text"
      },
      "source": [
        "# **Plot Training Results**"
      ]
    },
    {
      "cell_type": "code",
      "metadata": {
        "id": "fgRddGypJ-PM",
        "colab_type": "code",
        "outputId": "1238a46c-af71-469e-f275-458c6abd1965",
        "colab": {
          "base_uri": "https://localhost:8080/",
          "height": 579
        }
      },
      "source": [
        "acc = history.history['accuracy']\n",
        "val_acc = history.history['val_accuracy']\n",
        "loss = history.history['loss']\n",
        "val_loss = history.history['val_loss']\n",
        "\n",
        "epochs = range(len(acc))\n",
        "\n",
        "plt.ylim(0.8, 1)\n",
        "plt.xlim(0, 20)\n",
        "plt.plot(epochs, acc, 'r', label='Training accuracy')\n",
        "plt.plot(epochs, val_acc, 'b', label='Validation accuracy')\n",
        "plt.title('Training and Validation Accuracy')\n",
        "plt.legend(loc=0)\n",
        "plt.figure()\n",
        "plt.show()\n",
        "\n",
        "plt.ylim(0, 2)\n",
        "plt.xlim(0, 20)\n",
        "plt.plot(epochs, loss, 'r', label='Training loss')\n",
        "plt.plot(epochs, val_loss, 'b', label='Validation loss')\n",
        "plt.title('Training and Validation Loss')\n",
        "plt.legend(loc=0)\n",
        "plt.figure()\n",
        "plt.show()"
      ],
      "execution_count": 10,
      "outputs": [
        {
          "output_type": "display_data",
          "data": {
            "image/png": "[encoded data removed]",
            "text/plain": [
              "<Figure size 432x288 with 1 Axes>"
            ]
          },
          "metadata": {
            "tags": [],
            "needs_background": "light"
          }
        },
        {
          "output_type": "display_data",
          "data": {
            "text/plain": [
              "<Figure size 432x288 with 0 Axes>"
            ]
          },
          "metadata": {
            "tags": []
          }
        },
        {
          "output_type": "display_data",
          "data": {
            "image/png": "[encoded data removed]",
            "text/plain": [
              "<Figure size 432x288 with 1 Axes>"
            ]
          },
          "metadata": {
            "tags": [],
            "needs_background": "light"
          }
        },
        {
          "output_type": "display_data",
          "data": {
            "text/plain": [
              "<Figure size 432x288 with 0 Axes>"
            ]
          },
          "metadata": {
            "tags": []
          }
        }
      ]
    },
    {
      "cell_type": "markdown",
      "metadata": {
        "id": "YU_WnrdZARqm",
        "colab_type": "text"
      },
      "source": [
        "# **Save Model**"
      ]
    },
    {
      "cell_type": "code",
      "metadata": {
        "id": "GsNf983i56fg",
        "colab_type": "code",
        "outputId": "c97064a5-5f22-40de-d501-4bcf1ec104b4",
        "colab": {
          "base_uri": "https://localhost:8080/",
          "height": 224
        }
      },
      "source": [
        "export_path = \"/content/saved_model\"\n",
        "\n",
        "try: \n",
        "  os.mkdir(export_path) \n",
        "except OSError as error: \n",
        "  print(error) \n",
        "\n",
        "tf.keras.models.save_model(\n",
        "    model,\n",
        "    export_path,\n",
        "    overwrite=True,\n",
        "    include_optimizer=True,\n",
        "    save_format=None,\n",
        "    signatures=None,\n",
        "    options=None\n",
        ")\n",
        "\n",
        "print('\\nSaved model:')\n",
        "!ls -l {export_path}"
      ],
      "execution_count": 11,
      "outputs": [
        {
          "output_type": "stream",
          "text": [
            "[Errno 17] File exists: '/content/saved_model'\n",
            "WARNING:tensorflow:From /usr/local/lib/python3.6/dist-packages/tensorflow/python/ops/resource_variable_ops.py:1817: calling BaseResourceVariable.__init__ (from tensorflow.python.ops.resource_variable_ops) with constraint is deprecated and will be removed in a future version.\n",
            "Instructions for updating:\n",
            "If using Keras pass *_constraint arguments to layers.\n",
            "INFO:tensorflow:Assets written to: /content/saved_model/assets\n",
            "\n",
            "Saved model:\n",
            "total 17220\n",
            "drwxr-xr-x 2 root root     4096 May 31 04:17 assets\n",
            "-rw-r--r-- 1 root root 17623711 May 31 06:29 saved_model.pb\n",
            "drwxr-xr-x 2 root root     4096 May 31 06:29 variables\n"
          ],
          "name": "stdout"
        }
      ]
    },
    {
      "cell_type": "markdown",
      "metadata": {
        "id": "q7B1xWYEAhRO",
        "colab_type": "text"
      },
      "source": [
        "# **Download Saved Model**"
      ]
    },
    {
      "cell_type": "code",
      "metadata": {
        "id": "CQqzQDapAkZJ",
        "colab_type": "code",
        "outputId": "b18ed7ad-1c32-44c2-bcd1-4a8fc447926e",
        "colab": {
          "base_uri": "https://localhost:8080/",
          "height": 136
        }
      },
      "source": [
        "!zip -r /content/saved_model_inceptionresnetv2.zip /content/saved_model"
      ],
      "execution_count": 12,
      "outputs": [
        {
          "output_type": "stream",
          "text": [
            "  adding: content/saved_model/ (stored 0%)\n",
            "  adding: content/saved_model/saved_model.pb (deflated 93%)\n",
            "  adding: content/saved_model/assets/ (stored 0%)\n",
            "  adding: content/saved_model/variables/ (stored 0%)\n",
            "  adding: content/saved_model/variables/variables.index (deflated 79%)\n",
            "  adding: content/saved_model/variables/variables.data-00000-of-00002 (deflated 83%)\n",
            "  adding: content/saved_model/variables/variables.data-00001-of-00002 (deflated 18%)\n"
          ],
          "name": "stdout"
        }
      ]
    },
    {
      "cell_type": "code",
      "metadata": {
        "id": "6qoVflybAleo",
        "colab_type": "code",
        "colab": {}
      },
      "source": [
        "files.download(\"/content/saved_model_inceptionresnetv2.zip\")"
      ],
      "execution_count": 0,
      "outputs": []
    },
    {
      "cell_type": "markdown",
      "metadata": {
        "id": "TMpvoyht8mfS",
        "colab_type": "text"
      },
      "source": [
        "# **Save to Google Drive**"
      ]
    },
    {
      "cell_type": "code",
      "metadata": {
        "id": "x7rMsKS-8ltG",
        "colab_type": "code",
        "colab": {}
      },
      "source": [
        "from google.colab import drive\n",
        "drive.mount('/content/gdrive/')"
      ],
      "execution_count": 0,
      "outputs": []
    },
    {
      "cell_type": "code",
      "metadata": {
        "id": "LWMC-SsT9pfq",
        "colab_type": "code",
        "colab": {}
      },
      "source": [
        "!cp saved_model_inceptionresnetv2.zip '/content/gdrive/My Drive/Saved Model/'"
      ],
      "execution_count": 0,
      "outputs": []
    },
    {
      "cell_type": "markdown",
      "metadata": {
        "id": "R2hue0PIAs_d",
        "colab_type": "text"
      },
      "source": [
        "# **Upload Saved Model**"
      ]
    },
    {
      "cell_type": "code",
      "metadata": {
        "id": "cku5_pQKCBhc",
        "colab_type": "code",
        "colab": {}
      },
      "source": [
        "uploaded = files.upload()\n",
        "!unzip /content/saved_model_inceptionresnetv2.zip\n",
        "model = tf.keras.models.load_model('/content/saved_model/')\n",
        "model.summary()"
      ],
      "execution_count": 0,
      "outputs": []
    },
    {
      "cell_type": "markdown",
      "metadata": {
        "id": "b002bdfHL8oO",
        "colab_type": "text"
      },
      "source": [
        "# **Upload Saved Model From Google Drive**"
      ]
    },
    {
      "cell_type": "code",
      "metadata": {
        "id": "FdZRa9NaMCMo",
        "colab_type": "code",
        "colab": {}
      },
      "source": [
        "from google.colab import drive\n",
        "drive.mount('/content/gdrive/')"
      ],
      "execution_count": 0,
      "outputs": []
    },
    {
      "cell_type": "code",
      "metadata": {
        "id": "lR6dq8kvMRHy",
        "colab_type": "code",
        "colab": {}
      },
      "source": [
        "!cp '/content/gdrive/My Drive/Saved Model/saved_model_inceptionresnetv2.zip' /content/\n",
        "!unzip /content/saved_model_inceptionresnetv2.zip\n",
        "model = tf.keras.models.load_model('/content/saved_model/')\n",
        "model.summary()"
      ],
      "execution_count": 0,
      "outputs": []
    },
    {
      "cell_type": "markdown",
      "metadata": {
        "id": "kAkWoG6AA4kN",
        "colab_type": "text"
      },
      "source": [
        "# **Try Classification**"
      ]
    },
    {
      "cell_type": "code",
      "metadata": {
        "id": "gqM8HjQjXSNo",
        "colab_type": "code",
        "outputId": "7a7fe015-03a1-4545-8891-e796eea59243",
        "colab": {
          "resources": {
            "http://localhost:8080/nbextensions/google.colab/files.js": {
              "data": "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",
              "ok": true,
              "headers": [
                [
                  "content-type",
                  "application/javascript"
                ]
              ],
              "status": 200,
              "status_text": ""
            }
          },
          "base_uri": "https://localhost:8080/",
          "height": 179
        }
      },
      "source": [
        "from google.colab import files\n",
        "\n",
        "file = files.upload()\n",
        "\n",
        "img = image.load_img(list(file.keys())[0], target_size=(256, 256))\n",
        "img = image.img_to_array(img)\n",
        "img = img.reshape(1, 256, 256, 3)\n",
        "img = img.astype('float32')\n",
        "img = img / 255.0\n",
        "result = model.predict(img)\n",
        "result = list(result[0]).index(max(result[0]))\n",
        "\n",
        "print(\"\\n\\nResult :\")\n",
        "\n",
        "if result == 0:\n",
        "  print(\"Bacterial Spot\")\n",
        "elif result == 1:\n",
        "  print(\"Early Blight\")\n",
        "elif result == 2:\n",
        "  print(\"Late Blight\")\n",
        "elif result == 3:\n",
        "  print(\"Leaf Mold\")\n",
        "elif result == 4:\n",
        "  print(\"Septoria Leaf Spot\")\n",
        "elif result == 5:\n",
        "  print(\"Spider Mites\")\n",
        "elif result == 6:\n",
        "  print(\"Target Spot\")\n",
        "elif result == 7:\n",
        "  print(\"Yellow Leaf Curl Virus\")\n",
        "elif result == 8:\n",
        "  print(\"Mosaic Virus\")\n",
        "else:\n",
        "  print(\"Healthy\")"
      ],
      "execution_count": 14,
      "outputs": [
        {
          "output_type": "display_data",
          "data": {
            "text/html": [
              "\n",
              "     <input type=\"file\" id=\"files-1a9d6fe2-d6bc-4f26-9af4-776c0c0eca7d\" name=\"files[]\" multiple disabled />\n",
              "     <output id=\"result-1a9d6fe2-d6bc-4f26-9af4-776c0c0eca7d\">\n",
              "      Upload widget is only available when the cell has been executed in the\n",
              "      current browser session. Please rerun this cell to enable.\n",
              "      </output>\n",
              "      <script src=\"/nbextensions/google.colab/files.js\"></script> "
            ],
            "text/plain": [
              "<IPython.core.display.HTML object>"
            ]
          },
          "metadata": {
            "tags": []
          }
        },
        {
          "output_type": "stream",
          "text": [
            "Saving datasets_259770_544347_New Plant Diseases Dataset(Augmented)_train_Tomato___Bacterial_spot_00416648-be6e-4bd4-bc8d-82f43f8a7240___GCREC_Bact.Sp 3110.jpg to datasets_259770_544347_New Plant Diseases Dataset(Augmented)_train_Tomato___Bacterial_spot_00416648-be6e-4bd4-bc8d-82f43f8a7240___GCREC_Bact.Sp 3110.jpg\n",
            "\n",
            "\n",
            "Result :\n",
            "Bacterial Spot\n"
          ],
          "name": "stdout"
        }
      ]
    }
  ]
}